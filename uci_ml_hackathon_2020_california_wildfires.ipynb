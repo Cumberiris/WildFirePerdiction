{
 "cells": [
  {
   "cell_type": "markdown",
   "metadata": {
    "slideshow": {
     "slide_type": "slide"
    }
   },
   "source": [
    "# California Wildfires\n",
    "### Donated by: Casey Graff (graffc@uci.edu)"
   ]
  },
  {
   "cell_type": "markdown",
   "metadata": {
    "slideshow": {
     "slide_type": "subslide"
    }
   },
   "source": [
    "* ### Task: 2D Classificaiton (similiar to image segmentation)\n",
    "* ### # of Instances: 10k train / 5k test (more upon request)\n",
    "* ### Data\n",
    "    * #### Input: 3D Image (# Channels, Height, Width)\n",
    "    * #### Output: 2D Classification Probabilites (Height, Width)"
   ]
  },
  {
   "cell_type": "markdown",
   "metadata": {
    "slideshow": {
     "slide_type": "subslide"
    }
   },
   "source": [
    "## Description\n",
    "\n",
    "This challenge dataset focuses on the spatiotemporal prediction problem of forecasting how wildfires will spread in 12 or 24 hour periods. \n",
    "\n",
    "**Active fires** are observed using the VIIRS (Visible Infrared Imaging Radiometer Suite) mounted on the Suomi National Polar-orbiting Partnership (NPP) satellite. \n",
    "\n",
    "These fires are influenced by **land cover**, **topography**, and **weather** (among others not captured in this dataset). \n",
    "\n",
    "All data sources have been rescaled to **375m / pixel**. Each image contains 30 x 30 pixels  for an effective real **area of 11.25km**."
   ]
  },
  {
   "cell_type": "markdown",
   "metadata": {},
   "source": [
    "## Data\n",
    "### I. VIIRS Fire Detections\n",
    "* 5 layers / time steps (T = 0, -12, -24, -36, -48 hours)\n",
    "* 2 targets (T = +12 hours, +24 hours)\n",
    "\n",
    "### II. Land Cover (LANDFIRE)\n",
    "* 17 layers (3 topographic, 10 vegetation, 4 fuel/canopy)\n",
    "\n",
    "### III. Meteorology (Rapid Refresh)\n",
    "* 2 time steps (T = 0, +12 hours) x 5 variables (temperature, humidity, etc.)"
   ]
  },
  {
   "cell_type": "markdown",
   "metadata": {},
   "source": [
    "### Imports + Setup"
   ]
  },
  {
   "cell_type": "code",
   "execution_count": 1,
   "metadata": {},
   "outputs": [],
   "source": [
    "import h5py\n",
    "import numpy as np\n",
    "import matplotlib.pyplot as plt\n",
    "import pandas as pd"
   ]
  },
  {
   "cell_type": "code",
   "execution_count": 2,
   "metadata": {},
   "outputs": [],
   "source": [
    "FIG_REG_WIDTH = 7\n",
    "FIG_REG_ASPECT_RATIO = 1.75\n",
    "\n",
    "def set_fig_settings(fig_size=(32,10), font_size=16, font_scale=1.6):       \n",
    "    plt.rcParams['figure.figsize'] = fig_size\n",
    "    plt.rcParams['mathtext.fontset'] = 'stix'\n",
    "    plt.rcParams[\"legend.framealpha\"] = 0\n",
    "\n",
    "    font = {'weight' : 'normal', 'size'   : font_size}\n",
    "\n",
    "    plt.rc('font', **font)"
   ]
  },
  {
   "cell_type": "markdown",
   "metadata": {},
   "source": [
    "### Data Loading"
   ]
  },
  {
   "cell_type": "code",
   "execution_count": 5,
   "metadata": {},
   "outputs": [],
   "source": [
    "DATASET_PATH = 'uci_ml_hackathon_fire_dataset_2012-05-09_2013-01-01_10k_train.hdf5'\n",
    "\n",
    "with h5py.File(DATASET_PATH, 'r') as f:\n",
    "    train_data = {}\n",
    "    for k in list(f):\n",
    "        train_data[k] = f[k][:]"
   ]
  },
  {
   "cell_type": "code",
   "execution_count": 6,
   "metadata": {},
   "outputs": [
    {
     "name": "stdout",
     "output_type": "stream",
     "text": [
      "dict_keys(['datetime', 'land_cover', 'latitude', 'longitude', 'meteorology', 'observed', 'target'])\n"
     ]
    }
   ],
   "source": [
    "print(train_data.keys())"
   ]
  },
  {
   "cell_type": "code",
   "execution_count": 7,
   "metadata": {},
   "outputs": [],
   "source": [
    "large_fire_inds = np.where(\n",
    "    (np.sum(train_data['observed'][:,0],axis=(1,2)) > 50) & \n",
    "    (np.sum(train_data['observed'][:,1],axis=(1,2)) > 50) & \n",
    "    (np.sum(train_data['observed'][:,2],axis=(1,2)) > 50) & \n",
    "    (np.sum(train_data['observed'][:,3],axis=(1,2)) > 50) & \n",
    "    (np.sum(train_data['observed'][:,4],axis=(1,2)) > 50) & \n",
    "    (np.sum(train_data['target'][:,0],axis=(1,2)) > 50) \n",
    ")[0]"
   ]
  },
  {
   "cell_type": "code",
   "execution_count": 8,
   "metadata": {},
   "outputs": [],
   "source": [
    "TRAINING_POINT = large_fire_inds[0]"
   ]
  },
  {
   "cell_type": "markdown",
   "metadata": {},
   "source": [
    "## I. VIIRS Detections (Observed + Target)\n",
    "\n",
    "### Source: https://earthdata.nasa.gov/earth-observation-data/near-real-time/firms/viirs-i-band-active-fire-data\n",
    "\n",
    "### Resolution: ~375m -> 375m"
   ]
  },
  {
   "cell_type": "code",
   "execution_count": 9,
   "metadata": {},
   "outputs": [
    {
     "name": "stdout",
     "output_type": "stream",
     "text": [
      "Shape: (10000, 5, 30, 30) = (# of Instances, # of Timesteps/Lags, Width, Height)\n"
     ]
    }
   ],
   "source": [
    "print('Shape:', train_data['observed'].shape, '= (# of Instances, # of Timesteps/Lags, Width, Height)')"
   ]
  },
  {
   "cell_type": "code",
   "execution_count": 12,
   "metadata": {},
   "outputs": [
    {
     "data": {
      "image/png": "[encoded data removed]",
      "text/plain": [
       "<Figure size 1008x630 with 7 Axes>"
      ]
     },
     "metadata": {
      "needs_background": "light"
     },
     "output_type": "display_data"
    }
   ],
   "source": [
    "set_fig_settings((FIG_REG_WIDTH*2,FIG_REG_WIDTH*1.25))\n",
    "fig = plt.figure()\n",
    "\n",
    "lat = train_data['latitude'][TRAINING_POINT]\n",
    "lon = train_data['longitude'][TRAINING_POINT]\n",
    "datetime = pd.to_datetime(train_data['datetime'][TRAINING_POINT])\n",
    "\n",
    "fig.suptitle(f'Lat: {lat:.2f}, Lon: {lon:.2f}, Datetime: {datetime}')\n",
    "\n",
    "# Plot X detections\n",
    "for i in range(5):\n",
    "    plt.subplot(2,5,i+1)\n",
    "    plt.title(f'{-12 * (4-i)} hours')\n",
    "    plt.imshow(train_data['observed'][TRAINING_POINT][4-i], cmap='gray')\n",
    "    plt.axis('off')\n",
    "\n",
    "# Plt Y detections\n",
    "for i in range(2):\n",
    "    plt.subplot(2,5,i+5+1)\n",
    "    plt.title(f'+{12 * (i+1)} hours')\n",
    "    plt.imshow(train_data['target'][TRAINING_POINT][i], cmap='gray')\n",
    "    plt.axis('off')\n",
    "    \n",
    "plt.tight_layout()"
   ]
  },
  {
   "cell_type": "markdown",
   "metadata": {},
   "source": [
    "## II. Land Cover\n",
    "\n",
    "### Source: https://www.landfire.gov/\n",
    "### Resolution: 30m -> 375m\n",
    "\n",
    "#### Layers\n",
    "* 0: Aspect \n",
    "* 1: Canopy Bult Density\n",
    "* 2: Canopy Base Height\n",
    "* 3: Canopy Cover\n",
    "* 4: Canopy Height\n",
    "* 5: Elevelation\n",
    "* 6 to 15: Vegetation (Fractional Veg Class per layer)\n",
    "* 16: Slope\n",
    "\n",
    "#### Vegetation Layers\n",
    "* 6: No Data\n",
    "* 7: Sparse\n",
    "* 8: Tree\n",
    "* 9: Shrub\n",
    "* 10: Herb\n",
    "* 11: Water\n",
    "* 12: Barren\n",
    "* 13: Developed\n",
    "* 14: Snow-Ice\n",
    "* 15: Agriculture"
   ]
  },
  {
   "cell_type": "code",
   "execution_count": 25,
   "metadata": {},
   "outputs": [],
   "source": [
    "LAND_COVER_LAYER_NAME_TO_IND = {'ASP': 0, 'CBD': 1, 'CBH': 2, 'CC': 3, 'CH': 4, 'DEM': 5, 'EVT': 6, 'SLP': 16}\n",
    "VEGETATION_NAME_TO_IND = {'Nodata': 0, 'Sparse': 1, 'Tree': 2, 'Shrub': 3, 'Herb': 4, 'Water': 5, 'Barren': 6, 'Developed': 7, 'Snow-Ice': 8, 'Agriculture': 9}\n",
    "\n",
    "TOPO_NAMES = ['ASP', 'SLP', 'DEM']\n",
    "VEG_NAME = 'EVT'\n",
    "FUEL_NAMES = ['CBD', 'CBH', 'CC', 'CH']"
   ]
  },
  {
   "cell_type": "code",
   "execution_count": 14,
   "metadata": {},
   "outputs": [
    {
     "name": "stdout",
     "output_type": "stream",
     "text": [
      "Shape: (10000, 17, 30, 30) = (# of Instances, # of Layers, Width, Height)\n"
     ]
    }
   ],
   "source": [
    "print('Shape:', train_data['land_cover'].shape, '= (# of Instances, # of Layers, Width, Height)')"
   ]
  },
  {
   "cell_type": "code",
   "execution_count": 26,
   "metadata": {
    "scrolled": false
   },
   "outputs": [
    {
     "name": "stdout",
     "output_type": "stream",
     "text": [
      "[[190.2336 202.5504 185.1504 148.4176  49.9552  62.3392 190.2736 198.3888\n",
      "  144.5536 104.6976 126.6048 198.1792 192.952  115.4128 139.072  177.7024\n",
      "  247.936  125.2704 211.1296 163.5392  86.7488 135.3952 196.448  181.2832\n",
      "  205.896  189.24   201.3856 224.8256 192.6832 245.288 ]\n",
      " [137.5904 185.088  190.1904 208.4784 175.808   95.1104  95.2784 199.9824\n",
      "  172.7936 157.5328  94.976  186.096  179.6592 159.7584 154.7072 215.2384\n",
      "  235.4656 134.2464 246.1984 120.5664 116.9568 140.0096 197.552  268.9216\n",
      "  320.1008 137.7168 217.5904  73.4784 192.7696 267.0768]\n",
      " [ 34.832   27.0944  85.3968 174.712  205.3296 151.384  104.824  100.776\n",
      "  177.2672 204.192  107.7504 129.2512 165.48   195.4576 137.6896 238.1888\n",
      "  184.584  166.664  246.9408  84.9728  60.2352 130.8656 261.8208 229.4176\n",
      "  294.744  141.416  132.6272 111.6608 152.7024 215.72  ]\n",
      " [103.2064  51.9552  60.856   81.9152 143.8896 170.6352 125.9344  64.9904\n",
      "   70.3296 133.1264 180.3808 116.992  132.984  190.7504 171.0528 219.3408\n",
      "  160.984  232.7728 201.9616 156.8    133.1088 100.328  264.0992 250.3008\n",
      "  234.7024 200.1264 120.7936  99.9424 185.4384 278.5232]\n",
      " [131.504   75.4656  39.48    44.6544  85.9552 152.5568 101.6736 162.7552\n",
      "   37.3584  33.5632  82.3472 155.944   69.6496 160.424  158.9648 173.128\n",
      "  254.6144 253.2064 169.0912 127.2896 177.0448 141.4384 261.7616 272.4656\n",
      "  287.016  281.1696 139.1936 134.816  224.3936 253.904 ]\n",
      " [146.0128 125.3152 114.1104  56.5008 137.1328 115.76    79.5968 153.1328\n",
      "  190.0016 131.7744 111.9888 117.6112 121.2976 107.7456 111.2496 253.5344\n",
      "  239.4528 149.1296 117.4272 112.7776 166.3184 208.696  237.1888 255.7712\n",
      "  269.9792 249.528   91.3888 140.3616 127.6544 261.6192]\n",
      " [ 90.8112 158.6704 130.9728 137.3184 105.568  116.1152  85.848  103.272\n",
      "  199.2576  86.816   96.1056  99.9872 163.52    95.184  184.84   278.4464\n",
      "  148.3632  72.4752 101.1584 112.3328 199.8848 227.792  205.1696 247.4992\n",
      "  268.208  237.088  142.2816 187.4656 100.304  183.4912]\n",
      " [140.7888 164.8784 144.56    95.264  100.4512 129.6224 132.3312  94.216\n",
      "  211.7856 119.4912 123.5488 144.2624 229.328  101.3696 226.6064 311.7776\n",
      "  105.2432  96.4592  57.168   64.2784 152.096  245.9552 198.552  265.0032\n",
      "  274.4704 159.728  195.648  217.856  153.4752 162.1664]\n",
      " [ 47.3264  53.0224  93.6528 146.2928 157.744   90.     117.9344  70.7216\n",
      "  106.7136 183.6256  88.1472 128.5728 219.7616 192.8784 294.0288 276.6432\n",
      "  109.7136  99.4128 130.9808 110.4112 103.9712 218.5536 220.4432 230.0656\n",
      "  201.7312 100.608  189.7968 228.7984 196.936  108.8496]\n",
      " [ 92.6416 113.7616  99.7712  62.3888 114.9632 184.4736 133.1312 162.3088\n",
      "   56.8224  67.1744 162.9536 128.2688 178.6608 252.5776 232.896  235.2352\n",
      "   80.6576  84.4752 167.2464 116.136  115.6832 128.1984 227.6496 231.5504\n",
      "  223.4816 128.5088 141.7744 221.224  228.4112 128.9456]\n",
      " [ 70.32    67.4848 142.6256 111.8768  63.4048  55.5776 139.0704 168.2192\n",
      "  237.2544  84.7008  56.864  164.7584 179.7584 238.616  284.616  267.5856\n",
      "  128.848   77.6512  77.6288  92.2624  80.52    72.8496 194.3872 222.8832\n",
      "  281.3968 158.0496  92.9792 225.1584 225.184  174.528 ]\n",
      " [144.864   64.3456 110.7472  84.2864  67.3376  72.2208 112.7856 185.8192\n",
      "  224.976  105.4784 159.7376 148.624  219.8768 268.0528 260.0208 249.2048\n",
      "  166.6528 109.9264 137.0944 130.064   95.3616 104.9392 186.24   267.28\n",
      "  184.4912 199.256   83.8304 186.0448 230.6592 199.2928]\n",
      " [128.9232 142.6     96.8624  77.4096 113.5904 101.408  107.6352 125.856\n",
      "  204.5392 121.1536 162.792  220.088  282.7536 306.4336 155.7648 252.7568\n",
      "  203.1184 125.208   43.304   91.0224  77.576   79.1536 154.0304 233.1568\n",
      "  202.1424 261.1216 106.6272 146.8512 219.384  175.112 ]\n",
      " [146.0688 139.2144 178.0816 130.1232  60.848   46.9568  75.6448 104.0864\n",
      "  192.6576  83.128  218.4656 178.808  219.24   216.744  235.2464 133.2624\n",
      "  150.8848 207.6688 128.2544  64.8176  65.192   91.9728 123.3072 237.7552\n",
      "  234.9328 193.4704 152.5632 171.2256 169.272  157.2176]\n",
      " [186.7072 127.3024 191.2016 191.9216 164.1056  98.2208  78.824   83.7808\n",
      "  202.5056  83.9616 139.8064 183.9024 168.936  249.8224 237.264  190.5984\n",
      "   90.856  181.5888 200.4032 150.9664 145.608   93.6688 100.4128 215.7056\n",
      "  194.9024 181.7952 168.7632 148.072  179.4272 207.0816]\n",
      " [113.8688 148.1664 208.8784 173.5984 185.088  146.3968  97.7328  80.488\n",
      "   97.52   183.904  121.6944 173.3616 243.6464 308.7888 213.8368 191.4528\n",
      "   83.2272 108.0656 209.4784 128.0608 156.648  160.2864 121.52   206.7904\n",
      "  105.5648 179.664  179.5888 278.1424 180.832  222.2912]\n",
      " [190.48   101.696  200.9504 190.4544 187.9968 160.7712  91.6928  80.6496\n",
      "   63.5344 136.264  122.424  248.3888 281.3488 283.5536 135.7648 153.6816\n",
      "  155.272  101.5536 174.6288 156.4176 118.44   197.9792 175.3088 301.5296\n",
      "   67.3552 155.2144 171.656  297.3296 249.5616 183.136 ]\n",
      " [245.2992 101.4496  92.992  176.576  207.1712 168.08   137.84   118.9632\n",
      "   81.2848  85.2464 131.4416 178.2128 240.0336 248.2672 118.8368 127.256\n",
      "  124.9424 147.48   140.3696 186.0752 157.7808 227.3552 196.4704 252.4832\n",
      "   69.4192 213.0288 151.6496 331.1536 304.7008 235.568 ]\n",
      " [229.9696 198.1168  89.168  103.2224 231.9296 204.7328 138.352  118.3296\n",
      "  109.7456  84.2224 107.4448 158.5968 280.6128 233.64   112.0432 141.0064\n",
      "  164.7728 114.4688 197.696  122.2112 230.5392 250.008  293.0256 215.7648\n",
      "   49.064  183.7264 118.5168 323.7584 281.6656 174.9424]\n",
      " [216.0432 234.3408 165.0656  80.1952 178.1056 233.4432 168.72   139.968\n",
      "  117.6176 117.4    126.9808 255.4576 283.5504 189.0448 120.4624 100.3696\n",
      "  141.2976 147.6848 274.784  203.7344 164.8208 283.2848 274.0528 207.1856\n",
      "   70.376  235.2784 151.8096 285.448  190.2512  54.6256]\n",
      " [238.5248 214.9664 215.0096 118.1936  94.4224 213.536  220.6128 133.7392\n",
      "  145.8128 134.4432 135.9264 253.4688 268.6336 135.0848 135.4144 103.1136\n",
      "   97.8608 257.9248 294.3008 306.6944 293.2288 270.4384 273.9552 212.4704\n",
      "  120.4096 248.5664 138.9376 266.1632  62.4608  37.4432]\n",
      " [206.2368 226.5696 237.8224 222.5616  86.1248 181.5776 239.7872 141.0288\n",
      "   98.9424 157.7808 146.48   227.664  257.4048 139.888   75.8144 106.0864\n",
      "  110.8976 268.4528 262.7648 246.     284.8672 298.7168 323.04   303.1808\n",
      "  143.2128 200.3872 160.6752 198.9792  37.4496  53.3856]\n",
      " [121.4496 244.0064 243.7248 209.5456  88.8624  94.472  220.2848 162.0256\n",
      "  116.7792 182.5264 162.8512 303.1328 305.6288 131.7216 102.8288  96.2848\n",
      "  156.4816 310.6896 304.7488 292.5632 255.3504 248.3488 246.0096 269.248\n",
      "  115.6544  68.0032 110.9152 190.1216 181.9248  69.8032]\n",
      " [ 64.0224 189.248  216.4832 249.4208 148.088   62.3952 143.792  198.352\n",
      "   79.1536 148.2544 246.6912 267.7152 262.3744 103.6672  86.5824  91.424\n",
      "  161.4384 263.8128 243.3024 243.712  270.4224 271.8176 265.1904 262.9504\n",
      "  147.8208 138.1216  86.9728 149.7312 217.1152 142.7664]\n",
      " [ 75.7856  94.0832 245.08   236.6192 196.5376 121.6384 121.4016 241.1424\n",
      "  108.8112 160.0208 261.9792 262.1872 214.216  135.8608 145.792  126.5856\n",
      "  175.3472 232.4448 230.416  272.5792 261.104  267.6032 277.5264 225.5104\n",
      "  157.2208 187.704  155.3376 127.7824 157.2768 197.7824]\n",
      " [ 65.152   63.3472 165.768  218.2416 197.92   150.912  197.9168 255.7952\n",
      "   87.2336 125.208  242.28   244.2416 191.2368 111.3264 121.7792 178.1504\n",
      "  195.616  250.48   260.9376 246.0448 242.7904 275.056  244.72   173.9328\n",
      "  167.5344 181.2112 179.1072 171.9552 153.3984 212.8288]\n",
      " [150.2128  51.496   77.3024 221.7952 178.6448 172.6128 274.6304 159.1936\n",
      "  138.6592 237.7984 319.7744 284.2672 161.9936 140.208  113.3744 265.2144\n",
      "  142.672  276.0448 292.0064 241.9808 231.3856 242.6752 185.4528 181.9008\n",
      "  127.2672 206.56   153.6656 173.8096 170.872  212.7024]\n",
      " [160.792  162.408   88.9248 166.5184 154.2032 222.4688 197.1456 149.2544\n",
      "  205.5904 268.4992 218.1584 194.3632 132.7168 175.6096 168.0112 229.944\n",
      "  179.3088 196.464  225.2512 211.6736 202.144  197.28   203.9072 212.3424\n",
      "  108.0256 197.3408 136.344  169.9152 210.5456 183.6784]\n",
      " [ 86.808  158.9296 143.8192 188.8528 201.0624 108.0224 242.9136 208.1168\n",
      "  135.0032 166.3984 172.464  178.4544 151.544  253.0192 152.7472 181.8192\n",
      "  185.9776 144.3872 225.3024 200.8256 184.44   202.3344 240.2656 191.3472\n",
      "  150.5936 148.8208 134.9216 181.4208 184.9648 172.6864]\n",
      " [163.3616 127.4896 186.9168 220.3216 198.6336 128.2112 244.8816 135.0704\n",
      "  159.0192 274.248  158.8768 163.088  324.2256 218.9936 162.1296 219.5408\n",
      "  225.3056 185.1424 195.9968 149.2992 198.0624 244.5264 171.52   192.7008\n",
      "  182.872  136.9584 177.3952 286.96   138.0624 205.8992]]\n",
      "[[22.224  21.6352 12.1904  9.3712 12.2384 24.312  20.5088 18.7456 16.2336\n",
      "  13.5232 12.288  14.8576 13.0096 11.1888  5.7264  8.1904  9.5168 19.0112\n",
      "  24.1488 19.4512 19.1504 27.736  23.3536 22.0128 24.8064 27.6256 23.0848\n",
      "  22.1248 21.8464 21.7504]\n",
      " [11.5648 19.2    25.016  24.648  11.0864 18.4048 20.8544 20.512  14.0288\n",
      "  13.648  12.944  12.5376 11.3712  7.7648  7.8352  8.4944 10.1952 23.3824\n",
      "  23.96   18.744  23.9856 21.48   25.0752 25.2448 29.456  28.2944 27.9168\n",
      "  28.9856 24.0384 23.3216]\n",
      " [24.6144 20.8672 15.0128 21.656  24.5744 17.1632 17.4224 15.4928 14.8576\n",
      "  17.3504 15.3728 10.2272  8.2608  8.3312  6.1872  7.1152 11.5616 19.7152\n",
      "  21.7952 26.1536 27.8608 23.08   22.8912 23.3456 30.5632 23.9328 20.6848\n",
      "  21.3504 24.0784 23.7296]\n",
      " [24.9472 27.3184 13.9824 18.9616 21.3168 23.2496 19.9312 11.9472 10.384\n",
      "  12.736  13.1168  7.5872  5.8224  6.1552  8.0592  8.9424 15.0464 16.8384\n",
      "  26.3456 28.4768 25.336  27.4224 26.2832 20.9072 27.7984 24.6944 21.8368\n",
      "  20.1792 24.8144 23.992 ]\n",
      " [ 7.9264 25.0528 21.3072 18.9904 16.712  23.5024 26.52   23.6336 16.424\n",
      "  15.8032 11.5936  6.5568  5.4816  6.992   5.9664 13.864  18.5104 22.7472\n",
      "  26.9328 27.9824 25.2032 26.3904 26.5168 24.3952 28.2592 26.9024 24.2704\n",
      "  22.92   22.9168 22.5136]\n",
      " [ 8.8224 10.9152 17.6752 21.816  16.728  12.8624 22.6992 28.5232 15.1728\n",
      "  15.4544  9.4304 11.8176  6.6816  8.3712  6.1328 15.0672 17.384  23.3104\n",
      "  25.3424 26.136  27.84   22.8192 24.0528 27.0064 27.7472 26.8384 24.5424\n",
      "  24.7792 24.3056 21.4704]\n",
      " [12.512  11.1424 11.4512 13.9984 13.3184 10.8736 15.2512 23.5264 20.128\n",
      "   9.1616  6.56   10.2784  8.9936  8.1328  7.9616 13.8976 13.7824 18.3488\n",
      "  20.0288 25.7184 25.896  29.0896 30.3136 29.12   28.72   27.0912 22.0656\n",
      "  22.4048 17.8096 19.1984]\n",
      " [17.2352 18.2656 17.4352 16.3728 19.52   15.1936 14.3488 23.2576 23.4656\n",
      "   9.5488  9.36   12.4512  8.2576  6.5776 15.8464 19.3824 19.328  16.2336\n",
      "  23.648  20.0384 28.536  26.3984 23.8432 28.4416 28.7808 26.1856 30.0656\n",
      "  27.0064 17.6368 17.8544]\n",
      " [18.6928 18.0208 24.3856 23.2368 21.512  19.5952 16.9056 16.7648 25.6016\n",
      "  18.1872 10.7184 13.8576  6.8784 16.1328 20.64   21.28   15.9408 20.2288\n",
      "  22.352  23.7056 26.6848 30.8288 26.2048 28.8032 28.5344 26.8224 23.736\n",
      "  28.6288 25.7472 22.5696]\n",
      " [10.504  18.184  18.7888 22.5488 23.8384 20.3088 19.0208 14.7136 18.1168\n",
      "  23.4704 22.712  21.1792 14.312  17.9664 19.8688 15.4784 14.8304 22.2736\n",
      "  25.3376 26.192  27.7952 30.3008 29.744  25.9936 32.6784 27.3696 25.496\n",
      "  26.0752 30.2304 21.4208]\n",
      " [12.216  14.8464 13.2048 15.3456 25.808  21.792  15.9632 19.56   11.4368\n",
      "  17.8368 21.6016 24.7312 21.0208 16.5312 16.2976 19.2416 14.9456 16.3952\n",
      "  23.4304 25.5136 20.7008 27.7952 35.2432 27.8928 30.6352 25.512  27.6176\n",
      "  24.4784 26.64   26.7584]\n",
      " [ 7.5632 11.7104  6.184   6.104  13.5264 23.296  24.6416 22.76   16.96\n",
      "  26.4064 32.456  26.216  19.9008 17.5744 20.1664 17.4592 10.7056 14.4848\n",
      "  20.256  24.1888 24.7264 27.616  31.7936 33.5056 24.8528 25.9312 26.1584\n",
      "  21.528  23.6512 24.2368]\n",
      " [ 9.744   9.8176  9.7072  8.632  10.2896 24.7376 23.4096 24.6672 27.7072\n",
      "  36.4048 31.528  27.928  27.8752 22.5728 18.9632 12.9536 10.3216 11.1792\n",
      "  15.3776 22.1744 21.3888 29.2608 32.344  29.1952 24.5744 24.4208 22.9456\n",
      "  26.7536 16.1792 27.1936]\n",
      " [11.136  14.1088 13.7136  7.2496 12.2992 22.3632 26.1328 27.0256 26.7056\n",
      "  35.6848 34.12   33.5536 34.7264 30.4288 15.856  14.8896 22.4432 19.0576\n",
      "  15.832  18.84   23.008  23.392  30.968  23.1216 26.0432 25.8256 23.9888\n",
      "  34.0496 23.6544 31.1296]\n",
      " [18.6864 17.1216 15.6704 10.0512  8.7088 18.5936 24.84   32.1072 31.0112\n",
      "  32.5088 35.9008 33.6    32.288  38.0736 24.952  19.7872 29.8784 26.2208\n",
      "  25.9952 25.8832 23.2032 25.4464 30.48   26.048  27.1696 30.808  30.1216\n",
      "  25.3152 28.16   25.136 ]\n",
      " [21.3232 25.352  22.192  11.2352 12.7312  9.2464 24.5616 28.6288 29.744\n",
      "  30.48   33.6928 34.3232 34.4064 37.4336 25.928  24.5584 27.4912 21.5488\n",
      "  28.7856 25.5888 26.9344 33.4976 30.5536 26.7168 26.712  19.848  23.3152\n",
      "  30.3744 31.3568 30.2336]\n",
      " [29.9344 29.6112 28.3328 22.     13.8656  8.752  13.2512 20.3328 30.6176\n",
      "  30.9856 33.2608 30.7552 33.6288 33.7376 23.7744 27.144  30.92   29.0192\n",
      "  32.1408 20.9248 31.7744 29.0064 30.024  30.0144 27.9456 18.1024 20.1088\n",
      "  22.0736 25.5088 30.104 ]\n",
      " [35.1056 23.224  31.1168 30.9152 30.8288 11.1808  7.1456  7.3408 30.7296\n",
      "  32.5568 30.736  32.0704 38.288  32.368  29.2176 27.8192 29.2496 34.7024\n",
      "  32.1312 34.1696 34.0368 31.3776 34.8176 31.1792 28.288  22.3936 23.6256\n",
      "  21.0272 28.152  29.2336]\n",
      " [35.2224 32.464  27.1184 31.2144 28.2816 23.0784  7.36    5.7856 24.024\n",
      "  34.6832 30.6848 33.808  35.1824 31.3168 30.776  29.0992 31.3104 34.3056\n",
      "  23.8944 30.5248 32.3408 35.5152 37.1472 24.5392 27.1792 19.464  24.4176\n",
      "  28.7792 30.3408 21.112 ]\n",
      " [33.8656 34.1664 25.3392 31.0416 29.5904 30.0064 13.2704 16.0544 32.7984\n",
      "  33.1728 30.1248 31.7632 34.6448 28.7952 26.7248 32.7664 30.2768 23.992\n",
      "  28.6208 23.36   31.5216 34.8112 36.3088 32.4624 31.2688 26.4592 30.9072\n",
      "  32.6192 23.3264 20.5296]\n",
      " [26.2288 31.8608 28.0032 26.4384 30.6496 33.5392 30.6288 30.9136 34.9344\n",
      "  33.0688 31.376  34.2208 33.7808 28.2928 25.7648 29.6464 25.376  16.9728\n",
      "  28.6336 22.8    23.08   33.     35.7088 32.8704 35.7552 32.2192 32.472\n",
      "  33.8544 19.8384 22.5744]\n",
      " [23.3296 28.3152 28.7168 27.3248 33.232  28.032  29.9536 34.2704 32.3104\n",
      "  30.2912 33.1072 33.9296 35.1696 20.152  29.3776 31.416  25.5328 15.4528\n",
      "  26.5056 29.0432 27.4928 29.272  34.0704 34.2912 33.9536 29.8864 16.4912\n",
      "  17.496  16.1744 20.4656]\n",
      " [24.1792 32.6848 31.6032 31.232  32.4336 31.6816 30.8608 31.5104 31.928\n",
      "  29.8704 33.8256 38.0336 33.9136 21.1648 27.048  32.7152 25.3744 24.952\n",
      "  21.9536 19.4576 26.4256 32.368  31.6336 29.5952 14.3136  9.5488 14.8528\n",
      "  15.5792 15.4704 20.408 ]\n",
      " [35.568  25.488  33.0432 35.1744 28.5232 33.8128 31.792  25.7088 30.3248\n",
      "  30.9872 34.3056 31.4608 19.6352 20.7872 30.408  33.784  27.5024 19.8992\n",
      "   9.6304 17.1184 24.9024 27.2928 31.064  33.032  19.248  12.4864 18.52\n",
      "  14.8624 20.9168 19.1088]\n",
      " [34.4448 29.0784 28.5824 33.1264 33.9632 33.9184 33.1488 28.4352 32.4864\n",
      "  31.7632 33.2112 32.5104 18.6384 30.8816 33.4448 33.0544 29.0736 19.7904\n",
      "  18.8592 22.2288 24.5248 31.1104 30.728  28.6128 30.4976 28.04   23.104\n",
      "  15.824  18.6    23.1184]\n",
      " [35.9328 32.9984 28.0832 32.6848 32.2032 33.5664 36.0928 28.6144 31.8496\n",
      "  30.2816 31.3264 31.9312 22.9488 32.3568 32.4592 23.7552 23.7744 22.1584\n",
      "  27.6304 27.9536 27.7504 31.744  26.872  31.56   32.5136 30.504  33.392\n",
      "  34.3616 29.2976 28.5296]\n",
      " [31.2256 32.0192 34.1632 27.632  32.6272 31.04   33.96   27.4704 31.5472\n",
      "  31.016  29.312  27.0432 27.8704 30.8592 27.7376 26.6144 30.28   28.6096\n",
      "  26.0432 26.9488 22.1984 29.4016 25.9104 24.464  30.6704 33.1888 34.2384\n",
      "  36.9136 35.5024 31.8224]\n",
      " [31.9264 32.1248 35.3312 28.4096 26.5824 24.7392 28.6704 27.9344 29.688\n",
      "  31.9344 30.7744 25.4912 32.1424 30.152  21.1072 27.3952 29.6528 34.1456\n",
      "  32.0912 26.7632 29.3344 32.0576 32.4768 25.232  32.5072 34.7632 35.7136\n",
      "  36.7568 34.2896 33.7648]\n",
      " [30.3232 34.9184 34.7488 21.5392 31.2112 19.8928 19.3968 20.4944 21.6448\n",
      "  28.7392 31.2592 27.4864 24.0192 19.1744 21.4816 25.2416 20.504  18.4016\n",
      "  30.3488 29.6864 31.0304 32.4576 30.0672 31.168  31.7136 36.0688 35.7408\n",
      "  31.3088 33.512  35.0352]\n",
      " [34.7232 31.8752 23.696  34.9344 35.2464 36.8368 32.456  29.9504 32.528\n",
      "  31.2576 34.9776 27.1024 34.9408 30.5184 31.3184 26.2912 28.6288 22.0976\n",
      "  22.9664 23.9296 27.3856 30.2464 35.6896 32.7008 30.2832 34.4528 30.9568\n",
      "  32.9952 37.7264 36.3056]]\n",
      "[[1612.7216 1663.0608 1706.3376 1709.9888 1689.6608 1612.5568 1519.\n",
      "  1604.4368 1585.024  1512.32   1448.0432 1432.7408 1468.7968 1438.2784\n",
      "  1402.392  1387.6688 1439.0833 1428.6864 1332.6353 1408.9232 1306.1888\n",
      "  1173.3696 1211.8208 1220.9984 1206.44   1230.8016 1239.2416 1271.0977\n",
      "  1348.1407 1357.1072]\n",
      " [1504.984  1520.4176 1562.1488 1608.5776 1686.1536 1641.2096 1490.7952\n",
      "  1475.5664 1496.16   1489.0496 1429.2528 1396.5232 1408.8224 1394.8737\n",
      "  1376.9167 1378.0977 1431.1855 1358.6576 1354.5583 1382.4176 1248.0896\n",
      "  1134.5153 1151.4496 1190.1248 1291.8    1386.344  1388.1792 1346.2625\n",
      "  1305.1873 1388.4768]\n",
      " [1580.664  1528.7632 1479.0784 1479.6416 1574.776  1589.9152 1504.8032\n",
      "  1415.8848 1401.1936 1443.0592 1433.36   1363.7087 1355.624  1353.2688\n",
      "  1350.1664 1371.0048 1406.9872 1311.864  1395.9312 1366.4016 1252.024\n",
      "  1119.8127 1194.152  1291.7136 1431.5728 1533.352  1471.6    1431.184\n",
      "  1343.5248 1410.5009]\n",
      " [1767.7296 1675.7776 1552.864  1487.3665 1445.9216 1488.376  1466.5184\n",
      "  1433.504  1380.3104 1352.4288 1366.4    1351.936  1321.4991 1319.5856\n",
      "  1325.2992 1354.1824 1352.4912 1302.5264 1403.1024 1322.6672 1304.8271\n",
      "  1135.7648 1176.1104 1297.128  1417.4128 1566.68   1586.0511 1505.36\n",
      "  1385.0288 1480.3055]\n",
      " [1834.448  1722.32   1625.6672 1574.0192 1506.0225 1454.0288 1412.4928\n",
      "  1460.9408 1441.736  1394.7823 1337.6    1325.7664 1317.8016 1297.2288\n",
      "  1303.0256 1314.9424 1299.0673 1361.0192 1341.7936 1212.056  1209.9696\n",
      "  1108.0688 1150.5392 1284.5488 1408.5248 1581.5104 1609.2928 1468.7648\n",
      "  1436.0128 1550.736 ]\n",
      " [1799.7184 1788.0256 1767.6416 1689.5936 1597.2096 1562.1248 1481.2128\n",
      "  1375.1328 1440.1263 1420.4368 1355.0912 1311.7952 1322.1088 1291.1104\n",
      "  1291.368  1294.3568 1361.4865 1310.12   1230.5295 1133.4257 1104.4176\n",
      "  1058.5552 1127.7104 1241.7712 1396.5728 1585.7504 1582.1504 1511.856\n",
      "  1527.7249 1577.0977]\n",
      " [1812.9312 1767.072  1744.936  1694.3728 1613.2976 1556.6992 1496.4208\n",
      "  1369.1216 1389.752  1378.5616 1340.0144 1304.2607 1306.0673 1297.1648\n",
      "  1272.6864 1329.4512 1366.3984 1260.648  1175.2816 1113.4064 1042.2048\n",
      "  1141.2607 1242.3856 1257.9248 1429.68   1604.9152 1641.3872 1637.8384\n",
      "  1639.4176 1595.2192]\n",
      " [1746.3488 1716.4    1712.7856 1659.0928 1581.2688 1510.2896 1476.2128\n",
      "  1389.1312 1337.912  1373.7936 1325.0576 1282.1936 1289.1808 1295.3376\n",
      "  1283.7231 1372.4048 1412.696  1314.1136 1231.4257 1136.424  1041.2224\n",
      "  1168.176  1306.4688 1348.1648 1478.1056 1498.1088 1461.2465 1572.2\n",
      "  1633.4368 1597.7504]\n",
      " [1774.7136 1689.4912 1627.168  1587.8688 1552.9023 1518.9152 1459.7456\n",
      "  1423.3584 1306.76   1320.0432 1319.56   1260.4784 1278.9888 1263.2928\n",
      "  1321.1263 1465.4496 1463.5344 1343.7776 1225.928  1140.2672 1045.1024\n",
      "  1058.6416 1210.8912 1308.8016 1468.384  1396.6368 1318.2625 1427.0336\n",
      "  1565.992  1520.7216]\n",
      " [1830.3328 1763.6896 1688.5312 1603.8496 1521.2352 1491.984  1447.6945\n",
      "  1421.2592 1374.3632 1289.7584 1264.5072 1262.0464 1244.736  1281.3152\n",
      "  1372.5664 1454.8224 1450.984  1333.2368 1267.032  1207.8544 1103.3232\n",
      "  1007.7872 1092.2256 1222.1232 1320.8992 1393.216  1235.5743 1307.808\n",
      "  1441.9408 1509.7072]\n",
      " [1841.2465 1752.9424 1704.8528 1691.4384 1617.4705 1490.392  1430.9072\n",
      "  1394.9136 1419.1968 1373.4688 1288.2288 1227.5696 1218.9664 1265.9968\n",
      "  1329.4257 1422.8816 1481.5088 1400.6224 1350.416  1279.4976 1206.7328\n",
      "  1082.8289  996.9296 1141.0448 1256.5072 1385.4705 1247.7744 1204.9456\n",
      "  1316.3055 1448.1425]\n",
      " [1841.8832 1800.4272 1757.9408 1731.4128 1681.0673 1581.6688 1445.816\n",
      "  1355.2496 1450.6624 1369.6896 1233.8289 1198.1552 1197.456  1272.9023\n",
      "  1373.1184 1441.768  1496.3024 1458.7504 1413.3665 1285.4752 1181.0112\n",
      "  1078.5344  956.2928 1148.0304 1249.4352 1307.5952 1246.3408 1129.3232\n",
      "  1225.9056 1331.0288]\n",
      " [1817.5344 1789.5056 1755.7249 1722.6335 1679.1104 1565.5392 1433.9856\n",
      "  1340.0112 1362.2224 1264.4336 1133.2224 1187.2736 1294.4991 1388.8832\n",
      "  1408.7888 1425.9664 1462.5568 1455.4113 1403.5536 1317.288  1217.6608\n",
      "  1088.3008  939.8848 1086.416  1134.8737 1239.9104 1270.2368 1106.576\n",
      "  1144.4417 1168.2751]\n",
      " [1793.5472 1739.7904 1756.2112 1741.1168 1705.4432 1611.8976 1491.3712\n",
      "  1357.0448 1279.9152 1206.2544 1143.6832 1164.832  1227.9008 1357.152\n",
      "  1481.432  1497.9504 1422.9856 1408.9471 1459.1952 1387.5472 1287.2288\n",
      "  1140.3904  943.36    980.6112 1120.3392 1164.1088 1178.0352 1040.2688\n",
      "  1077.6128  982.2272]\n",
      " [1723.7312 1717.3472 1677.6992 1700.0352 1699.5472 1642.0432 1514.0496\n",
      "  1370.9775 1259.4368 1258.7616 1118.6096 1090.7375 1025.328  1207.6\n",
      "  1429.8593 1514.7488 1360.7697 1273.6848 1360.2607 1326.6864 1255.2\n",
      "  1149.6096  949.1584  896.4128  977.8    1000.1552 1039.5536  933.2016\n",
      "   921.4656  895.984 ]\n",
      " [1669.7697 1606.1824 1582.7904 1634.8992 1625.7968 1626.4496 1533.0128\n",
      "  1369.3969 1231.0977 1223.7728 1183.2177 1019.8704 1090.384  1244.5153\n",
      "  1412.7552 1459.168  1364.6128 1196.7408 1207.9152 1195.736  1093.808\n",
      "  1027.3344  900.9536  862.3008  862.6256  852.8848  871.576   921.256\n",
      "   986.9952 1018.8512]\n",
      " [1606.1216 1549.7024 1488.1488 1540.952  1562.6432 1573.4016 1525.9136\n",
      "  1457.92   1322.8048 1141.9344 1061.3856  998.416  1149.6783 1348.8048\n",
      "  1434.5009 1328.0272 1301.5616 1183.0496 1048.0944 1086.0688  960.4928\n",
      "   838.6016  851.5904  997.3504 1007.3056  936.6016  911.2448  965.6032\n",
      "  1081.1152 1196.7056]\n",
      " [1472.0928 1555.936  1406.6736 1357.3456 1430.8512 1524.9633 1510.2465\n",
      "  1479.616  1371.1472 1132.8688 1011.9072  950.96   1141.1088 1380.376\n",
      "  1381.7712 1234.9584 1175.6064 1042.4192  910.408   913.1824  847.5136\n",
      "   839.0816 1027.1456 1149.7504 1110.6783 1069.6704 1038.6912 1077.8176\n",
      "  1156.4113 1314.5168]\n",
      " [1338.48   1505.3312 1499.7344 1298.6624 1298.5536 1461.6608 1478.3152\n",
      "  1466.12   1400.696  1214.3728 1059.0544  946.0016 1088.264  1336.6736\n",
      "  1265.7216 1141.7087 1041.9615  922.4928  787.6928  827.6832  858.2592\n",
      "   999.8048 1176.848  1292.352  1237.9424 1174.976  1171.7584 1227.288\n",
      "  1334.0673 1380.5887]\n",
      " [1177.44   1333.2064 1457.2128 1322.1952 1190.3936 1347.1263 1446.9552\n",
      "  1434.4784 1329.3136 1136.5264  954.4304  938.6512 1157.7296 1317.9023\n",
      "  1232.2048 1044.6592  892.1088  800.064   836.9632  998.72    991.7472\n",
      "  1146.4192 1330.24   1468.7584 1369.8656 1316.5887 1349.6656 1388.2992\n",
      "  1509.5583 1457.1744]\n",
      " [1041.76   1192.0896 1329.3904 1350.0529 1162.504  1184.6    1325.0848\n",
      "  1348.736  1146.1664 1063.0656  896.864   967.3472 1191.56   1284.5616\n",
      "  1127.32   1026.9615  810.2064  770.376   918.8864 1063.9136 1149.5968\n",
      "  1222.3168 1406.7328 1619.4528 1537.4048 1501.024  1560.3584 1578.0256\n",
      "  1627.6176 1550.2832]\n",
      " [ 929.2352 1038.1504 1188.2544 1343.6752 1236.008  1069.7648 1205.9232\n",
      "  1275.584  1052.6976  891.2288  901.5808  898.5408 1134.76   1278.8912\n",
      "  1158.648   978.4368  798.712   779.2656  914.0416 1094.3328 1244.5792\n",
      "  1385.1711 1534.8992 1691.632  1741.9424 1709.3248 1745.7312 1757.7152\n",
      "  1742.2352 1659.2368]\n",
      " [ 871.752   956.2192 1138.1904 1279.1248 1265.2751 1048.9968 1057.7424\n",
      "  1155.2656  976.6944  825.2512  889.4192  965.7744 1179.312  1261.6992\n",
      "  1132.8352  959.8016  763.1872  828.0704  953.9088 1041.9344 1181.2384\n",
      "  1364.5024 1582.1855 1787.9648 1884.3536 1829.5056 1757.512  1716.5457\n",
      "  1774.2832 1715.96  ]\n",
      " [ 938.0624  840.5264  987.9248 1135.0352 1307.5856 1135.8384  954.68\n",
      "  1064.8688  956.5184  802.1504  946.28   1122.4048 1282.96   1283.344\n",
      "  1118.3712  907.1296  758.528   913.5744  984.088  1051.4672 1181.7056\n",
      "  1352.5728 1534.2112 1772.4    1864.8304 1822.0592 1757.6304 1648.888\n",
      "  1693.2656 1718.3408]\n",
      " [1058.016   842.544   874.12   1068.184  1209.0896 1159.5664  946.4624\n",
      "   982.9264  950.6224  797.016   871.88   1078.2384 1241.7792 1173.7632\n",
      "  1026.0272  911.3264  766.0032  877.4816  930.1936 1037.7264 1160.72\n",
      "  1334.5216 1554.192  1746.6464 1710.9968 1677.7712 1695.1024 1611.304\n",
      "  1568.48   1581.3503]\n",
      " [1111.9584  901.8688  787.24    909.8288 1041.768   988.5008  855.0576\n",
      "   987.5344  920.8592  768.1872  805.4032  997.2976 1143.2736 1029.7472\n",
      "   843.2848  737.8256  746.8832  834.6432  977.1024 1079.0352 1164.4608\n",
      "  1339.696  1521.184  1612.8256 1507.464  1488.2544 1516.472  1478.024\n",
      "  1450.6368 1429.7472]\n",
      " [1133.648  1043.3665  828.6096  794.184   916.4752  795.0864  862.3184\n",
      "   929.64    835.8752  753.5968  847.4496  994.5088 1047.9712  945.0752\n",
      "   780.5296  789.7264  889.7696  926.976  1043.3552 1187.464  1256.128\n",
      "  1365.3824 1421.9232 1462.0385 1351.264  1302.7552 1315.7697 1232.96\n",
      "  1237.9167 1293.7952]\n",
      " [ 993.1552 1061.0496  912.6704  740.6704  746.4464  735.4192  855.1472\n",
      "   798.904   740.4672  859.008   910.6048  952.3392  896.4224  756.304\n",
      "   714.5968  814.8144  808.752   841.7024  977.5888 1076.2192 1172.5984\n",
      "  1206.128  1227.5488 1370.6976 1297.5583 1161.7344 1142.4032 1009.232\n",
      "  1050.7584 1160.5696]\n",
      " [ 980.5776  857.576   791.9664  695.0384  772.8544  703.28    706.2304\n",
      "   705.664   705.9024  742.8016  723.7936  763.      741.3024  736.24\n",
      "   755.4832  739.6976  747.224   732.568   870.3696  946.9392  995.9952\n",
      "  1030.0592 1132.6016 1214.3456 1212.2448 1032.1711  983.32    828.3376\n",
      "   870.8272  906.7536]\n",
      " [ 884.2416  790.7312  712.5488  793.2976  946.4     857.8688  813.1456\n",
      "   855.2224  820.1616  771.0448  855.2784  765.4928  808.144   846.0768\n",
      "   865.6592  784.8112  852.2608  742.9424  761.1664  761.128   811.0896\n",
      "   925.1856  982.8     973.5296 1033.3008  939.8576  824.3376  897.0544\n",
      "   931.6368  925.3616]]\n"
     ]
    },
    {
     "data": {
      "image/png": "[encoded data removed]",
      "text/plain": [
       "<Figure size 756x327.6 with 3 Axes>"
      ]
     },
     "metadata": {
      "needs_background": "light"
     },
     "output_type": "display_data"
    }
   ],
   "source": [
    "set_fig_settings((FIG_REG_WIDTH*1.5,FIG_REG_WIDTH*.65))\n",
    "fig = plt.figure()\n",
    "\n",
    "fig.suptitle('Topography')\n",
    "for i, name in enumerate(TOPO_NAMES):\n",
    "    plt.subplot(1,len(TOPO_NAMES),i+1)\n",
    "    print(train_data['land_cover'][TRAINING_POINT][LAND_COVER_LAYER_NAME_TO_IND[name]])\n",
    "    plt.imshow(train_data['land_cover'][TRAINING_POINT][LAND_COVER_LAYER_NAME_TO_IND[name]])\n",
    "    plt.title(name)\n",
    "    plt.axis('off')\n",
    "    \n",
    "plt.tight_layout()"
   ]
  },
  {
   "cell_type": "code",
   "execution_count": 17,
   "metadata": {},
   "outputs": [
    {
     "data": {
      "image/png": "[encoded data removed]",
      "text/plain": [
       "<Figure size 1008x327.6 with 4 Axes>"
      ]
     },
     "metadata": {
      "needs_background": "light"
     },
     "output_type": "display_data"
    }
   ],
   "source": [
    "set_fig_settings((FIG_REG_WIDTH*2,FIG_REG_WIDTH*.65))\n",
    "fig = plt.figure()\n",
    "\n",
    "fig.suptitle('Fuel')\n",
    "for i, name in enumerate(FUEL_NAMES):\n",
    "    plt.subplot(1,len(FUEL_NAMES),i+1)\n",
    "    plt.imshow(train_data['land_cover'][TRAINING_POINT][LAND_COVER_LAYER_NAME_TO_IND[name]])\n",
    "    plt.title(name)\n",
    "    plt.axis('off')\n",
    "\n",
    "plt.tight_layout()"
   ]
  },
  {
   "cell_type": "code",
   "execution_count": 15,
   "metadata": {},
   "outputs": [
    {
     "data": {
      "image/png": "[encoded data removed]",
      "text/plain": [
       "<Figure size 1008x630 with 10 Axes>"
      ]
     },
     "metadata": {
      "needs_background": "light"
     },
     "output_type": "display_data"
    }
   ],
   "source": [
    "set_fig_settings((FIG_REG_WIDTH*2,FIG_REG_WIDTH*1.25))\n",
    "fig = plt.figure()\n",
    "\n",
    "fig.suptitle('Vegetation')\n",
    "for i, (name, ind) in enumerate(VEGETATION_NAME_TO_IND.items()):\n",
    "    plt.subplot(2,len(VEGETATION_NAME_TO_IND)//2,i+1)\n",
    "    plt.imshow(train_data['land_cover'][TRAINING_POINT][LAND_COVER_LAYER_NAME_TO_IND[VEG_NAME] + ind])\n",
    "    plt.title(name)\n",
    "    plt.axis('off')\n",
    "\n",
    "plt.tight_layout()"
   ]
  },
  {
   "cell_type": "markdown",
   "metadata": {},
   "source": [
    "## III. Weather\n",
    "\n",
    "### Source: https://rapidrefresh.noaa.gov/\n",
    "###  Resolution 13km -> 375m\n",
    "\n",
    "#### Timesteps\n",
    "* 0: T = -48 hours \n",
    "* 1: T = -36 hours\n",
    "* 2: T = -24 hours\n",
    "* 3: T = -12 hours\n",
    "* 4: T =   0 hours (closest measurement to observed VIIRS detections)\n",
    "* 5: T =  12 hours (closest measurement to taget VIIRS detections)\n",
    "\n",
    "#### Variables\n",
    "* 0: Temperature @ 2m (Kelvin)\n",
    "* 1: Relative Humidity @ 2m (%)\n",
    "* 2: U Wind Component @ 10m (m s**-1)\n",
    "* 3: V Wind Component @ 10m (m s**-1)\n",
    "* 4: Precipitation Rate (kg m**-2 s**-1)\n"
   ]
  },
  {
   "cell_type": "code",
   "execution_count": 19,
   "metadata": {},
   "outputs": [],
   "source": [
    "METEOROLOGY_NAME_TO_IND = {'Temp': 0, 'Rel. Humid.': 1, 'U Wind Comp.': 2, 'V Wind Comp.': 3, 'Precip. Rate': 4}"
   ]
  },
  {
   "cell_type": "code",
   "execution_count": 20,
   "metadata": {},
   "outputs": [
    {
     "name": "stdout",
     "output_type": "stream",
     "text": [
      "Shape: (10000, 2, 5, 30, 30) = (# of Instances, Timesteps, # of Variables, Width, Height)\n"
     ]
    }
   ],
   "source": [
    "print('Shape:', train_data['meteorology'].shape, '= (# of Instances, Timesteps, # of Variables, Width, Height)')"
   ]
  },
  {
   "cell_type": "code",
   "execution_count": 22,
   "metadata": {
    "scrolled": false
   },
   "outputs": [
    {
     "data": {
      "image/png": "[encoded data removed]",
      "text/plain": [
       "<Figure size 1008x327.6 with 5 Axes>"
      ]
     },
     "metadata": {
      "needs_background": "light"
     },
     "output_type": "display_data"
    }
   ],
   "source": [
    "set_fig_settings((FIG_REG_WIDTH*2,FIG_REG_WIDTH*.65))\n",
    "fig = plt.figure()\n",
    "\n",
    "fig.suptitle('Vegetation')\n",
    "for i, (name, ind) in enumerate(METEOROLOGY_NAME_TO_IND.items()):\n",
    "    plt.subplot(1,len(METEOROLOGY_NAME_TO_IND),i+1)\n",
    "    vmin = np.nanmin(train_data['meteorology'][:,0,ind])\n",
    "    vmax = np.nanmax(train_data['meteorology'][:,0,ind])\n",
    "    plt.imshow(train_data['meteorology'][TRAINING_POINT][0][ind], vmin=vmin, vmax=vmax, cmap='gray')\n",
    "    plt.scatter([15], [15], c='red')\n",
    "    plt.title(name)\n",
    "    plt.axis('off')\n",
    "\n",
    "plt.tight_layout()"
   ]
  },
  {
   "cell_type": "code",
   "execution_count": 24,
   "metadata": {},
   "outputs": [
    {
     "ename": "IndexError",
     "evalue": "index 2 is out of bounds for axis 0 with size 2",
     "output_type": "error",
     "traceback": [
      "\u001b[1;31m---------------------------------------------------------------------------\u001b[0m",
      "\u001b[1;31mIndexError\u001b[0m                                Traceback (most recent call last)",
      "\u001b[1;32m<ipython-input-24-577ff43bc445>\u001b[0m in \u001b[0;36m<module>\u001b[1;34m\u001b[0m\n\u001b[0;32m      4\u001b[0m \u001b[1;32mfor\u001b[0m \u001b[0mi\u001b[0m \u001b[1;32min\u001b[0m \u001b[0mrange\u001b[0m\u001b[1;33m(\u001b[0m\u001b[1;36m6\u001b[0m\u001b[1;33m)\u001b[0m\u001b[1;33m:\u001b[0m\u001b[1;33m\u001b[0m\u001b[1;33m\u001b[0m\u001b[0m\n\u001b[0;32m      5\u001b[0m     \u001b[0mplt\u001b[0m\u001b[1;33m.\u001b[0m\u001b[0msubplot\u001b[0m\u001b[1;33m(\u001b[0m\u001b[1;36m1\u001b[0m\u001b[1;33m,\u001b[0m\u001b[1;36m6\u001b[0m\u001b[1;33m,\u001b[0m\u001b[0mi\u001b[0m\u001b[1;33m+\u001b[0m\u001b[1;36m1\u001b[0m\u001b[1;33m)\u001b[0m\u001b[1;33m\u001b[0m\u001b[1;33m\u001b[0m\u001b[0m\n\u001b[1;32m----> 6\u001b[1;33m     \u001b[0mplt\u001b[0m\u001b[1;33m.\u001b[0m\u001b[0mimshow\u001b[0m\u001b[1;33m(\u001b[0m\u001b[0mtrain_data\u001b[0m\u001b[1;33m[\u001b[0m\u001b[1;34m'meteorology'\u001b[0m\u001b[1;33m]\u001b[0m\u001b[1;33m[\u001b[0m\u001b[0mTRAINING_POINT\u001b[0m\u001b[1;33m]\u001b[0m\u001b[1;33m[\u001b[0m\u001b[0mi\u001b[0m\u001b[1;33m]\u001b[0m\u001b[1;33m[\u001b[0m\u001b[0mMETEOROLOGY_NAME_TO_IND\u001b[0m\u001b[1;33m[\u001b[0m\u001b[1;34m'Temp'\u001b[0m\u001b[1;33m]\u001b[0m\u001b[1;33m]\u001b[0m\u001b[1;33m,\u001b[0m \u001b[0mvmin\u001b[0m\u001b[1;33m=\u001b[0m\u001b[0mvmin\u001b[0m\u001b[1;33m,\u001b[0m \u001b[0mvmax\u001b[0m\u001b[1;33m=\u001b[0m\u001b[0mvmax\u001b[0m\u001b[1;33m)\u001b[0m\u001b[1;33m\u001b[0m\u001b[1;33m\u001b[0m\u001b[0m\n\u001b[0m\u001b[0;32m      7\u001b[0m     \u001b[0mplt\u001b[0m\u001b[1;33m.\u001b[0m\u001b[0maxis\u001b[0m\u001b[1;33m(\u001b[0m\u001b[1;34m'off'\u001b[0m\u001b[1;33m)\u001b[0m\u001b[1;33m\u001b[0m\u001b[1;33m\u001b[0m\u001b[0m\n\u001b[0;32m      8\u001b[0m     \u001b[0mplt\u001b[0m\u001b[1;33m.\u001b[0m\u001b[0mtitle\u001b[0m\u001b[1;33m(\u001b[0m\u001b[1;34mf'{(i - 4) * 12} hours'\u001b[0m\u001b[1;33m)\u001b[0m\u001b[1;33m\u001b[0m\u001b[1;33m\u001b[0m\u001b[0m\n",
      "\u001b[1;31mIndexError\u001b[0m: index 2 is out of bounds for axis 0 with size 2"
     ]
    },
    {
     "data": {
      "image/png": "[encoded data removed]",
      "text/plain": [
       "<Figure size 1008x327.6 with 3 Axes>"
      ]
     },
     "metadata": {
      "needs_background": "light"
     },
     "output_type": "display_data"
    }
   ],
   "source": [
    "vmin = np.min(train_data['meteorology'][TRAINING_POINT,:,METEOROLOGY_NAME_TO_IND['Temp']])\n",
    "vmax = np.max(train_data['meteorology'][TRAINING_POINT,:,METEOROLOGY_NAME_TO_IND['Temp']])\n",
    "\n",
    "for i in range(6):    \n",
    "    plt.subplot(1,6,i+1)\n",
    "    plt.imshow(train_data['meteorology'][TRAINING_POINT][i][METEOROLOGY_NAME_TO_IND['Temp']], vmin=vmin, vmax=vmax)\n",
    "    plt.axis('off')\n",
    "    plt.title(f'{(i - 4) * 12} hours')"
   ]
  },
  {
   "cell_type": "markdown",
   "metadata": {},
   "source": [
    "Note how temperature alternates between low and high every 12 hours above. This is due to daytime/nighttime temperatures."
   ]
  },
  {
   "cell_type": "markdown",
   "metadata": {},
   "source": [
    "## Task / Prediction"
   ]
  },
  {
   "cell_type": "code",
   "execution_count": 26,
   "metadata": {},
   "outputs": [],
   "source": [
    "import scipy.ndimage"
   ]
  },
  {
   "cell_type": "code",
   "execution_count": 51,
   "metadata": {},
   "outputs": [],
   "source": [
    "def persistence_model(x):\n",
    "    return scipy.ndimage.gaussian_filter(x, 1.7, output=np.float32)\n",
    "\n",
    "def compute_mse(y, y_hat):\n",
    "    return np.mean((y-y_hat)**2)"
   ]
  },
  {
   "cell_type": "code",
   "execution_count": 47,
   "metadata": {},
   "outputs": [],
   "source": [
    "x = train_data['observed'][TRAINING_POINT,0]\n",
    "y = train_data['target'][TRAINING_POINT,0]\n",
    "y_pred = persistence_model(x)"
   ]
  },
  {
   "cell_type": "code",
   "execution_count": 46,
   "metadata": {},
   "outputs": [
    {
     "data": {
      "text/plain": [
       "(-0.5, 29.5, 29.5, -0.5)"
      ]
     },
     "execution_count": 46,
     "metadata": {},
     "output_type": "execute_result"
    },
    {
     "data": {
      "image/png": "[encoded data removed]",
      "text/plain": [
       "<Figure size 1008x327.6 with 3 Axes>"
      ]
     },
     "metadata": {
      "needs_background": "light"
     },
     "output_type": "display_data"
    }
   ],
   "source": [
    "plt.subplot(1,3,1)\n",
    "plt.imshow(x)\n",
    "plt.title('X (T = 0 hours)')\n",
    "plt.axis('off')\n",
    "\n",
    "plt.subplot(1,3,2)\n",
    "plt.imshow(y_pred)\n",
    "plt.title('$\\hat{Y}$ (T = +12 hours)')\n",
    "plt.axis('off')\n",
    "\n",
    "plt.subplot(1,3,3)\n",
    "plt.imshow(y)\n",
    "plt.title('Y (T = +12 hours)')\n",
    "plt.axis('off')"
   ]
  },
  {
   "cell_type": "code",
   "execution_count": 49,
   "metadata": {},
   "outputs": [],
   "source": [
    "y_hats = [persistence_model(train_data['observed'][i,0]) for i in range(len(train_data['observed']))]"
   ]
  },
  {
   "cell_type": "code",
   "execution_count": 55,
   "metadata": {},
   "outputs": [
    {
     "name": "stdout",
     "output_type": "stream",
     "text": [
      "MSE: 12 Hour Target = 0.0498, 24 Hour Target = 0.0543\n"
     ]
    }
   ],
   "source": [
    "mse_12hour = compute_mse(train_data['target'][:,0], y_hats)\n",
    "mse_24hour = compute_mse(train_data['target'][:,1], y_hats)\n",
    "\n",
    "print(f'MSE: 12 Hour Target = {mse_12hour:.4f}, 24 Hour Target = {mse_24hour:.4f}')"
   ]
  },
  {
   "cell_type": "code",
   "execution_count": null,
   "metadata": {},
   "outputs": [],
   "source": []
  }
 ],
 "metadata": {
  "kernelspec": {
   "display_name": "Python 3",
   "language": "python",
   "name": "python3"
  },
  "language_info": {
   "codemirror_mode": {
    "name": "ipython",
    "version": 3
   },
   "file_extension": ".py",
   "mimetype": "text/x-python",
   "name": "python",
   "nbconvert_exporter": "python",
   "pygments_lexer": "ipython3",
   "version": "3.7.4"
  }
 },
 "nbformat": 4,
 "nbformat_minor": 4
}
