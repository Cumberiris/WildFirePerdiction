{
 "cells": [
  {
   "cell_type": "code",
   "execution_count": 1,
   "metadata": {},
   "outputs": [],
   "source": [
    "import torch\n",
    "import torch.nn as nn\n",
    "import torchvision"
   ]
  },
  {
   "cell_type": "code",
   "execution_count": 2,
   "metadata": {},
   "outputs": [],
   "source": [
    "import h5py\n",
    "import numpy as np\n",
    "import matplotlib.pyplot as plt\n",
    "import pandas as pd"
   ]
  },
  {
   "cell_type": "markdown",
   "metadata": {},
   "source": [
    "# check GPU availability"
   ]
  },
  {
   "cell_type": "code",
   "execution_count": 3,
   "metadata": {},
   "outputs": [
    {
     "output_type": "stream",
     "name": "stdout",
     "text": "cuda:0\n"
    }
   ],
   "source": [
    "# Device configuration\n",
    "device = torch.device('cuda:0' if torch.cuda.is_available() else 'cpu')\n",
    "print(device)"
   ]
  },
  {
   "cell_type": "code",
   "execution_count": 69,
   "metadata": {},
   "outputs": [],
   "source": [
    "class ConvNet(nn.Module):\n",
    "    def __init__(self, num_class = 900):\n",
    "        super(ConvNet, self).__init__()\n",
    "        # 30x30\n",
    "        self.layer1 = nn.Sequential(\n",
    "        nn.Conv2d(5, 16, kernel_size=3),\n",
    "        nn.BatchNorm2d(16),\n",
    "        nn.ReLU(),\n",
    "        nn.MaxPool2d(kernel_size = 2),\n",
    "        nn.Conv2d(16, 32, kernel_size=3),\n",
    "        nn.BatchNorm2d(32),\n",
    "        nn.ReLU(),\n",
    "        nn.MaxPool2d(kernel_size = 2),\n",
    "        nn.Flatten(),\n",
    "        nn.Linear(1152,900))\n",
    "        \n",
    "        self.layer2 = nn.Sequential(\n",
    "        nn.Conv2d(17, 32, kernel_size=3),\n",
    "        nn.BatchNorm2d(32),\n",
    "        nn.ReLU(),\n",
    "        nn.MaxPool2d(kernel_size = 2),\n",
    "        nn.Conv2d(32, 32, kernel_size=3),\n",
    "        nn.BatchNorm2d(32),\n",
    "        nn.ReLU(),\n",
    "        nn.MaxPool2d(kernel_size = 2),\n",
    "        nn.Flatten(),\n",
    "        nn.Linear(1152,512))\n",
    "\n",
    "        # self.feature_layers = []\n",
    "        # for i in range(17):\n",
    "        #   self.feature_layers.append(...)\n",
    "        # (1, 100)\n",
    "\n",
    "        # featurelinear = []\n",
    "        # (1,1000) -> (1,900)\n",
    "\n",
    "        self.layer3 = nn.Sequential(\n",
    "        nn.Conv2d(64, 128, kernel_size=3),\n",
    "        nn.BatchNorm2d(128),\n",
    "        nn.ReLU(),\n",
    "        nn.MaxPool2d(kernel_size=2, stride=2))\n",
    "        \n",
    "        self.fc = nn.Linear(1024, num_class)\n",
    "        self.last = nn.Sigmoid()\n",
    "        \n",
    "    def forward(self, x, feature):\n",
    "        main_out = self.layer1(x)\n",
    "        '''\n",
    "        for f in self.feature_layers:\n",
    "            f_i = f(feature[:,i])\n",
    "            main_out = cat(main_out, fi)\n",
    "            main_out = self.featurelinear[i](main_out)\n",
    "        '''\n",
    "        feat_out = self.layer2(feature)\n",
    "        main_out = torch.cat((main_out, feat_out), dim=1)\n",
    "\n",
    "        main_out = self.fc(main_out)\n",
    "        return self.last(main_out)\n",
    "    \n",
    "model = ConvNet().to(device)\n",
    "\n",
    "criterion = nn.MSELoss()\n",
    "optimizer = torch.optim.Adam(model.parameters(), lr=0.001)"
   ]
  },
  {
   "cell_type": "code",
   "execution_count": 36,
   "metadata": {},
   "outputs": [
    {
     "output_type": "execute_result",
     "data": {
      "text/plain": "ConvNet(\n  (layer1): Sequential(\n    (0): Conv2d(5, 16, kernel_size=(3, 3), stride=(1, 1))\n    (1): BatchNorm2d(16, eps=1e-05, momentum=0.1, affine=True, track_running_stats=True)\n    (2): ReLU()\n    (3): MaxPool2d(kernel_size=2, stride=2, padding=0, dilation=1, ceil_mode=False)\n  )\n  (layer2): Sequential(\n    (0): Conv2d(1, 16, kernel_size=(3, 3), stride=(1, 1))\n    (1): BatchNorm2d(16, eps=1e-05, momentum=0.1, affine=True, track_running_stats=True)\n    (2): ReLU()\n    (3): MaxPool2d(kernel_size=2, stride=2, padding=0, dilation=1, ceil_mode=False)\n  )\n  (layer3): Sequential(\n    (0): Conv2d(32, 64, kernel_size=(3, 3), stride=(1, 1))\n    (1): BatchNorm2d(64, eps=1e-05, momentum=0.1, affine=True, track_running_stats=True)\n    (2): ReLU()\n    (3): MaxPool2d(kernel_size=2, stride=2, padding=0, dilation=1, ceil_mode=False)\n  )\n  (fc): Linear(in_features=2304, out_features=10, bias=True)\n  (last): Sigmoid()\n)"
     },
     "metadata": {},
     "execution_count": 36
    }
   ],
   "source": [
    "model"
   ]
  },
  {
   "cell_type": "code",
   "execution_count": 5,
   "metadata": {},
   "outputs": [],
   "source": [
    "DATASET_PATH = 'data/uci_ml_hackathon_fire_dataset_2012-05-09_2013-01-01_10k_train.hdf5'\n",
    "\n",
    "with h5py.File(DATASET_PATH, 'r') as f:\n",
    "    train_data = {}\n",
    "    for k in list(f):\n",
    "        train_data[k] = f[k][:]"
   ]
  },
  {
   "cell_type": "code",
   "execution_count": 8,
   "metadata": {},
   "outputs": [
    {
     "output_type": "stream",
     "name": "stdout",
     "text": "dict_keys(['datetime', 'land_cover', 'latitude', 'longitude', 'meteorology', 'observed', 'target'])\n"
    }
   ],
   "source": [
    "print(train_data.keys())"
   ]
  },
  {
   "cell_type": "code",
   "execution_count": 60,
   "metadata": {},
   "outputs": [
    {
     "output_type": "execute_result",
     "data": {
      "text/plain": "(10000, 2, 30, 30)"
     },
     "metadata": {},
     "execution_count": 60
    }
   ],
   "source": [
    "train_data['observed'].shape"
   ]
  },
  {
   "cell_type": "code",
   "execution_count": 71,
   "metadata": {},
   "outputs": [
    {
     "output_type": "display_data",
     "data": {
      "text/plain": "<Figure size 432x288 with 17 Axes>",
      "image/svg+xml": "<?xml version=\"1.0\" encoding=\"utf-8\" standalone=\"no\"?>\r\n<!DOCTYPE svg PUBLIC \"-//W3C//DTD SVG 1.1//EN\"\r\n  \"http://www.w3.org/Graphics/SVG/1.1/DTD/svg11.dtd\">\r\n<!-- Created with matplotlib (https://matplotlib.org/) -->\r\n<svg height=\"51.175364pt\" version=\"1.1\" viewBox=\"0 0 372.801361 51.175364\" width=\"372.801361pt\" xmlns=\"http://www.w3.org/2000/svg\" xmlns:xlink=\"http://www.w3.org/1999/xlink\">\r\n <defs>\r\n  <style type=\"text/css\">\r\n*{stroke-linecap:butt;stroke-linejoin:round;}\r\n  </style>\r\n </defs>\r\n <g id=\"figure_1\">\r\n  <g id=\"patch_1\">\r\n   <path d=\"M -0 51.175364 \r\nL 372.801361 51.175364 \r\nL 372.801361 0 \r\nL -0 0 \r\nz\r\n\" style=\"fill:none;\"/>\r\n  </g>\r\n  <g id=\"axes_1\">\r\n   <g id=\"patch_2\">\r\n    <path d=\"M 26.925 27.297239 \r\nL 43.499257 27.297239 \r\nL 43.499257 10.722981 \r\nL 26.925 10.722981 \r\nz\r\n\" style=\"fill:#ffffff;\"/>\r\n   </g>\r\n   <g clip-path=\"url(#p3209007cf1)\">\r\n    <image height=\"17\" id=\"image9fed800217\" transform=\"scale(1 -1)translate(0 -17)\" width=\"17\" x=\"26.925\" xlink:href=\"data:image/png;base64,\r\niVBORw0KGgoAAAANSUhEUgAAABEAAAARCAYAAAA7bUf6AAAABHNCSVQICAgIfAhkiAAAA8dJREFUOI0FwVtsU2UAwPH/953burXr2pVu62bHBhuM65wDFvABMEqIoiKYGIQHL4kPvuCLvGBCQmKiicYHDfjgiyZ78IKYiCGaISHIINwkbBMmK9K127qu3bqut9Oe8/n7iZ7Tnym72UV5HDavSTD9fTevvzfCt+f3om9aRgiFoTkszvtAgJ42qAVq+McMjr//I6dvvYgUrqDrXA3PlMn9Rx1UvbDiWFRaa5RjPhosm9xUgEA4j9BdnEgFw18h12/z8flDqKyJ7PohQ2KPSanbBmDbwfv8/uUuNvYmCN+E9IMQrtdhqO0J66NzbOqcQcUbkHkdBRgtJSRKoa3P431o4pswuTyxjnJIsNE/i2YrOi/WsGYM4oUAA4Fperzz7N97C19MYi0JrBte5ML2ZrpDGcK3K6hnl7CmTYoRl5f9dyi0SlxdIKtwMvoryXITUyur8GoV2i5nKayu0T6yiPQfSzCVDuEaEgBPCvyTkjNze1FS4FiS8N0qc46fV5rvMhh4wk+T/TR8tcDh7TfhURyZr1hEzprYxzNofzZh5hWhsRK3L26g4cAcy50as0M6H1x5g08e7aOvbgYpFXfuruFk+Br/ntqCTMWDPD4GM7EQwQc2/liJhc0eNj4/ydHoDWr1oJUFWtbAHQ5z4pc3+fqZ76hLaYyWm3AtF9l6RaKZDsIVuIYApcitc7g32sPO+imK0RrtV0qI9hL51YLgOLw9+haVkMtEuR1fdBmx4cPPVbHNZd3ZNK6/nkJHPXULNrGDFlZ0BetSI7Yf6jKKlr+ypHcEaTySJBZrQc/qGAWBREHLDVCmQW5tA8nnoLzKxJOSHFgzRs+Rh9S8CscSFKONZAZcBpvjoCscr0upy0aG7tsYRZelLU2UAxIzo+GdzGEtKqaLAeaLPjp/K1FqVZSDGs2rF7ma6iZ43cDbsUzwuoHM9pks9uqYeRehFG2jVbIDAao+QeLTHs70DlNqsVj7zSz5qGRhvpGhVf9RbBM4jqTQLtD6fLtP2T4NvQK+uE3Vp1M/b2PmQVYV2u4Co4leNM1DZlcVabhY9TX09jLpeADXUsiltSatw+PUZarYfp300xL92jjprTqpHQZnLuxj4NUx5oY0tKzB/vUTbPUneS3yN03jOjsHHyJe8BxV1aENPH5XETlnIhxF8nCVpqt1ZAdrdHelePxPG/1bY5Tf8dE9nORW+ilKf4RpmHVZPFRAf/DFFkRN0HdimomPOsB06fjZJPFSlZYRnSfLEfq3TTGWjBDt0LhwL4hc0XF7a2h7cvT4c/wPoPCYSRZyfNIAAAAASUVORK5CYII=\" y=\"-10.297239\"/>\r\n   </g>\r\n   <g id=\"matplotlib.axis_1\">\r\n    <g id=\"xtick_1\">\r\n     <g id=\"line2d_1\">\r\n      <defs>\r\n       <path d=\"M 0 0 \r\nL 0 3.5 \r\n\" id=\"mb643e34417\" style=\"stroke:#000000;stroke-width:0.8;\"/>\r\n      </defs>\r\n      <g>\r\n       <use style=\"stroke:#000000;stroke-width:0.8;\" x=\"27.201238\" xlink:href=\"#mb643e34417\" y=\"27.297239\"/>\r\n      </g>\r\n     </g>\r\n     <g id=\"text_1\">\r\n      <!-- 0 -->\r\n      <defs>\r\n       <path d=\"M 31.78125 66.40625 \r\nQ 24.171875 66.40625 20.328125 58.90625 \r\nQ 16.5 51.421875 16.5 36.375 \r\nQ 16.5 21.390625 20.328125 13.890625 \r\nQ 24.171875 6.390625 31.78125 6.390625 \r\nQ 39.453125 6.390625 43.28125 13.890625 \r\nQ 47.125 21.390625 47.125 36.375 \r\nQ 47.125 51.421875 43.28125 58.90625 \r\nQ 39.453125 66.40625 31.78125 66.40625 \r\nz\r\nM 31.78125 74.21875 \r\nQ 44.046875 74.21875 50.515625 64.515625 \r\nQ 56.984375 54.828125 56.984375 36.375 \r\nQ 56.984375 17.96875 50.515625 8.265625 \r\nQ 44.046875 -1.421875 31.78125 -1.421875 \r\nQ 19.53125 -1.421875 13.0625 8.265625 \r\nQ 6.59375 17.96875 6.59375 36.375 \r\nQ 6.59375 54.828125 13.0625 64.515625 \r\nQ 19.53125 74.21875 31.78125 74.21875 \r\nz\r\n\" id=\"DejaVuSans-48\"/>\r\n      </defs>\r\n      <g transform=\"translate(24.019988 41.895676)scale(0.1 -0.1)\">\r\n       <use xlink:href=\"#DejaVuSans-48\"/>\r\n      </g>\r\n     </g>\r\n    </g>\r\n    <g id=\"xtick_2\">\r\n     <g id=\"line2d_2\">\r\n      <g>\r\n       <use style=\"stroke:#000000;stroke-width:0.8;\" x=\"41.013119\" xlink:href=\"#mb643e34417\" y=\"27.297239\"/>\r\n      </g>\r\n     </g>\r\n     <g id=\"text_2\">\r\n      <!-- 25 -->\r\n      <defs>\r\n       <path d=\"M 19.1875 8.296875 \r\nL 53.609375 8.296875 \r\nL 53.609375 0 \r\nL 7.328125 0 \r\nL 7.328125 8.296875 \r\nQ 12.9375 14.109375 22.625 23.890625 \r\nQ 32.328125 33.6875 34.8125 36.53125 \r\nQ 39.546875 41.84375 41.421875 45.53125 \r\nQ 43.3125 49.21875 43.3125 52.78125 \r\nQ 43.3125 58.59375 39.234375 62.25 \r\nQ 35.15625 65.921875 28.609375 65.921875 \r\nQ 23.96875 65.921875 18.8125 64.3125 \r\nQ 13.671875 62.703125 7.8125 59.421875 \r\nL 7.8125 69.390625 \r\nQ 13.765625 71.78125 18.9375 73 \r\nQ 24.125 74.21875 28.421875 74.21875 \r\nQ 39.75 74.21875 46.484375 68.546875 \r\nQ 53.21875 62.890625 53.21875 53.421875 \r\nQ 53.21875 48.921875 51.53125 44.890625 \r\nQ 49.859375 40.875 45.40625 35.40625 \r\nQ 44.1875 33.984375 37.640625 27.21875 \r\nQ 31.109375 20.453125 19.1875 8.296875 \r\nz\r\n\" id=\"DejaVuSans-50\"/>\r\n       <path d=\"M 10.796875 72.90625 \r\nL 49.515625 72.90625 \r\nL 49.515625 64.59375 \r\nL 19.828125 64.59375 \r\nL 19.828125 46.734375 \r\nQ 21.96875 47.46875 24.109375 47.828125 \r\nQ 26.265625 48.1875 28.421875 48.1875 \r\nQ 40.625 48.1875 47.75 41.5 \r\nQ 54.890625 34.8125 54.890625 23.390625 \r\nQ 54.890625 11.625 47.5625 5.09375 \r\nQ 40.234375 -1.421875 26.90625 -1.421875 \r\nQ 22.3125 -1.421875 17.546875 -0.640625 \r\nQ 12.796875 0.140625 7.71875 1.703125 \r\nL 7.71875 11.625 \r\nQ 12.109375 9.234375 16.796875 8.0625 \r\nQ 21.484375 6.890625 26.703125 6.890625 \r\nQ 35.15625 6.890625 40.078125 11.328125 \r\nQ 45.015625 15.765625 45.015625 23.390625 \r\nQ 45.015625 31 40.078125 35.4375 \r\nQ 35.15625 39.890625 26.703125 39.890625 \r\nQ 22.75 39.890625 18.8125 39.015625 \r\nQ 14.890625 38.140625 10.796875 36.28125 \r\nz\r\n\" id=\"DejaVuSans-53\"/>\r\n      </defs>\r\n      <g transform=\"translate(34.650619 41.895676)scale(0.1 -0.1)\">\r\n       <use xlink:href=\"#DejaVuSans-50\"/>\r\n       <use x=\"63.623047\" xlink:href=\"#DejaVuSans-53\"/>\r\n      </g>\r\n     </g>\r\n    </g>\r\n   </g>\r\n   <g id=\"matplotlib.axis_2\">\r\n    <g id=\"ytick_1\">\r\n     <g id=\"line2d_3\">\r\n      <defs>\r\n       <path d=\"M 0 0 \r\nL -3.5 0 \r\n\" id=\"mbd2047191e\" style=\"stroke:#000000;stroke-width:0.8;\"/>\r\n      </defs>\r\n      <g>\r\n       <use style=\"stroke:#000000;stroke-width:0.8;\" x=\"26.925\" xlink:href=\"#mbd2047191e\" y=\"10.999219\"/>\r\n      </g>\r\n     </g>\r\n     <g id=\"text_3\">\r\n      <!-- 0 -->\r\n      <g transform=\"translate(13.5625 14.798438)scale(0.1 -0.1)\">\r\n       <use xlink:href=\"#DejaVuSans-48\"/>\r\n      </g>\r\n     </g>\r\n    </g>\r\n    <g id=\"ytick_2\">\r\n     <g id=\"line2d_4\">\r\n      <g>\r\n       <use style=\"stroke:#000000;stroke-width:0.8;\" x=\"26.925\" xlink:href=\"#mbd2047191e\" y=\"24.8111\"/>\r\n      </g>\r\n     </g>\r\n     <g id=\"text_4\">\r\n      <!-- 25 -->\r\n      <g transform=\"translate(7.2 28.610319)scale(0.1 -0.1)\">\r\n       <use xlink:href=\"#DejaVuSans-50\"/>\r\n       <use x=\"63.623047\" xlink:href=\"#DejaVuSans-53\"/>\r\n      </g>\r\n     </g>\r\n    </g>\r\n   </g>\r\n   <g id=\"patch_3\">\r\n    <path d=\"M 26.925 27.297239 \r\nL 26.925 10.722981 \r\n\" style=\"fill:none;stroke:#000000;stroke-linecap:square;stroke-linejoin:miter;stroke-width:0.8;\"/>\r\n   </g>\r\n   <g id=\"patch_4\">\r\n    <path d=\"M 43.499257 27.297239 \r\nL 43.499257 10.722981 \r\n\" style=\"fill:none;stroke:#000000;stroke-linecap:square;stroke-linejoin:miter;stroke-width:0.8;\"/>\r\n   </g>\r\n   <g id=\"patch_5\">\r\n    <path d=\"M 26.925 27.297239 \r\nL 43.499257 27.297239 \r\n\" style=\"fill:none;stroke:#000000;stroke-linecap:square;stroke-linejoin:miter;stroke-width:0.8;\"/>\r\n   </g>\r\n   <g id=\"patch_6\">\r\n    <path d=\"M 26.925 10.722981 \r\nL 43.499257 10.722981 \r\n\" style=\"fill:none;stroke:#000000;stroke-linecap:square;stroke-linejoin:miter;stroke-width:0.8;\"/>\r\n   </g>\r\n  </g>\r\n  <g id=\"axes_2\">\r\n   <g id=\"patch_7\">\r\n    <path d=\"M 46.814109 27.297239 \r\nL 63.388366 27.297239 \r\nL 63.388366 10.722981 \r\nL 46.814109 10.722981 \r\nz\r\n\" style=\"fill:#ffffff;\"/>\r\n   </g>\r\n   <g clip-path=\"url(#p646c7a7ca0)\">\r\n    <image height=\"17\" id=\"imagec04b401cde\" transform=\"scale(1 -1)translate(0 -17)\" width=\"17\" x=\"46.814109\" xlink:href=\"data:image/png;base64,\r\niVBORw0KGgoAAAANSUhEUgAAABEAAAARCAYAAAA7bUf6AAAABHNCSVQICAgIfAhkiAAAA29JREFUOI0l0MtrXFUAwOHfOeeee+eZZGYyM3k25mUbU9QWSqlYKmhR6LZbwZ3gwn/Clbhw78aFglSlG0HEBxoX0oUySkisSWpSp22SZibzSnLnPs45Lvr9CZ+4futDZ31B8m6bt6b+5rfWAtvNOlMTHbI6QeKoZE7Z+GqFWiPE39rHpQakwMxPkOY1XvsFzdi/hvJ7Kd++egMVO9QlgfdlBb3bZemzPULj417rYDbznF6e5eCqx8KdY9TmHsrXiNdf+cB5O08wrRY7H19FJIKgI4gqltnvU06mNJ1Vx+KlR+y1ysRnmuVPUvTeIc5ahNbI7Xd8GC3gTU1S2JPoE0Gm7RjZEXQXfXJHhtEtwc5+lTRR5LYDOis5kJL+9XmipTqeGiiGCxV0N0LGUPsjZTCjqN3rE9VztC5qxh4Ygm8C9KnFH4Qcn89wdHOO/EHK4ZUMcnrN4g0SbNajtBUhjMNJgRnxAShtp7ReUiAgLkqsksgEwqogHFc4BTLJSfRhj2HZJ/PnHtmf16lsDjmdDJCxBQGVdYMwDhU7wqpmWBXgYFiShBMWr7ssCXpVRu49JG21QQhkbPCGFu8sQTiHClNEZOiuFvFCh/VguBLiZ1KCv4p4ScHhJJijFt70FHZ8lLDk4/dS5FmMU5KnlwtMrrXJdAwysqR5Sb6RRUXQX7KIa7c/cnFBEpUFM3eb2LECcSWH7g2xvsewFuCkAOD4wrObcMLgCgbZ9dADiTytK3rLgAVTHSUtBgT7fTqrI3TP5zC+QA9SnAIEpHmHHkiqv2oWvw5xnsMzWSjdd7RfhINrI5xOO8b+yVLeOOHJjSL9eYUaKsIJS3ndUfvlgM6VOklBEJUDFj89QA5WYnIHCbnHgmrjDO9M0F0BpxWVjYRoMiHNO8rrgt7zQO+E0bsNwnFB0ImxDx8jcw98mjd9pn9s89+bWaKqIWgLBucyHL2sEbHEKUgKgpmfEly9giqNkW05vG6ImqjhmazDZC3diyUKj2B0LSXzpANP25Tq4+y8XSadjPG3ffwfGs+Sz81Q/67J/q1Z+kslZLo4RI5HdC5I6nc20ScJOAdCwmELvyt47nPozwPWAGBKeUgSrC+o/Q7S9DSimSXTht33V/H2O9icjyjmsb0Bc180yTR2cQq8uVmcdbjGfQh8MseW/TdS/gePoI/ku0CBJgAAAABJRU5ErkJggg==\" y=\"-10.297239\"/>\r\n   </g>\r\n   <g id=\"matplotlib.axis_3\">\r\n    <g id=\"xtick_3\">\r\n     <g id=\"line2d_5\">\r\n      <g>\r\n       <use style=\"stroke:#000000;stroke-width:0.8;\" x=\"47.090347\" xlink:href=\"#mb643e34417\" y=\"27.297239\"/>\r\n      </g>\r\n     </g>\r\n     <g id=\"text_5\">\r\n      <!-- 0 -->\r\n      <g transform=\"translate(43.909097 41.895676)scale(0.1 -0.1)\">\r\n       <use xlink:href=\"#DejaVuSans-48\"/>\r\n      </g>\r\n     </g>\r\n    </g>\r\n    <g id=\"xtick_4\">\r\n     <g id=\"line2d_6\">\r\n      <g>\r\n       <use style=\"stroke:#000000;stroke-width:0.8;\" x=\"60.902228\" xlink:href=\"#mb643e34417\" y=\"27.297239\"/>\r\n      </g>\r\n     </g>\r\n     <g id=\"text_6\">\r\n      <!-- 25 -->\r\n      <g transform=\"translate(54.539728 41.895676)scale(0.1 -0.1)\">\r\n       <use xlink:href=\"#DejaVuSans-50\"/>\r\n       <use x=\"63.623047\" xlink:href=\"#DejaVuSans-53\"/>\r\n      </g>\r\n     </g>\r\n    </g>\r\n   </g>\r\n   <g id=\"matplotlib.axis_4\">\r\n    <g id=\"ytick_3\">\r\n     <g id=\"line2d_7\">\r\n      <g>\r\n       <use style=\"stroke:#000000;stroke-width:0.8;\" x=\"46.814109\" xlink:href=\"#mbd2047191e\" y=\"10.999219\"/>\r\n      </g>\r\n     </g>\r\n     <g id=\"text_7\">\r\n      <!-- 0 -->\r\n      <g transform=\"translate(33.451609 14.798438)scale(0.1 -0.1)\">\r\n       <use xlink:href=\"#DejaVuSans-48\"/>\r\n      </g>\r\n     </g>\r\n    </g>\r\n    <g id=\"ytick_4\">\r\n     <g id=\"line2d_8\">\r\n      <g>\r\n       <use style=\"stroke:#000000;stroke-width:0.8;\" x=\"46.814109\" xlink:href=\"#mbd2047191e\" y=\"24.8111\"/>\r\n      </g>\r\n     </g>\r\n     <g id=\"text_8\">\r\n      <!-- 25 -->\r\n      <g transform=\"translate(27.089109 28.610319)scale(0.1 -0.1)\">\r\n       <use xlink:href=\"#DejaVuSans-50\"/>\r\n       <use x=\"63.623047\" xlink:href=\"#DejaVuSans-53\"/>\r\n      </g>\r\n     </g>\r\n    </g>\r\n   </g>\r\n   <g id=\"patch_8\">\r\n    <path d=\"M 46.814109 27.297239 \r\nL 46.814109 10.722981 \r\n\" style=\"fill:none;stroke:#000000;stroke-linecap:square;stroke-linejoin:miter;stroke-width:0.8;\"/>\r\n   </g>\r\n   <g id=\"patch_9\">\r\n    <path d=\"M 63.388366 27.297239 \r\nL 63.388366 10.722981 \r\n\" style=\"fill:none;stroke:#000000;stroke-linecap:square;stroke-linejoin:miter;stroke-width:0.8;\"/>\r\n   </g>\r\n   <g id=\"patch_10\">\r\n    <path d=\"M 46.814109 27.297239 \r\nL 63.388366 27.297239 \r\n\" style=\"fill:none;stroke:#000000;stroke-linecap:square;stroke-linejoin:miter;stroke-width:0.8;\"/>\r\n   </g>\r\n   <g id=\"patch_11\">\r\n    <path d=\"M 46.814109 10.722981 \r\nL 63.388366 10.722981 \r\n\" style=\"fill:none;stroke:#000000;stroke-linecap:square;stroke-linejoin:miter;stroke-width:0.8;\"/>\r\n   </g>\r\n  </g>\r\n  <g id=\"axes_3\">\r\n   <g id=\"patch_12\">\r\n    <path d=\"M 66.703218 27.297239 \r\nL 83.277475 27.297239 \r\nL 83.277475 10.722981 \r\nL 66.703218 10.722981 \r\nz\r\n\" style=\"fill:#ffffff;\"/>\r\n   </g>\r\n   <g clip-path=\"url(#p3a987a00f8)\">\r\n    <image height=\"17\" id=\"imagea78d4ba9d3\" transform=\"scale(1 -1)translate(0 -17)\" width=\"17\" x=\"66.703218\" xlink:href=\"data:image/png;base64,\r\niVBORw0KGgoAAAANSUhEUgAAABEAAAARCAYAAAA7bUf6AAAABHNCSVQICAgIfAhkiAAAAx9JREFUOI01kjtvXGUQhp+Z7zu79tmzF3vXxheiYEEREBJEoqKIZCoKCiQ6+AMUSDT8Bir+AAUlFRVCdKlQRBWHIKJwSew4CXbW113venfPes+Zodgw9czoeWce2d7+2kNeELt9rJWh/UtOb22SjI3G7yfMNprEfs7hB0us3p1QOejh5z1OP36Lzo9/IY0MrRxf4iocb29ytbzIn1+t09455+g9ZeG7ITopOHq/xcpvOckfe3jvAmk26Pz0NzYcYkcnyIfXvnTrNLH7D9F33kQK4/zdJZbvnSGTKY8+32Rlx2jd7eIxgAic9fB8CqpQlqgt19HekNBqIqMcgGlTkekMryQUqTFpKxQlli1CUKTZmA+3mkitRsTAsxSSCIBMpqzfPsIvBvj6Kp17yiwTvFEjnA/wfIq3GujG2rw/KCqzAplM55iqeBLBDEkSynqVlV9ekHegrFdBFVEFmEebFXgMKDHg5z1mrzTwgy62u4+YQ5IQLyZYI2Xr+y77H9U4ubUB1QoExRcSrJlhrRrqQZClFsmDJ9hohBcFuENQODpFzwbIcMTr3zwEgWKthUcFVcpGFR1MUA8BzCgHl4ROm7h1nXI5m8ebFWA2v5konTtdHn26iKUVTm82yVerIELU8RTPUuTmDdg7hKIkdHt4niONOv+XtBqU9ZTas8DuJzWu3Z7x9DMjVlIUFcpaBSkMyWqgMv9UZxlimG8YjiCfoqOcjTuX1A6Eq2bkxhePSX/NiF5NiKdDynYdazewSiD0x8jlGKoVvD5HtiSggzGTtQVe/WEfYsBVWPt2B/UkwCRHpjP09AIxx+oLc4pJjmULIIIOxuRbHdKf71McvsCW6mCOzwqiTGcU11YIe4eUr63jKmhe4FmKB3nphCLuVP/t45UESSJWCcT2ElqWKIA40F5Cx1fEZ8fI8yP8yXP0bABmWDVSrDYpH+/PFQD0wS4eA3J9E/VqgiWKZVVs9ynECG5YPsV6fTCIh+foVQlWgjkSX1o9K5DBaE6iVyU6voK338AHQ4gRXahi4zHyzz7W6+NB0DTFyxJCQGopAOX6Mv8B6jFzuyTcI2oAAAAASUVORK5CYII=\" y=\"-10.297239\"/>\r\n   </g>\r\n   <g id=\"matplotlib.axis_5\">\r\n    <g id=\"xtick_5\">\r\n     <g id=\"line2d_9\">\r\n      <g>\r\n       <use style=\"stroke:#000000;stroke-width:0.8;\" x=\"66.979455\" xlink:href=\"#mb643e34417\" y=\"27.297239\"/>\r\n      </g>\r\n     </g>\r\n     <g id=\"text_9\">\r\n      <!-- 0 -->\r\n      <g transform=\"translate(63.798205 41.895676)scale(0.1 -0.1)\">\r\n       <use xlink:href=\"#DejaVuSans-48\"/>\r\n      </g>\r\n     </g>\r\n    </g>\r\n    <g id=\"xtick_6\">\r\n     <g id=\"line2d_10\">\r\n      <g>\r\n       <use style=\"stroke:#000000;stroke-width:0.8;\" x=\"80.791337\" xlink:href=\"#mb643e34417\" y=\"27.297239\"/>\r\n      </g>\r\n     </g>\r\n     <g id=\"text_10\">\r\n      <!-- 25 -->\r\n      <g transform=\"translate(74.428837 41.895676)scale(0.1 -0.1)\">\r\n       <use xlink:href=\"#DejaVuSans-50\"/>\r\n       <use x=\"63.623047\" xlink:href=\"#DejaVuSans-53\"/>\r\n      </g>\r\n     </g>\r\n    </g>\r\n   </g>\r\n   <g id=\"matplotlib.axis_6\">\r\n    <g id=\"ytick_5\">\r\n     <g id=\"line2d_11\">\r\n      <g>\r\n       <use style=\"stroke:#000000;stroke-width:0.8;\" x=\"66.703218\" xlink:href=\"#mbd2047191e\" y=\"10.999219\"/>\r\n      </g>\r\n     </g>\r\n     <g id=\"text_11\">\r\n      <!-- 0 -->\r\n      <g transform=\"translate(53.340718 14.798438)scale(0.1 -0.1)\">\r\n       <use xlink:href=\"#DejaVuSans-48\"/>\r\n      </g>\r\n     </g>\r\n    </g>\r\n    <g id=\"ytick_6\">\r\n     <g id=\"line2d_12\">\r\n      <g>\r\n       <use style=\"stroke:#000000;stroke-width:0.8;\" x=\"66.703218\" xlink:href=\"#mbd2047191e\" y=\"24.8111\"/>\r\n      </g>\r\n     </g>\r\n     <g id=\"text_12\">\r\n      <!-- 25 -->\r\n      <g transform=\"translate(46.978218 28.610319)scale(0.1 -0.1)\">\r\n       <use xlink:href=\"#DejaVuSans-50\"/>\r\n       <use x=\"63.623047\" xlink:href=\"#DejaVuSans-53\"/>\r\n      </g>\r\n     </g>\r\n    </g>\r\n   </g>\r\n   <g id=\"patch_13\">\r\n    <path d=\"M 66.703218 27.297239 \r\nL 66.703218 10.722981 \r\n\" style=\"fill:none;stroke:#000000;stroke-linecap:square;stroke-linejoin:miter;stroke-width:0.8;\"/>\r\n   </g>\r\n   <g id=\"patch_14\">\r\n    <path d=\"M 83.277475 27.297239 \r\nL 83.277475 10.722981 \r\n\" style=\"fill:none;stroke:#000000;stroke-linecap:square;stroke-linejoin:miter;stroke-width:0.8;\"/>\r\n   </g>\r\n   <g id=\"patch_15\">\r\n    <path d=\"M 66.703218 27.297239 \r\nL 83.277475 27.297239 \r\n\" style=\"fill:none;stroke:#000000;stroke-linecap:square;stroke-linejoin:miter;stroke-width:0.8;\"/>\r\n   </g>\r\n   <g id=\"patch_16\">\r\n    <path d=\"M 66.703218 10.722981 \r\nL 83.277475 10.722981 \r\n\" style=\"fill:none;stroke:#000000;stroke-linecap:square;stroke-linejoin:miter;stroke-width:0.8;\"/>\r\n   </g>\r\n  </g>\r\n  <g id=\"axes_4\">\r\n   <g id=\"patch_17\">\r\n    <path d=\"M 86.592327 27.297239 \r\nL 103.166584 27.297239 \r\nL 103.166584 10.722981 \r\nL 86.592327 10.722981 \r\nz\r\n\" style=\"fill:#ffffff;\"/>\r\n   </g>\r\n   <g clip-path=\"url(#p614768ac81)\">\r\n    <image height=\"17\" id=\"image8423b0fb97\" transform=\"scale(1 -1)translate(0 -17)\" width=\"17\" x=\"86.592327\" xlink:href=\"data:image/png;base64,\r\niVBORw0KGgoAAAANSUhEUgAAABEAAAARCAYAAAA7bUf6AAAABHNCSVQICAgIfAhkiAAAA65JREFUOI0FwVtsU2UAwPH/951z2tN2a3s62rV0K7sAQwj3xQCRBEKMBjV4eSBeYnzDhEfffNqDDybKs8QYiUqCCS9q4hUNUxFZpsk2B3jZ7AbD0XVbt7U9O/fP308cOHdBBUnB+XOf8WTqb245Zcaag5zOTuIrnRBBXmtydvR1it8ZWJOriKaN39OFn4nhWBqi8uHbKv1HjK5pl9qjcZxCRHZwldZkF9IXvPfqRW62d7DgWky8e4AwJlg66bPzfQ/tr/uIZAJtv/f4SG58BfHbHfJv+ehZj7VWkq07lpGjnVyxDzGrLJ4tTSCGNxH72pgXLeL3GghNQyVNtMcuV0bsLzrQUiluD5UJDHDXTTbup7G3guZIvHoCtyDoNBxG7+7CNWNY000WT/cQdSYRh758UyU+yGLWPWZfMLHuCNa3Q891HxEq6uc3CSaz6C1ILCvMtZClQxrSF2RmI5aGQYqrXcQbPl7aoPirQmkQJiOimAQg9nWGwRNVhIJ2SSBCMDYETjGkWZFEZoR0cwJj2SZISjI/VSlcnqL3mqKxQwdA86D2UR+b3QqA9X6d9l4HFYtobwvYv2ce3TnSYrVu0fXDHMFSHYREcyPMFYUMFel5F+lFpOc1Fk7F0B2BCiXPHJygQ3O5MnYEPZdu4ydSBLU6erEbZaWxOzSSywEiUIhIUT2TYPBqi9xtg3ZJkMxs8s0/uwnqJrn+BlpRf36kVRHUXi6Q/9kGM4bdk8BsBCAEzUoc3Ra0KnHWTm2iKg7HeudIpxye2/0761EKuXw4In90ESKBN5CnOZQlO73G4lGT/46buFlJx2IICkJfEoWSmtPJ9M3tfPXGSQIl0eUWl/ovJfqOP2DmxW62DdSo3iqx9YbH3NMaap/Num3QX36IPVam95rLgz39aF3g5HQS59PIM0NTpOcUc/8WKI1K6s0U5WMPiDRBbkryxMBdkp0uC7fK5A/XiM/UKF6awOnziK+FqOp95Od/7sd67R7bP/FxXmowlF+iupCnftBg7aTDQyeNoYWECYX3aTd+7xZksUBs0SC24SO2ldHzuQ1ycZuJE0ncGZOV6xl2zTRgaQVVKjD/jsXx8izfTg+TuzyO0HWinX0Mflxn9pU88b0u8qnybQZSyxjDDYZG7gAQZhLgB4iFRWq1LOMXDpPau4oKAgC8fArh+UQxED9ayKq9hbGVPtozGeYv9dIxPo/WsBG5LFGrzSMjdazvZwkiibZnCBUEGDemiVIJ4g3B8Nkp/gfDZ5sRwQf9JQAAAABJRU5ErkJggg==\" y=\"-10.297239\"/>\r\n   </g>\r\n   <g id=\"matplotlib.axis_7\">\r\n    <g id=\"xtick_7\">\r\n     <g id=\"line2d_13\">\r\n      <g>\r\n       <use style=\"stroke:#000000;stroke-width:0.8;\" x=\"86.868564\" xlink:href=\"#mb643e34417\" y=\"27.297239\"/>\r\n      </g>\r\n     </g>\r\n     <g id=\"text_13\">\r\n      <!-- 0 -->\r\n      <g transform=\"translate(83.687314 41.895676)scale(0.1 -0.1)\">\r\n       <use xlink:href=\"#DejaVuSans-48\"/>\r\n      </g>\r\n     </g>\r\n    </g>\r\n    <g id=\"xtick_8\">\r\n     <g id=\"line2d_14\">\r\n      <g>\r\n       <use style=\"stroke:#000000;stroke-width:0.8;\" x=\"100.680446\" xlink:href=\"#mb643e34417\" y=\"27.297239\"/>\r\n      </g>\r\n     </g>\r\n     <g id=\"text_14\">\r\n      <!-- 25 -->\r\n      <g transform=\"translate(94.317946 41.895676)scale(0.1 -0.1)\">\r\n       <use xlink:href=\"#DejaVuSans-50\"/>\r\n       <use x=\"63.623047\" xlink:href=\"#DejaVuSans-53\"/>\r\n      </g>\r\n     </g>\r\n    </g>\r\n   </g>\r\n   <g id=\"matplotlib.axis_8\">\r\n    <g id=\"ytick_7\">\r\n     <g id=\"line2d_15\">\r\n      <g>\r\n       <use style=\"stroke:#000000;stroke-width:0.8;\" x=\"86.592327\" xlink:href=\"#mbd2047191e\" y=\"10.999219\"/>\r\n      </g>\r\n     </g>\r\n     <g id=\"text_15\">\r\n      <!-- 0 -->\r\n      <g transform=\"translate(73.229827 14.798438)scale(0.1 -0.1)\">\r\n       <use xlink:href=\"#DejaVuSans-48\"/>\r\n      </g>\r\n     </g>\r\n    </g>\r\n    <g id=\"ytick_8\">\r\n     <g id=\"line2d_16\">\r\n      <g>\r\n       <use style=\"stroke:#000000;stroke-width:0.8;\" x=\"86.592327\" xlink:href=\"#mbd2047191e\" y=\"24.8111\"/>\r\n      </g>\r\n     </g>\r\n     <g id=\"text_16\">\r\n      <!-- 25 -->\r\n      <g transform=\"translate(66.867327 28.610319)scale(0.1 -0.1)\">\r\n       <use xlink:href=\"#DejaVuSans-50\"/>\r\n       <use x=\"63.623047\" xlink:href=\"#DejaVuSans-53\"/>\r\n      </g>\r\n     </g>\r\n    </g>\r\n   </g>\r\n   <g id=\"patch_18\">\r\n    <path d=\"M 86.592327 27.297239 \r\nL 86.592327 10.722981 \r\n\" style=\"fill:none;stroke:#000000;stroke-linecap:square;stroke-linejoin:miter;stroke-width:0.8;\"/>\r\n   </g>\r\n   <g id=\"patch_19\">\r\n    <path d=\"M 103.166584 27.297239 \r\nL 103.166584 10.722981 \r\n\" style=\"fill:none;stroke:#000000;stroke-linecap:square;stroke-linejoin:miter;stroke-width:0.8;\"/>\r\n   </g>\r\n   <g id=\"patch_20\">\r\n    <path d=\"M 86.592327 27.297239 \r\nL 103.166584 27.297239 \r\n\" style=\"fill:none;stroke:#000000;stroke-linecap:square;stroke-linejoin:miter;stroke-width:0.8;\"/>\r\n   </g>\r\n   <g id=\"patch_21\">\r\n    <path d=\"M 86.592327 10.722981 \r\nL 103.166584 10.722981 \r\n\" style=\"fill:none;stroke:#000000;stroke-linecap:square;stroke-linejoin:miter;stroke-width:0.8;\"/>\r\n   </g>\r\n  </g>\r\n  <g id=\"axes_5\">\r\n   <g id=\"patch_22\">\r\n    <path d=\"M 106.481436 27.297239 \r\nL 123.055693 27.297239 \r\nL 123.055693 10.722981 \r\nL 106.481436 10.722981 \r\nz\r\n\" style=\"fill:#ffffff;\"/>\r\n   </g>\r\n   <g clip-path=\"url(#pcd07fcd6bd)\">\r\n    <image height=\"17\" id=\"image6cf185478e\" transform=\"scale(1 -1)translate(0 -17)\" width=\"17\" x=\"106.481436\" xlink:href=\"data:image/png;base64,\r\niVBORw0KGgoAAAANSUhEUgAAABEAAAARCAYAAAA7bUf6AAAABHNCSVQICAgIfAhkiAAAA+dJREFUOI0lz/1P1HUAwPH353vf7z3RKQgnB3eniIUPIE4hTNkqScunpVPbNNpyroeJ1nIraz1s/mBbD7TVdLaF0/lDS1f4ixZkPhtic16SyAApQTj1wDs4vLvvPXy/308/+PoPXqKusVmmpit8vauFHDbK1Ri7BrbwYVkby11pTut5zNce8tJPH1B62cDd9xAmJjEqAmQL7OiFKmJTx9vyxqUKSi8bjDSoWC6LVUu6OHN2EfZxwe5tJ9jXsQ7FaRI4rmFpgpG1Jk8dyqHeuoOY4kEseuMb6f1rHNk7wDu93aQtO5/3rubdivM0H9mM7rNwBBPsqTpNv+4jJ22E3l+MY3gcpETmObG1tt7ee7atDtXu4lZDMeXuMdoHFnDbmI4MpEnlNNQBN13O6ewIXKD55kp01U3+rUc8WOkjN9WB2Hl9q7x6oBbXQxN9xzjxUBFmeZr8C06cMYtnP+3kl/Z6hAHu+wLPPYPI0zZMp8TXKYnUKihXvq9FS1pkPQrZdi9Zr0lV4B6OCQvDKWg9Vc+LK0LYHwkmqgxsaYnrgYCSNA+WKMhgGjGj5Us55wedsRoPvt+GkfFJousriVVCyVWT0UUq7vuSZBAcMYGakpRtHSCZc1DgTPGZ/1eUjTXXCT8/BV/7CEb4PpaeRk1bTPkP1JRF8JzO1EEDX6dJYqaJ4RbcGAyyc8Y5Vk7rYX1HE8oyzwCZIokxfA/b7JnImrlk8hVcMQvLJpBCMPiKxBHNUBRSsFSoCET4pHsD+y68zPIn+1H2trxGdf1tGnuGAFD0HFmPQEtYaCmD+CwH2pjG0Fo3q3dfIlme426sgKInksybO8KZUCVK5YZefixv4262iOgzxQyvKqDonwzDK2zcWefEcAtKOkxcEUHbyHw8xQkWl44wes5PqtlP/cJ+xN9DAbnhUhPfLj3GmXglm6ddY/vVbXhPOhmrgdIFEWyKxZqSbg52NlDWCvFZKpOzJd4Q5HdPoFTbnTj7nFycnMvv7bXYMTm57CCWJrDpgvNVrShCcvDPF1hR3YO7b5Tio10ofh1H3IQ7YZSPI9V0Ne3nSnMd3205jCZM9o81EF2ls3rNNcJminlTI2DB9SPVZMoKETP9GFEnSsbCqpz1uFNqM1l383U8jgzJFj+ewRRqOEa23MvOQz9TpkbZeLGJijdvIjQVq2o2tkSGfxsLWfhc/+NOTy6PL+acQHs1Q8KvkCl0YE3E0XrDHButY/tX7/HRkjZkLouwa+glLgAsDbrOV6CMmymCtgR7ejex5WKI4PEhXOEkorQYcyzK5FteSk4N05fyIZcuxNLT5P3RTW6aG2mTHG08wP/HOrPL7jcLCQAAAABJRU5ErkJggg==\" y=\"-10.297239\"/>\r\n   </g>\r\n   <g id=\"matplotlib.axis_9\">\r\n    <g id=\"xtick_9\">\r\n     <g id=\"line2d_17\">\r\n      <g>\r\n       <use style=\"stroke:#000000;stroke-width:0.8;\" x=\"106.757673\" xlink:href=\"#mb643e34417\" y=\"27.297239\"/>\r\n      </g>\r\n     </g>\r\n     <g id=\"text_17\">\r\n      <!-- 0 -->\r\n      <g transform=\"translate(103.576423 41.895676)scale(0.1 -0.1)\">\r\n       <use xlink:href=\"#DejaVuSans-48\"/>\r\n      </g>\r\n     </g>\r\n    </g>\r\n    <g id=\"xtick_10\">\r\n     <g id=\"line2d_18\">\r\n      <g>\r\n       <use style=\"stroke:#000000;stroke-width:0.8;\" x=\"120.569554\" xlink:href=\"#mb643e34417\" y=\"27.297239\"/>\r\n      </g>\r\n     </g>\r\n     <g id=\"text_18\">\r\n      <!-- 25 -->\r\n      <g transform=\"translate(114.207054 41.895676)scale(0.1 -0.1)\">\r\n       <use xlink:href=\"#DejaVuSans-50\"/>\r\n       <use x=\"63.623047\" xlink:href=\"#DejaVuSans-53\"/>\r\n      </g>\r\n     </g>\r\n    </g>\r\n   </g>\r\n   <g id=\"matplotlib.axis_10\">\r\n    <g id=\"ytick_9\">\r\n     <g id=\"line2d_19\">\r\n      <g>\r\n       <use style=\"stroke:#000000;stroke-width:0.8;\" x=\"106.481436\" xlink:href=\"#mbd2047191e\" y=\"10.999219\"/>\r\n      </g>\r\n     </g>\r\n     <g id=\"text_19\">\r\n      <!-- 0 -->\r\n      <g transform=\"translate(93.118936 14.798438)scale(0.1 -0.1)\">\r\n       <use xlink:href=\"#DejaVuSans-48\"/>\r\n      </g>\r\n     </g>\r\n    </g>\r\n    <g id=\"ytick_10\">\r\n     <g id=\"line2d_20\">\r\n      <g>\r\n       <use style=\"stroke:#000000;stroke-width:0.8;\" x=\"106.481436\" xlink:href=\"#mbd2047191e\" y=\"24.8111\"/>\r\n      </g>\r\n     </g>\r\n     <g id=\"text_20\">\r\n      <!-- 25 -->\r\n      <g transform=\"translate(86.756436 28.610319)scale(0.1 -0.1)\">\r\n       <use xlink:href=\"#DejaVuSans-50\"/>\r\n       <use x=\"63.623047\" xlink:href=\"#DejaVuSans-53\"/>\r\n      </g>\r\n     </g>\r\n    </g>\r\n   </g>\r\n   <g id=\"patch_23\">\r\n    <path d=\"M 106.481436 27.297239 \r\nL 106.481436 10.722981 \r\n\" style=\"fill:none;stroke:#000000;stroke-linecap:square;stroke-linejoin:miter;stroke-width:0.8;\"/>\r\n   </g>\r\n   <g id=\"patch_24\">\r\n    <path d=\"M 123.055693 27.297239 \r\nL 123.055693 10.722981 \r\n\" style=\"fill:none;stroke:#000000;stroke-linecap:square;stroke-linejoin:miter;stroke-width:0.8;\"/>\r\n   </g>\r\n   <g id=\"patch_25\">\r\n    <path d=\"M 106.481436 27.297239 \r\nL 123.055693 27.297239 \r\n\" style=\"fill:none;stroke:#000000;stroke-linecap:square;stroke-linejoin:miter;stroke-width:0.8;\"/>\r\n   </g>\r\n   <g id=\"patch_26\">\r\n    <path d=\"M 106.481436 10.722981 \r\nL 123.055693 10.722981 \r\n\" style=\"fill:none;stroke:#000000;stroke-linecap:square;stroke-linejoin:miter;stroke-width:0.8;\"/>\r\n   </g>\r\n  </g>\r\n  <g id=\"axes_6\">\r\n   <g id=\"patch_27\">\r\n    <path d=\"M 126.370545 27.297239 \r\nL 142.944802 27.297239 \r\nL 142.944802 10.722981 \r\nL 126.370545 10.722981 \r\nz\r\n\" style=\"fill:#ffffff;\"/>\r\n   </g>\r\n   <g clip-path=\"url(#p14ff257276)\">\r\n    <image height=\"17\" id=\"image341d88c8e6\" transform=\"scale(1 -1)translate(0 -17)\" width=\"17\" x=\"126.370545\" xlink:href=\"data:image/png;base64,\r\niVBORw0KGgoAAAANSUhEUgAAABEAAAARCAYAAAA7bUf6AAAABHNCSVQICAgIfAhkiAAAA1xJREFUOI0lkt1qHGUAQM/3NzO7O7ObTdY0mzZ/jU0rBmktNtLiRQUVrddee+m9+AC+iT6DeiWCCgqVUrGUakhJSqJps/87s5Pd2Zn5Pi/yAodz4IgP7nzt+PNv5u/fpPK8hw0DxNkArIPlRcQowTbriFddRBQy2b2EsA41s6jzAusrdHqlSuDvEvxxgF1vI8cpdmWJ2UqNyqNDaNSR6ZTJu9v039QUNUe2Nid85tM40oy3FHLSVnhHHQYP3gAgudlGnPYoaorhhzvYbh83HAEgHFy++x8Pdp9Su98h+3xIcSdBL+5nJO9cobPnqPRCZk1FVKswWVUkW5boeBv9zzFOgVVgZMlnSw/5cvknvhntsRO8QprRjPGmRk0l6Yph2hI4z9A4zBG5II8MCIGaWQBaQUpNzDECtv0zSifQoxsR8fWC8FDT3StAO3p3l6l2CpxxZAuKahSiZyUqg4cvNvnWu8fj3hqb9QGT3EefvWe5vNnjZbZMa31EUUqSjUXCU0dZs6Rtjb3bZunnYy6PGpx4TX44u03lTPKoeon5Rob++PYTHnevcOv2c8bzCp0kxIshDxVIS7xTkGxKEOsE/ZK17wdMdhp4o4wykHSyALkR9NlpdtioDlDCEg+rZAtgtcD0NPV2gosKxlclyZqmrPuEhwleJ8WkBc0Di/4ofMqtygtO8iV+72xBKRAlxJuSfHnOa0HGrGbw3k4ZHTZoHGqyJZ/BDU3t1OLHFrmqi4s/bEAyDQCYbWWUHqihYZRWaDUmTKceQVfitGR4TZOulcyWJMefgJw7x362yncv30IIhxfNkSNDHjmQDqUs8TTAnVTxh454XTNvgFicE79esrHdQf81b9FQKe1qTDwLOJ/4uGaO6xucgmRYxQQFMgMvcXT2HC6wrLbGrG2NiHSGvGb6LKhzFswUTxfYQoJwWOO4aFPkU4NJBQAmkeiBZnfxJRvVAdYJZCQcv8Q3eDJYpTuMqDfPEcrh9AVElAKRaNKtnPG2xB8InHGkhc+PJ9fpZzX0V/9+yv5gmWvNLgCvhhGV6pw0Uxc22qL9EmsFZUUjSoGT0JvVmGYez05XkAtmyhfbv3Kv+RyjSu5fPaAVpgT1jEpzitQWz8+xE0NRszgNJpYc/bZOcRSSp4b/AckJjCmL4HhuAAAAAElFTkSuQmCC\" y=\"-10.297239\"/>\r\n   </g>\r\n   <g id=\"matplotlib.axis_11\">\r\n    <g id=\"xtick_11\">\r\n     <g id=\"line2d_21\">\r\n      <g>\r\n       <use style=\"stroke:#000000;stroke-width:0.8;\" x=\"126.646782\" xlink:href=\"#mb643e34417\" y=\"27.297239\"/>\r\n      </g>\r\n     </g>\r\n     <g id=\"text_21\">\r\n      <!-- 0 -->\r\n      <g transform=\"translate(123.465532 41.895676)scale(0.1 -0.1)\">\r\n       <use xlink:href=\"#DejaVuSans-48\"/>\r\n      </g>\r\n     </g>\r\n    </g>\r\n    <g id=\"xtick_12\">\r\n     <g id=\"line2d_22\">\r\n      <g>\r\n       <use style=\"stroke:#000000;stroke-width:0.8;\" x=\"140.458663\" xlink:href=\"#mb643e34417\" y=\"27.297239\"/>\r\n      </g>\r\n     </g>\r\n     <g id=\"text_22\">\r\n      <!-- 25 -->\r\n      <g transform=\"translate(134.096163 41.895676)scale(0.1 -0.1)\">\r\n       <use xlink:href=\"#DejaVuSans-50\"/>\r\n       <use x=\"63.623047\" xlink:href=\"#DejaVuSans-53\"/>\r\n      </g>\r\n     </g>\r\n    </g>\r\n   </g>\r\n   <g id=\"matplotlib.axis_12\">\r\n    <g id=\"ytick_11\">\r\n     <g id=\"line2d_23\">\r\n      <g>\r\n       <use style=\"stroke:#000000;stroke-width:0.8;\" x=\"126.370545\" xlink:href=\"#mbd2047191e\" y=\"10.999219\"/>\r\n      </g>\r\n     </g>\r\n     <g id=\"text_23\">\r\n      <!-- 0 -->\r\n      <g transform=\"translate(113.008045 14.798438)scale(0.1 -0.1)\">\r\n       <use xlink:href=\"#DejaVuSans-48\"/>\r\n      </g>\r\n     </g>\r\n    </g>\r\n    <g id=\"ytick_12\">\r\n     <g id=\"line2d_24\">\r\n      <g>\r\n       <use style=\"stroke:#000000;stroke-width:0.8;\" x=\"126.370545\" xlink:href=\"#mbd2047191e\" y=\"24.8111\"/>\r\n      </g>\r\n     </g>\r\n     <g id=\"text_24\">\r\n      <!-- 25 -->\r\n      <g transform=\"translate(106.645545 28.610319)scale(0.1 -0.1)\">\r\n       <use xlink:href=\"#DejaVuSans-50\"/>\r\n       <use x=\"63.623047\" xlink:href=\"#DejaVuSans-53\"/>\r\n      </g>\r\n     </g>\r\n    </g>\r\n   </g>\r\n   <g id=\"patch_28\">\r\n    <path d=\"M 126.370545 27.297239 \r\nL 126.370545 10.722981 \r\n\" style=\"fill:none;stroke:#000000;stroke-linecap:square;stroke-linejoin:miter;stroke-width:0.8;\"/>\r\n   </g>\r\n   <g id=\"patch_29\">\r\n    <path d=\"M 142.944802 27.297239 \r\nL 142.944802 10.722981 \r\n\" style=\"fill:none;stroke:#000000;stroke-linecap:square;stroke-linejoin:miter;stroke-width:0.8;\"/>\r\n   </g>\r\n   <g id=\"patch_30\">\r\n    <path d=\"M 126.370545 27.297239 \r\nL 142.944802 27.297239 \r\n\" style=\"fill:none;stroke:#000000;stroke-linecap:square;stroke-linejoin:miter;stroke-width:0.8;\"/>\r\n   </g>\r\n   <g id=\"patch_31\">\r\n    <path d=\"M 126.370545 10.722981 \r\nL 142.944802 10.722981 \r\n\" style=\"fill:none;stroke:#000000;stroke-linecap:square;stroke-linejoin:miter;stroke-width:0.8;\"/>\r\n   </g>\r\n  </g>\r\n  <g id=\"axes_7\">\r\n   <g id=\"patch_32\">\r\n    <path d=\"M 146.259653 27.297239 \r\nL 162.833911 27.297239 \r\nL 162.833911 10.722981 \r\nL 146.259653 10.722981 \r\nz\r\n\" style=\"fill:#ffffff;\"/>\r\n   </g>\r\n   <g clip-path=\"url(#p026730d166)\">\r\n    <image height=\"17\" id=\"imageabd9d5aba8\" transform=\"scale(1 -1)translate(0 -17)\" width=\"17\" x=\"146.259653\" xlink:href=\"data:image/png;base64,\r\niVBORw0KGgoAAAANSUhEUgAAABEAAAARCAYAAAA7bUf6AAAABHNCSVQICAgIfAhkiAAAAB5JREFUOI1jdGEM+c9AIWCi1IBRQ0YNGTVk1BAoAACbHQG6PJ5VBgAAAABJRU5ErkJggg==\" y=\"-10.297239\"/>\r\n   </g>\r\n   <g id=\"matplotlib.axis_13\">\r\n    <g id=\"xtick_13\">\r\n     <g id=\"line2d_25\">\r\n      <g>\r\n       <use style=\"stroke:#000000;stroke-width:0.8;\" x=\"146.535891\" xlink:href=\"#mb643e34417\" y=\"27.297239\"/>\r\n      </g>\r\n     </g>\r\n     <g id=\"text_25\">\r\n      <!-- 0 -->\r\n      <g transform=\"translate(143.354641 41.895676)scale(0.1 -0.1)\">\r\n       <use xlink:href=\"#DejaVuSans-48\"/>\r\n      </g>\r\n     </g>\r\n    </g>\r\n    <g id=\"xtick_14\">\r\n     <g id=\"line2d_26\">\r\n      <g>\r\n       <use style=\"stroke:#000000;stroke-width:0.8;\" x=\"160.347772\" xlink:href=\"#mb643e34417\" y=\"27.297239\"/>\r\n      </g>\r\n     </g>\r\n     <g id=\"text_26\">\r\n      <!-- 25 -->\r\n      <g transform=\"translate(153.985272 41.895676)scale(0.1 -0.1)\">\r\n       <use xlink:href=\"#DejaVuSans-50\"/>\r\n       <use x=\"63.623047\" xlink:href=\"#DejaVuSans-53\"/>\r\n      </g>\r\n     </g>\r\n    </g>\r\n   </g>\r\n   <g id=\"matplotlib.axis_14\">\r\n    <g id=\"ytick_13\">\r\n     <g id=\"line2d_27\">\r\n      <g>\r\n       <use style=\"stroke:#000000;stroke-width:0.8;\" x=\"146.259653\" xlink:href=\"#mbd2047191e\" y=\"10.999219\"/>\r\n      </g>\r\n     </g>\r\n     <g id=\"text_27\">\r\n      <!-- 0 -->\r\n      <g transform=\"translate(132.897153 14.798438)scale(0.1 -0.1)\">\r\n       <use xlink:href=\"#DejaVuSans-48\"/>\r\n      </g>\r\n     </g>\r\n    </g>\r\n    <g id=\"ytick_14\">\r\n     <g id=\"line2d_28\">\r\n      <g>\r\n       <use style=\"stroke:#000000;stroke-width:0.8;\" x=\"146.259653\" xlink:href=\"#mbd2047191e\" y=\"24.8111\"/>\r\n      </g>\r\n     </g>\r\n     <g id=\"text_28\">\r\n      <!-- 25 -->\r\n      <g transform=\"translate(126.534653 28.610319)scale(0.1 -0.1)\">\r\n       <use xlink:href=\"#DejaVuSans-50\"/>\r\n       <use x=\"63.623047\" xlink:href=\"#DejaVuSans-53\"/>\r\n      </g>\r\n     </g>\r\n    </g>\r\n   </g>\r\n   <g id=\"patch_33\">\r\n    <path d=\"M 146.259653 27.297239 \r\nL 146.259653 10.722981 \r\n\" style=\"fill:none;stroke:#000000;stroke-linecap:square;stroke-linejoin:miter;stroke-width:0.8;\"/>\r\n   </g>\r\n   <g id=\"patch_34\">\r\n    <path d=\"M 162.833911 27.297239 \r\nL 162.833911 10.722981 \r\n\" style=\"fill:none;stroke:#000000;stroke-linecap:square;stroke-linejoin:miter;stroke-width:0.8;\"/>\r\n   </g>\r\n   <g id=\"patch_35\">\r\n    <path d=\"M 146.259653 27.297239 \r\nL 162.833911 27.297239 \r\n\" style=\"fill:none;stroke:#000000;stroke-linecap:square;stroke-linejoin:miter;stroke-width:0.8;\"/>\r\n   </g>\r\n   <g id=\"patch_36\">\r\n    <path d=\"M 146.259653 10.722981 \r\nL 162.833911 10.722981 \r\n\" style=\"fill:none;stroke:#000000;stroke-linecap:square;stroke-linejoin:miter;stroke-width:0.8;\"/>\r\n   </g>\r\n  </g>\r\n  <g id=\"axes_8\">\r\n   <g id=\"patch_37\">\r\n    <path d=\"M 166.148762 27.297239 \r\nL 182.72302 27.297239 \r\nL 182.72302 10.722981 \r\nL 166.148762 10.722981 \r\nz\r\n\" style=\"fill:#ffffff;\"/>\r\n   </g>\r\n   <g clip-path=\"url(#pf6d982aff3)\">\r\n    <image height=\"17\" id=\"image54d32d93c3\" transform=\"scale(1 -1)translate(0 -17)\" width=\"17\" x=\"166.148762\" xlink:href=\"data:image/png;base64,\r\niVBORw0KGgoAAAANSUhEUgAAABEAAAARCAYAAAA7bUf6AAAABHNCSVQICAgIfAhkiAAAAmVJREFUOI2Vk01PE0EYx38zu+3aLtS2QAsqAcWEosQmvlwaDYkxwZMnPXo0Go/GT+DBD6AHP4IevXlRDx6MHkAxkgoGJYHYF9gi4ALb7s54WGwphYNzeybP/Ob/f17EZPqORgoCp8beIywL7XkYiQTBxgZyPIc+YjJ/u4uhVwHxuSrseKhsGhmsrRE4NYRltUFkd1cTAKC//wQg92gebcDmuSxLz1LoiIGU+bEwqeGDNHYB3QSrDmp7ByObQdo2uuGjp4sETg0/JhEB1OsmxvIK4pq4qY1sBny/ZUkIZH4MXVxAe16bQiORgMEBgtk5pG2jXBcJIOIxGuNDrXqYEcqFZKhuX522C6OI2joAynVDpQB/zmYxne2mHYCBN1XMTG8bRHsetbEIaxPDAJiDJwgqVUxp28Rff0HVG6CCsCbpJCpuIX5Vwjg/hqyuod0t7JKi+8UHAPyl5RCmXBezP4sqV1qypcQoO9CbRhzLUrqSApWi/12Noy8/o4QArVudlLaN3trejQyEZeFXVijfOEmQ7GLxVoa+aZet4xrnYgqZSiKi0TabpuiyUb/XQ0A+h575hoxGqF1qoGWC4Sdf0fU65sR50s+n8Pd1C8AkmUBXqqGN4gJaK0QsRu6pi5opUrpfYPOUYuThe/Seh/8mGkBM9t3Vi/dGGXz8sVnYgxI7Ymm0GhGsOqQvlzFyI+2ASLRjTtoGb8+HprAs7Os/CIRoJUgD3ah3eD/syCZda4yeNP7VC6ACjJ50x1IeCmnKtywCp4b5dgpp2+EenTn9fxDteZgD/ZQeFMLtTSTQn2YPeGF0XP0Fi3QA8J4b7XgAAAAASUVORK5CYII=\" y=\"-10.297239\"/>\r\n   </g>\r\n   <g id=\"matplotlib.axis_15\">\r\n    <g id=\"xtick_15\">\r\n     <g id=\"line2d_29\">\r\n      <g>\r\n       <use style=\"stroke:#000000;stroke-width:0.8;\" x=\"166.425\" xlink:href=\"#mb643e34417\" y=\"27.297239\"/>\r\n      </g>\r\n     </g>\r\n     <g id=\"text_29\">\r\n      <!-- 0 -->\r\n      <g transform=\"translate(163.24375 41.895676)scale(0.1 -0.1)\">\r\n       <use xlink:href=\"#DejaVuSans-48\"/>\r\n      </g>\r\n     </g>\r\n    </g>\r\n    <g id=\"xtick_16\">\r\n     <g id=\"line2d_30\">\r\n      <g>\r\n       <use style=\"stroke:#000000;stroke-width:0.8;\" x=\"180.236881\" xlink:href=\"#mb643e34417\" y=\"27.297239\"/>\r\n      </g>\r\n     </g>\r\n     <g id=\"text_30\">\r\n      <!-- 25 -->\r\n      <g transform=\"translate(173.874381 41.895676)scale(0.1 -0.1)\">\r\n       <use xlink:href=\"#DejaVuSans-50\"/>\r\n       <use x=\"63.623047\" xlink:href=\"#DejaVuSans-53\"/>\r\n      </g>\r\n     </g>\r\n    </g>\r\n   </g>\r\n   <g id=\"matplotlib.axis_16\">\r\n    <g id=\"ytick_15\">\r\n     <g id=\"line2d_31\">\r\n      <g>\r\n       <use style=\"stroke:#000000;stroke-width:0.8;\" x=\"166.148762\" xlink:href=\"#mbd2047191e\" y=\"10.999219\"/>\r\n      </g>\r\n     </g>\r\n     <g id=\"text_31\">\r\n      <!-- 0 -->\r\n      <g transform=\"translate(152.786262 14.798438)scale(0.1 -0.1)\">\r\n       <use xlink:href=\"#DejaVuSans-48\"/>\r\n      </g>\r\n     </g>\r\n    </g>\r\n    <g id=\"ytick_16\">\r\n     <g id=\"line2d_32\">\r\n      <g>\r\n       <use style=\"stroke:#000000;stroke-width:0.8;\" x=\"166.148762\" xlink:href=\"#mbd2047191e\" y=\"24.8111\"/>\r\n      </g>\r\n     </g>\r\n     <g id=\"text_32\">\r\n      <!-- 25 -->\r\n      <g transform=\"translate(146.423762 28.610319)scale(0.1 -0.1)\">\r\n       <use xlink:href=\"#DejaVuSans-50\"/>\r\n       <use x=\"63.623047\" xlink:href=\"#DejaVuSans-53\"/>\r\n      </g>\r\n     </g>\r\n    </g>\r\n   </g>\r\n   <g id=\"patch_38\">\r\n    <path d=\"M 166.148762 27.297239 \r\nL 166.148762 10.722981 \r\n\" style=\"fill:none;stroke:#000000;stroke-linecap:square;stroke-linejoin:miter;stroke-width:0.8;\"/>\r\n   </g>\r\n   <g id=\"patch_39\">\r\n    <path d=\"M 182.72302 27.297239 \r\nL 182.72302 10.722981 \r\n\" style=\"fill:none;stroke:#000000;stroke-linecap:square;stroke-linejoin:miter;stroke-width:0.8;\"/>\r\n   </g>\r\n   <g id=\"patch_40\">\r\n    <path d=\"M 166.148762 27.297239 \r\nL 182.72302 27.297239 \r\n\" style=\"fill:none;stroke:#000000;stroke-linecap:square;stroke-linejoin:miter;stroke-width:0.8;\"/>\r\n   </g>\r\n   <g id=\"patch_41\">\r\n    <path d=\"M 166.148762 10.722981 \r\nL 182.72302 10.722981 \r\n\" style=\"fill:none;stroke:#000000;stroke-linecap:square;stroke-linejoin:miter;stroke-width:0.8;\"/>\r\n   </g>\r\n  </g>\r\n  <g id=\"axes_9\">\r\n   <g id=\"patch_42\">\r\n    <path d=\"M 186.037871 27.297239 \r\nL 202.612129 27.297239 \r\nL 202.612129 10.722981 \r\nL 186.037871 10.722981 \r\nz\r\n\" style=\"fill:#ffffff;\"/>\r\n   </g>\r\n   <g clip-path=\"url(#p33cd45dafe)\">\r\n    <image height=\"17\" id=\"image038d6e0a0a\" transform=\"scale(1 -1)translate(0 -17)\" width=\"17\" x=\"186.037871\" xlink:href=\"data:image/png;base64,\r\niVBORw0KGgoAAAANSUhEUgAAABEAAAARCAYAAAA7bUf6AAAABHNCSVQICAgIfAhkiAAAA+1JREFUOI0twWlsUwUAwPH/u9q3HruPbmzAxhgb2ebJJleAcETwmggYWEBF5BITREAJ+gFMCEgQgQgzcgdRzIxcDiWAQ51ABEFYh5MxNg7Luu5sy2v7+t7zi7+fMHDvRksMytyeVQNAyIygCBKGZeEQbdzRQ+QrLqa3TKapvpDsBh3VF6KzMgXDJtA/1ERov+exuk2Z6s9XsHbB1wy3+3hkKhzqGkVzfyYf5Z/gYTyJMpuPqkPvoaeYPF7WyoPdhaRd6CCe4Ub4+MZz1skNE0j87k+OtTXQZ8aIWBZZkp3akIc70QwUwaA66SpOQeShATO+WEn6jTgAUsxEnJd8hY5KuLfqaT7sqKBVV+k2FI4Esxkg91Ck+jjjLyZXdpEiOQCY+MofKOE4xrIA7VNlhJa7HitoyXzTU0Fv3MGzydeRBJPawAgWZdaTI2vMaZqHU4nRF1UJeDNYNu0UAd3NV5crqZ24E7HDSODdllmMd9/EKUVJFCNMSQgzMuk2ADsCYzlbdoT+mJ2oLmO4DXriThanXmB8aTM5UgyxxBbjXmcKExIi/Lqlko2zZnM8nEKyFKZAiTA39QLr/E8xIuMuUwc2kZffyROOdgKGwuz0i0iCgNyiS0wr8vLktnfI9fYS8TgZrATQLYleE6qvzifU5SCx0caShcfQ9GI8Uh+5cpy2uJ3xlxYhp4oxTt8pZnBNI52HPWws2UuhYvD23Slcvp+HZQmsGV3Hzr+qONNVQmm6j4vaEK5EDLZdn8C4/NuIB3srOF1Rw37vKWTJ4IB/NBICDdeLMOISB0bs41x3MeLkLjYNPMpqz08sT2lDtySujdlNocOPnKX0kSu7qNdEIjGFG/4cHru4nK3PH+IFRz/Df3sDPSLjStL4MVzCzXAOC9J/4YSvnKOrJ7N+x5cIvvvZ1nTvXM6X1VIfURhp15hxq4puzcG3pftRBYGgadEWT2Jdy4sEj2cTd0JoiE7G7zJpV3sQMyUn/zZnclazs/D4W9w3dOqG1bG0oJ5xJ1eQKTlJFUVWNs5kfeExss/4ydvzN5emfYY9aCI88CN/2l1A68wahu1Zwr7qXbgFix8eqTT0D2XTpCP0mRqtcRnVprN0/2I8eVFUSaQunE/MKaKXDkKc5GoCILvSR8RUeLnxdSKmDe8n5bx/7lVUQSZLijEmq5VBW66hXm4hnpzAvlVVpM1vJ21DO2K5TQVgV9Fh1mxeQFevi00bqlGCBvm1Bj9rLl77Zw5j3c2YmgaCiOZRsXdF6Y+qXGkYhsj/ChSF79duJrE+Ae2lPnyjbCR4H/DB9jcJHRzAM2on1shyrFgM9/lb6Ik2fJ1JNFZv5z8/pak4z36RTwAAAABJRU5ErkJggg==\" y=\"-10.297239\"/>\r\n   </g>\r\n   <g id=\"matplotlib.axis_17\">\r\n    <g id=\"xtick_17\">\r\n     <g id=\"line2d_33\">\r\n      <g>\r\n       <use style=\"stroke:#000000;stroke-width:0.8;\" x=\"186.314109\" xlink:href=\"#mb643e34417\" y=\"27.297239\"/>\r\n      </g>\r\n     </g>\r\n     <g id=\"text_33\">\r\n      <!-- 0 -->\r\n      <g transform=\"translate(183.132859 41.895676)scale(0.1 -0.1)\">\r\n       <use xlink:href=\"#DejaVuSans-48\"/>\r\n      </g>\r\n     </g>\r\n    </g>\r\n    <g id=\"xtick_18\">\r\n     <g id=\"line2d_34\">\r\n      <g>\r\n       <use style=\"stroke:#000000;stroke-width:0.8;\" x=\"200.12599\" xlink:href=\"#mb643e34417\" y=\"27.297239\"/>\r\n      </g>\r\n     </g>\r\n     <g id=\"text_34\">\r\n      <!-- 25 -->\r\n      <g transform=\"translate(193.76349 41.895676)scale(0.1 -0.1)\">\r\n       <use xlink:href=\"#DejaVuSans-50\"/>\r\n       <use x=\"63.623047\" xlink:href=\"#DejaVuSans-53\"/>\r\n      </g>\r\n     </g>\r\n    </g>\r\n   </g>\r\n   <g id=\"matplotlib.axis_18\">\r\n    <g id=\"ytick_17\">\r\n     <g id=\"line2d_35\">\r\n      <g>\r\n       <use style=\"stroke:#000000;stroke-width:0.8;\" x=\"186.037871\" xlink:href=\"#mbd2047191e\" y=\"10.999219\"/>\r\n      </g>\r\n     </g>\r\n     <g id=\"text_35\">\r\n      <!-- 0 -->\r\n      <g transform=\"translate(172.675371 14.798438)scale(0.1 -0.1)\">\r\n       <use xlink:href=\"#DejaVuSans-48\"/>\r\n      </g>\r\n     </g>\r\n    </g>\r\n    <g id=\"ytick_18\">\r\n     <g id=\"line2d_36\">\r\n      <g>\r\n       <use style=\"stroke:#000000;stroke-width:0.8;\" x=\"186.037871\" xlink:href=\"#mbd2047191e\" y=\"24.8111\"/>\r\n      </g>\r\n     </g>\r\n     <g id=\"text_36\">\r\n      <!-- 25 -->\r\n      <g transform=\"translate(166.312871 28.610319)scale(0.1 -0.1)\">\r\n       <use xlink:href=\"#DejaVuSans-50\"/>\r\n       <use x=\"63.623047\" xlink:href=\"#DejaVuSans-53\"/>\r\n      </g>\r\n     </g>\r\n    </g>\r\n   </g>\r\n   <g id=\"patch_43\">\r\n    <path d=\"M 186.037871 27.297239 \r\nL 186.037871 10.722981 \r\n\" style=\"fill:none;stroke:#000000;stroke-linecap:square;stroke-linejoin:miter;stroke-width:0.8;\"/>\r\n   </g>\r\n   <g id=\"patch_44\">\r\n    <path d=\"M 202.612129 27.297239 \r\nL 202.612129 10.722981 \r\n\" style=\"fill:none;stroke:#000000;stroke-linecap:square;stroke-linejoin:miter;stroke-width:0.8;\"/>\r\n   </g>\r\n   <g id=\"patch_45\">\r\n    <path d=\"M 186.037871 27.297239 \r\nL 202.612129 27.297239 \r\n\" style=\"fill:none;stroke:#000000;stroke-linecap:square;stroke-linejoin:miter;stroke-width:0.8;\"/>\r\n   </g>\r\n   <g id=\"patch_46\">\r\n    <path d=\"M 186.037871 10.722981 \r\nL 202.612129 10.722981 \r\n\" style=\"fill:none;stroke:#000000;stroke-linecap:square;stroke-linejoin:miter;stroke-width:0.8;\"/>\r\n   </g>\r\n  </g>\r\n  <g id=\"axes_10\">\r\n   <g id=\"patch_47\">\r\n    <path d=\"M 205.92698 27.297239 \r\nL 222.501238 27.297239 \r\nL 222.501238 10.722981 \r\nL 205.92698 10.722981 \r\nz\r\n\" style=\"fill:#ffffff;\"/>\r\n   </g>\r\n   <g clip-path=\"url(#pdeeb1c8cf3)\">\r\n    <image height=\"17\" id=\"image67bc7a8615\" transform=\"scale(1 -1)translate(0 -17)\" width=\"17\" x=\"205.92698\" xlink:href=\"data:image/png;base64,\r\niVBORw0KGgoAAAANSUhEUgAAABEAAAARCAYAAAA7bUf6AAAABHNCSVQICAgIfAhkiAAAAz9JREFUOI19k0tMXFUYx3/n3DM4zGVmYGbaMryGx8CQPoLVggHRxkiiiQsVrbr2kSYm7lzVjW5caOKmJWGjMSTaGDemiTHqwrQmBGtTNY2hwDgDDIVCYd4Dc5l773ExDeDGb3O+/PN9///3OmJCvKo5YsLTgK7tHwEEaI00TfRAN6nXAzw6vsj8tQSOB7qn7yIRAqHUYZJ2QRrosSGEUhihFhAC4VGkJwNIS1C+GKFr5h8Cyy60BBHP972v7dTyAYf0+3FLJRACY6APZyF5gOv9fWSjF+H3Uxxux38jSXm8D6mzOQBUtLUeHGquv01NiMoeKtaJHhvCLZXQloWTL2Bn1sgNGOi2Y+yGDYweq+9DhECaJnvnT+Ip20hD4WZzSJ8PXSpTix2jON6NaXnRO1kAQusGaDB/X0GqWCcMn8bNF5CWi7BqOJtbdYJqFTcRQ/3yJ9LWbEwcP2jbTi3jLCRxK3tIeyXDxrgft1rF+8EGk9/PoTo7cHd3cfIFjMwWuA6Bq3NEv54HwIj3IE0To78X4X0EKZQiOlsmfXWIN6I3ubPbgZsvHCre3zzwnVx9fuQKuJUKeBTrb5+pk+ycMbn+5BSXP7nA0mQUXbX4P3OyOYRSbA+HaU7aiOdOXdI6tYrWGtnbRTnRQuN3N/+TZPT34iylDtcP6NEh5K15ZHcHUqdWcatVjPYom09HKLUr0h+PIk3zUHkpxd5LIwhfI/azj6Pa26gFPMifIgjbQRw9eyPeg7tyj/xrj1EzBcdn/qgLRMKgNZWxOKsvgCdoYdw1aXtqjXc6f0UeLXvh3RPI5iDBr+Y4cf0B6UtnAXDzBe5fSND09xZXJmb4cWyKro9mifqKPOHNIMXZUwAsTo8weHkDLAsj3oPVEaT3myzS60WGQ3jzmtVX2rhRGuSv/VaMRJzNPT8z+RGUTK/hAJHfDOz0Sr2kYhGVTOM+/JjCsmjKVLn26RQPHMEP5dM0f7FD+kqCn2ttSOfhTYS+nGPx83Nk3xxl++JofQO2jeyNsf3iSVS2gk94MKXL7WIX54IraAPWz4M6OpOBt27VHSEOMN3YwPYz+4S/vcd0fpCOhh1ejtzms9QElVZJ/3uz/AuS+E7nTSEH6AAAAABJRU5ErkJggg==\" y=\"-10.297239\"/>\r\n   </g>\r\n   <g id=\"matplotlib.axis_19\">\r\n    <g id=\"xtick_19\">\r\n     <g id=\"line2d_37\">\r\n      <g>\r\n       <use style=\"stroke:#000000;stroke-width:0.8;\" x=\"206.203218\" xlink:href=\"#mb643e34417\" y=\"27.297239\"/>\r\n      </g>\r\n     </g>\r\n     <g id=\"text_37\">\r\n      <!-- 0 -->\r\n      <g transform=\"translate(203.021968 41.895676)scale(0.1 -0.1)\">\r\n       <use xlink:href=\"#DejaVuSans-48\"/>\r\n      </g>\r\n     </g>\r\n    </g>\r\n    <g id=\"xtick_20\">\r\n     <g id=\"line2d_38\">\r\n      <g>\r\n       <use style=\"stroke:#000000;stroke-width:0.8;\" x=\"220.015099\" xlink:href=\"#mb643e34417\" y=\"27.297239\"/>\r\n      </g>\r\n     </g>\r\n     <g id=\"text_38\">\r\n      <!-- 25 -->\r\n      <g transform=\"translate(213.652599 41.895676)scale(0.1 -0.1)\">\r\n       <use xlink:href=\"#DejaVuSans-50\"/>\r\n       <use x=\"63.623047\" xlink:href=\"#DejaVuSans-53\"/>\r\n      </g>\r\n     </g>\r\n    </g>\r\n   </g>\r\n   <g id=\"matplotlib.axis_20\">\r\n    <g id=\"ytick_19\">\r\n     <g id=\"line2d_39\">\r\n      <g>\r\n       <use style=\"stroke:#000000;stroke-width:0.8;\" x=\"205.92698\" xlink:href=\"#mbd2047191e\" y=\"10.999219\"/>\r\n      </g>\r\n     </g>\r\n     <g id=\"text_39\">\r\n      <!-- 0 -->\r\n      <g transform=\"translate(192.56448 14.798438)scale(0.1 -0.1)\">\r\n       <use xlink:href=\"#DejaVuSans-48\"/>\r\n      </g>\r\n     </g>\r\n    </g>\r\n    <g id=\"ytick_20\">\r\n     <g id=\"line2d_40\">\r\n      <g>\r\n       <use style=\"stroke:#000000;stroke-width:0.8;\" x=\"205.92698\" xlink:href=\"#mbd2047191e\" y=\"24.8111\"/>\r\n      </g>\r\n     </g>\r\n     <g id=\"text_40\">\r\n      <!-- 25 -->\r\n      <g transform=\"translate(186.20198 28.610319)scale(0.1 -0.1)\">\r\n       <use xlink:href=\"#DejaVuSans-50\"/>\r\n       <use x=\"63.623047\" xlink:href=\"#DejaVuSans-53\"/>\r\n      </g>\r\n     </g>\r\n    </g>\r\n   </g>\r\n   <g id=\"patch_48\">\r\n    <path d=\"M 205.92698 27.297239 \r\nL 205.92698 10.722981 \r\n\" style=\"fill:none;stroke:#000000;stroke-linecap:square;stroke-linejoin:miter;stroke-width:0.8;\"/>\r\n   </g>\r\n   <g id=\"patch_49\">\r\n    <path d=\"M 222.501238 27.297239 \r\nL 222.501238 10.722981 \r\n\" style=\"fill:none;stroke:#000000;stroke-linecap:square;stroke-linejoin:miter;stroke-width:0.8;\"/>\r\n   </g>\r\n   <g id=\"patch_50\">\r\n    <path d=\"M 205.92698 27.297239 \r\nL 222.501238 27.297239 \r\n\" style=\"fill:none;stroke:#000000;stroke-linecap:square;stroke-linejoin:miter;stroke-width:0.8;\"/>\r\n   </g>\r\n   <g id=\"patch_51\">\r\n    <path d=\"M 205.92698 10.722981 \r\nL 222.501238 10.722981 \r\n\" style=\"fill:none;stroke:#000000;stroke-linecap:square;stroke-linejoin:miter;stroke-width:0.8;\"/>\r\n   </g>\r\n  </g>\r\n  <g id=\"axes_11\">\r\n   <g id=\"patch_52\">\r\n    <path d=\"M 225.816089 27.297239 \r\nL 242.390347 27.297239 \r\nL 242.390347 10.722981 \r\nL 225.816089 10.722981 \r\nz\r\n\" style=\"fill:#ffffff;\"/>\r\n   </g>\r\n   <g clip-path=\"url(#p572ee7472f)\">\r\n    <image height=\"17\" id=\"image4f88e32979\" transform=\"scale(1 -1)translate(0 -17)\" width=\"17\" x=\"225.816089\" xlink:href=\"data:image/png;base64,\r\niVBORw0KGgoAAAANSUhEUgAAABEAAAARCAYAAAA7bUf6AAAABHNCSVQICAgIfAhkiAAAArBJREFUOI19lL9vU1cUxz/n3ptnbMcYkzQJSQhJo0QWCiIqUYuqSlV/z5U6dGCGETF3YepS0X+gW4cOiJFWXSuQYEACAhJIkCatIKpTnF9OLL8f9x2GG9ugRn3LG+6535/nPal/96Oe/OEemib83yPOoVkGIqCKLC1gVtfRTox97+H4VVMu0fx2kbIfxHjF1mpoJ8acnoPNbcSYANBDFFauzFLqVPnn+zLyuXyjlVvD/DzzG1+f/CCwFApokiDWYkdH0CzDNzbC/YGIxsUl1IKNle26YgCWb89x9pfLpF+cA8Aer4Eq6j26v/+2rSMFRu/ukBVhaLnN7I0O8tU7l9Q3N0G1N2gqFfJWK+TgPaZQIO90yD47x7+LBSZ/b0KcsPHJGEM/3Ql2DgvSDg/hXzX771oNv7WFWaijz1aRKCLf20OiCIPIoW3o3j6I4Jub2NPz4FxQ+PgpGseINcFyHGPc6Aji3H9A8jgGVbYvnKc9XWXt4hymehQZiAJJ2m/LZAepd5PvHRSLABy/v0XpznOi3VAtZ+cxlQpSPNKbd6ZUIj9owE6eIFv9KwBOT+JHBrGP1tBTJ5j4dZ3sxUtskuBbLWj1iY0MlnvsXQAA/+QZ9o/7ZPUpyHLUWdzMKXRnN7BPjGOHh9A0wfjGBm5s9JBkQ2l2eYX88VNobqH7bWRqIpA0NvCvmgEwTFpMudyz1ZWpaRL2ZSAi39kNq9/d3GIRbQVPRpwje7lO3m73VYgg0cBbwkz1KPlHi2/Ul4egRQJIV76bGCf9cgk7O43crPL31Q/DUZqgSYq5/aBfcZKChF0xeacTHB2rosUCxUcvaHw6xplj68x8vNYn7n4GB78MTRPMgVrTa2NnF/98lT8vvUseCdfvvs+1mRusXDuPWaiDCJpluOmp0Mz8bHDuHK8BUSooSs4UyzYAAAAASUVORK5CYII=\" y=\"-10.297239\"/>\r\n   </g>\r\n   <g id=\"matplotlib.axis_21\">\r\n    <g id=\"xtick_21\">\r\n     <g id=\"line2d_41\">\r\n      <g>\r\n       <use style=\"stroke:#000000;stroke-width:0.8;\" x=\"226.092327\" xlink:href=\"#mb643e34417\" y=\"27.297239\"/>\r\n      </g>\r\n     </g>\r\n     <g id=\"text_41\">\r\n      <!-- 0 -->\r\n      <g transform=\"translate(222.911077 41.895676)scale(0.1 -0.1)\">\r\n       <use xlink:href=\"#DejaVuSans-48\"/>\r\n      </g>\r\n     </g>\r\n    </g>\r\n    <g id=\"xtick_22\">\r\n     <g id=\"line2d_42\">\r\n      <g>\r\n       <use style=\"stroke:#000000;stroke-width:0.8;\" x=\"239.904208\" xlink:href=\"#mb643e34417\" y=\"27.297239\"/>\r\n      </g>\r\n     </g>\r\n     <g id=\"text_42\">\r\n      <!-- 25 -->\r\n      <g transform=\"translate(233.541708 41.895676)scale(0.1 -0.1)\">\r\n       <use xlink:href=\"#DejaVuSans-50\"/>\r\n       <use x=\"63.623047\" xlink:href=\"#DejaVuSans-53\"/>\r\n      </g>\r\n     </g>\r\n    </g>\r\n   </g>\r\n   <g id=\"matplotlib.axis_22\">\r\n    <g id=\"ytick_21\">\r\n     <g id=\"line2d_43\">\r\n      <g>\r\n       <use style=\"stroke:#000000;stroke-width:0.8;\" x=\"225.816089\" xlink:href=\"#mbd2047191e\" y=\"10.999219\"/>\r\n      </g>\r\n     </g>\r\n     <g id=\"text_43\">\r\n      <!-- 0 -->\r\n      <g transform=\"translate(212.453589 14.798438)scale(0.1 -0.1)\">\r\n       <use xlink:href=\"#DejaVuSans-48\"/>\r\n      </g>\r\n     </g>\r\n    </g>\r\n    <g id=\"ytick_22\">\r\n     <g id=\"line2d_44\">\r\n      <g>\r\n       <use style=\"stroke:#000000;stroke-width:0.8;\" x=\"225.816089\" xlink:href=\"#mbd2047191e\" y=\"24.8111\"/>\r\n      </g>\r\n     </g>\r\n     <g id=\"text_44\">\r\n      <!-- 25 -->\r\n      <g transform=\"translate(206.091089 28.610319)scale(0.1 -0.1)\">\r\n       <use xlink:href=\"#DejaVuSans-50\"/>\r\n       <use x=\"63.623047\" xlink:href=\"#DejaVuSans-53\"/>\r\n      </g>\r\n     </g>\r\n    </g>\r\n   </g>\r\n   <g id=\"patch_53\">\r\n    <path d=\"M 225.816089 27.297239 \r\nL 225.816089 10.722981 \r\n\" style=\"fill:none;stroke:#000000;stroke-linecap:square;stroke-linejoin:miter;stroke-width:0.8;\"/>\r\n   </g>\r\n   <g id=\"patch_54\">\r\n    <path d=\"M 242.390347 27.297239 \r\nL 242.390347 10.722981 \r\n\" style=\"fill:none;stroke:#000000;stroke-linecap:square;stroke-linejoin:miter;stroke-width:0.8;\"/>\r\n   </g>\r\n   <g id=\"patch_55\">\r\n    <path d=\"M 225.816089 27.297239 \r\nL 242.390347 27.297239 \r\n\" style=\"fill:none;stroke:#000000;stroke-linecap:square;stroke-linejoin:miter;stroke-width:0.8;\"/>\r\n   </g>\r\n   <g id=\"patch_56\">\r\n    <path d=\"M 225.816089 10.722981 \r\nL 242.390347 10.722981 \r\n\" style=\"fill:none;stroke:#000000;stroke-linecap:square;stroke-linejoin:miter;stroke-width:0.8;\"/>\r\n   </g>\r\n  </g>\r\n  <g id=\"axes_12\">\r\n   <g id=\"patch_57\">\r\n    <path d=\"M 245.705198 27.297239 \r\nL 262.279455 27.297239 \r\nL 262.279455 10.722981 \r\nL 245.705198 10.722981 \r\nz\r\n\" style=\"fill:#ffffff;\"/>\r\n   </g>\r\n   <g clip-path=\"url(#pf7bb0001c3)\">\r\n    <image height=\"17\" id=\"image45bf043f7f\" transform=\"scale(1 -1)translate(0 -17)\" width=\"17\" x=\"245.705198\" xlink:href=\"data:image/png;base64,\r\niVBORw0KGgoAAAANSUhEUgAAABEAAAARCAYAAAA7bUf6AAAABHNCSVQICAgIfAhkiAAAANdJREFUOI2tkTFOA0EMRZ9n2cUCCaSkS0eTOi19pFwgp+JG3IKGgoYS6FPg7DI2BQIp2UEKzLqyPNLzm29ZyzbuXx7YLFaQGgDS5QW+2331qrgZ0nak5Q358YnvSqpEdhLAZrHi+e4WPIPnH0Azn+FmAMTQHwAA3IwYemQt26CyUnnaTAD5I+isOPU8jUkznyFtVweR6ysij42SKkl1DClufLfit9yMyF42OQZ9vL79JkkM/RgSQ3/wcGoWI5PSpupgAUTP6yFh+wkgRwGeDJG2qw/2P5f6BEUvVBOeajISAAAAAElFTkSuQmCC\" y=\"-10.297239\"/>\r\n   </g>\r\n   <g id=\"matplotlib.axis_23\">\r\n    <g id=\"xtick_23\">\r\n     <g id=\"line2d_45\">\r\n      <g>\r\n       <use style=\"stroke:#000000;stroke-width:0.8;\" x=\"245.981436\" xlink:href=\"#mb643e34417\" y=\"27.297239\"/>\r\n      </g>\r\n     </g>\r\n     <g id=\"text_45\">\r\n      <!-- 0 -->\r\n      <g transform=\"translate(242.800186 41.895676)scale(0.1 -0.1)\">\r\n       <use xlink:href=\"#DejaVuSans-48\"/>\r\n      </g>\r\n     </g>\r\n    </g>\r\n    <g id=\"xtick_24\">\r\n     <g id=\"line2d_46\">\r\n      <g>\r\n       <use style=\"stroke:#000000;stroke-width:0.8;\" x=\"259.793317\" xlink:href=\"#mb643e34417\" y=\"27.297239\"/>\r\n      </g>\r\n     </g>\r\n     <g id=\"text_46\">\r\n      <!-- 25 -->\r\n      <g transform=\"translate(253.430817 41.895676)scale(0.1 -0.1)\">\r\n       <use xlink:href=\"#DejaVuSans-50\"/>\r\n       <use x=\"63.623047\" xlink:href=\"#DejaVuSans-53\"/>\r\n      </g>\r\n     </g>\r\n    </g>\r\n   </g>\r\n   <g id=\"matplotlib.axis_24\">\r\n    <g id=\"ytick_23\">\r\n     <g id=\"line2d_47\">\r\n      <g>\r\n       <use style=\"stroke:#000000;stroke-width:0.8;\" x=\"245.705198\" xlink:href=\"#mbd2047191e\" y=\"10.999219\"/>\r\n      </g>\r\n     </g>\r\n     <g id=\"text_47\">\r\n      <!-- 0 -->\r\n      <g transform=\"translate(232.342698 14.798438)scale(0.1 -0.1)\">\r\n       <use xlink:href=\"#DejaVuSans-48\"/>\r\n      </g>\r\n     </g>\r\n    </g>\r\n    <g id=\"ytick_24\">\r\n     <g id=\"line2d_48\">\r\n      <g>\r\n       <use style=\"stroke:#000000;stroke-width:0.8;\" x=\"245.705198\" xlink:href=\"#mbd2047191e\" y=\"24.8111\"/>\r\n      </g>\r\n     </g>\r\n     <g id=\"text_48\">\r\n      <!-- 25 -->\r\n      <g transform=\"translate(225.980198 28.610319)scale(0.1 -0.1)\">\r\n       <use xlink:href=\"#DejaVuSans-50\"/>\r\n       <use x=\"63.623047\" xlink:href=\"#DejaVuSans-53\"/>\r\n      </g>\r\n     </g>\r\n    </g>\r\n   </g>\r\n   <g id=\"patch_58\">\r\n    <path d=\"M 245.705198 27.297239 \r\nL 245.705198 10.722981 \r\n\" style=\"fill:none;stroke:#000000;stroke-linecap:square;stroke-linejoin:miter;stroke-width:0.8;\"/>\r\n   </g>\r\n   <g id=\"patch_59\">\r\n    <path d=\"M 262.279455 27.297239 \r\nL 262.279455 10.722981 \r\n\" style=\"fill:none;stroke:#000000;stroke-linecap:square;stroke-linejoin:miter;stroke-width:0.8;\"/>\r\n   </g>\r\n   <g id=\"patch_60\">\r\n    <path d=\"M 245.705198 27.297239 \r\nL 262.279455 27.297239 \r\n\" style=\"fill:none;stroke:#000000;stroke-linecap:square;stroke-linejoin:miter;stroke-width:0.8;\"/>\r\n   </g>\r\n   <g id=\"patch_61\">\r\n    <path d=\"M 245.705198 10.722981 \r\nL 262.279455 10.722981 \r\n\" style=\"fill:none;stroke:#000000;stroke-linecap:square;stroke-linejoin:miter;stroke-width:0.8;\"/>\r\n   </g>\r\n  </g>\r\n  <g id=\"axes_13\">\r\n   <g id=\"patch_62\">\r\n    <path d=\"M 265.594307 27.297239 \r\nL 282.168564 27.297239 \r\nL 282.168564 10.722981 \r\nL 265.594307 10.722981 \r\nz\r\n\" style=\"fill:#ffffff;\"/>\r\n   </g>\r\n   <g clip-path=\"url(#p768991fbe4)\">\r\n    <image height=\"17\" id=\"image0c52580f31\" transform=\"scale(1 -1)translate(0 -17)\" width=\"17\" x=\"265.594307\" xlink:href=\"data:image/png;base64,\r\niVBORw0KGgoAAAANSUhEUgAAABEAAAARCAYAAAA7bUf6AAAABHNCSVQICAgIfAhkiAAAANRJREFUOI1jdGEM+c/Iysbw//cvBmyAiYuL4d+3b1jlfnmYMtRMncfA6MIY8h+rChIAE6UG4DWEWYCfdEOYxcVQZUSESDfk78tXKBJ/79zHquFjjAUDIysbAyMrG8OtmaaohiADRlY27DbqazJ8UmRiYOLnZfj/+xeDWvpp3Ibgiu5/F68z/FT7zsDIyordO9hA5I1nGGIqsecZ/jx/gdsQFkkJFMnlGlIMTLy8+OzBNATdBgYGBoZ/nz+TZgi5YJAbgh7AJBvCyMqGNYBJMgRXQsMHAJVeNndu5LW9AAAAAElFTkSuQmCC\" y=\"-10.297239\"/>\r\n   </g>\r\n   <g id=\"matplotlib.axis_25\">\r\n    <g id=\"xtick_25\">\r\n     <g id=\"line2d_49\">\r\n      <g>\r\n       <use style=\"stroke:#000000;stroke-width:0.8;\" x=\"265.870545\" xlink:href=\"#mb643e34417\" y=\"27.297239\"/>\r\n      </g>\r\n     </g>\r\n     <g id=\"text_49\">\r\n      <!-- 0 -->\r\n      <g transform=\"translate(262.689295 41.895676)scale(0.1 -0.1)\">\r\n       <use xlink:href=\"#DejaVuSans-48\"/>\r\n      </g>\r\n     </g>\r\n    </g>\r\n    <g id=\"xtick_26\">\r\n     <g id=\"line2d_50\">\r\n      <g>\r\n       <use style=\"stroke:#000000;stroke-width:0.8;\" x=\"279.682426\" xlink:href=\"#mb643e34417\" y=\"27.297239\"/>\r\n      </g>\r\n     </g>\r\n     <g id=\"text_50\">\r\n      <!-- 25 -->\r\n      <g transform=\"translate(273.319926 41.895676)scale(0.1 -0.1)\">\r\n       <use xlink:href=\"#DejaVuSans-50\"/>\r\n       <use x=\"63.623047\" xlink:href=\"#DejaVuSans-53\"/>\r\n      </g>\r\n     </g>\r\n    </g>\r\n   </g>\r\n   <g id=\"matplotlib.axis_26\">\r\n    <g id=\"ytick_25\">\r\n     <g id=\"line2d_51\">\r\n      <g>\r\n       <use style=\"stroke:#000000;stroke-width:0.8;\" x=\"265.594307\" xlink:href=\"#mbd2047191e\" y=\"10.999219\"/>\r\n      </g>\r\n     </g>\r\n     <g id=\"text_51\">\r\n      <!-- 0 -->\r\n      <g transform=\"translate(252.231807 14.798438)scale(0.1 -0.1)\">\r\n       <use xlink:href=\"#DejaVuSans-48\"/>\r\n      </g>\r\n     </g>\r\n    </g>\r\n    <g id=\"ytick_26\">\r\n     <g id=\"line2d_52\">\r\n      <g>\r\n       <use style=\"stroke:#000000;stroke-width:0.8;\" x=\"265.594307\" xlink:href=\"#mbd2047191e\" y=\"24.8111\"/>\r\n      </g>\r\n     </g>\r\n     <g id=\"text_52\">\r\n      <!-- 25 -->\r\n      <g transform=\"translate(245.869307 28.610319)scale(0.1 -0.1)\">\r\n       <use xlink:href=\"#DejaVuSans-50\"/>\r\n       <use x=\"63.623047\" xlink:href=\"#DejaVuSans-53\"/>\r\n      </g>\r\n     </g>\r\n    </g>\r\n   </g>\r\n   <g id=\"patch_63\">\r\n    <path d=\"M 265.594307 27.297239 \r\nL 265.594307 10.722981 \r\n\" style=\"fill:none;stroke:#000000;stroke-linecap:square;stroke-linejoin:miter;stroke-width:0.8;\"/>\r\n   </g>\r\n   <g id=\"patch_64\">\r\n    <path d=\"M 282.168564 27.297239 \r\nL 282.168564 10.722981 \r\n\" style=\"fill:none;stroke:#000000;stroke-linecap:square;stroke-linejoin:miter;stroke-width:0.8;\"/>\r\n   </g>\r\n   <g id=\"patch_65\">\r\n    <path d=\"M 265.594307 27.297239 \r\nL 282.168564 27.297239 \r\n\" style=\"fill:none;stroke:#000000;stroke-linecap:square;stroke-linejoin:miter;stroke-width:0.8;\"/>\r\n   </g>\r\n   <g id=\"patch_66\">\r\n    <path d=\"M 265.594307 10.722981 \r\nL 282.168564 10.722981 \r\n\" style=\"fill:none;stroke:#000000;stroke-linecap:square;stroke-linejoin:miter;stroke-width:0.8;\"/>\r\n   </g>\r\n  </g>\r\n  <g id=\"axes_14\">\r\n   <g id=\"patch_67\">\r\n    <path d=\"M 285.483416 27.297239 \r\nL 302.057673 27.297239 \r\nL 302.057673 10.722981 \r\nL 285.483416 10.722981 \r\nz\r\n\" style=\"fill:#ffffff;\"/>\r\n   </g>\r\n   <g clip-path=\"url(#pf146105dc6)\">\r\n    <image height=\"17\" id=\"imaged5a5c170d9\" transform=\"scale(1 -1)translate(0 -17)\" width=\"17\" x=\"285.483416\" xlink:href=\"data:image/png;base64,\r\niVBORw0KGgoAAAANSUhEUgAAABEAAAARCAYAAAA7bUf6AAAABHNCSVQICAgIfAhkiAAAAOdJREFUOI1jdGEM+f8l1JyBZ/VJBhTAxMzA8O8vnHuvy5JhRvAshi5lXQYGBgaG324mDOyvvjH8v3qHgdGFMeQ/AwMDw8s8KwbxScdQzHlebMUgu+4pwxN/aQbJ6WcZ/v/8yYANwA3BBb4FmTN8F2ZiEJ59HKcaJnwGMDAwMHCtO8nA8+QPXjUEDWFgYGD4Js6CV56gd4gBRLmEgYGB4VmZFQOjsTZlhkh1HWP4f/Yqw9tkSww5/J7FAoSufWN4mWfFwPL1PwPPsz8M7NtPUx4mfx2MiPcOLsB84BzlhjAwkBCwo4aQBgD7+T8JhCq73gAAAABJRU5ErkJggg==\" y=\"-10.297239\"/>\r\n   </g>\r\n   <g id=\"matplotlib.axis_27\">\r\n    <g id=\"xtick_27\">\r\n     <g id=\"line2d_53\">\r\n      <g>\r\n       <use style=\"stroke:#000000;stroke-width:0.8;\" x=\"285.759653\" xlink:href=\"#mb643e34417\" y=\"27.297239\"/>\r\n      </g>\r\n     </g>\r\n     <g id=\"text_53\">\r\n      <!-- 0 -->\r\n      <g transform=\"translate(282.578403 41.895676)scale(0.1 -0.1)\">\r\n       <use xlink:href=\"#DejaVuSans-48\"/>\r\n      </g>\r\n     </g>\r\n    </g>\r\n    <g id=\"xtick_28\">\r\n     <g id=\"line2d_54\">\r\n      <g>\r\n       <use style=\"stroke:#000000;stroke-width:0.8;\" x=\"299.571535\" xlink:href=\"#mb643e34417\" y=\"27.297239\"/>\r\n      </g>\r\n     </g>\r\n     <g id=\"text_54\">\r\n      <!-- 25 -->\r\n      <g transform=\"translate(293.209035 41.895676)scale(0.1 -0.1)\">\r\n       <use xlink:href=\"#DejaVuSans-50\"/>\r\n       <use x=\"63.623047\" xlink:href=\"#DejaVuSans-53\"/>\r\n      </g>\r\n     </g>\r\n    </g>\r\n   </g>\r\n   <g id=\"matplotlib.axis_28\">\r\n    <g id=\"ytick_27\">\r\n     <g id=\"line2d_55\">\r\n      <g>\r\n       <use style=\"stroke:#000000;stroke-width:0.8;\" x=\"285.483416\" xlink:href=\"#mbd2047191e\" y=\"10.999219\"/>\r\n      </g>\r\n     </g>\r\n     <g id=\"text_55\">\r\n      <!-- 0 -->\r\n      <g transform=\"translate(272.120916 14.798438)scale(0.1 -0.1)\">\r\n       <use xlink:href=\"#DejaVuSans-48\"/>\r\n      </g>\r\n     </g>\r\n    </g>\r\n    <g id=\"ytick_28\">\r\n     <g id=\"line2d_56\">\r\n      <g>\r\n       <use style=\"stroke:#000000;stroke-width:0.8;\" x=\"285.483416\" xlink:href=\"#mbd2047191e\" y=\"24.8111\"/>\r\n      </g>\r\n     </g>\r\n     <g id=\"text_56\">\r\n      <!-- 25 -->\r\n      <g transform=\"translate(265.758416 28.610319)scale(0.1 -0.1)\">\r\n       <use xlink:href=\"#DejaVuSans-50\"/>\r\n       <use x=\"63.623047\" xlink:href=\"#DejaVuSans-53\"/>\r\n      </g>\r\n     </g>\r\n    </g>\r\n   </g>\r\n   <g id=\"patch_68\">\r\n    <path d=\"M 285.483416 27.297239 \r\nL 285.483416 10.722981 \r\n\" style=\"fill:none;stroke:#000000;stroke-linecap:square;stroke-linejoin:miter;stroke-width:0.8;\"/>\r\n   </g>\r\n   <g id=\"patch_69\">\r\n    <path d=\"M 302.057673 27.297239 \r\nL 302.057673 10.722981 \r\n\" style=\"fill:none;stroke:#000000;stroke-linecap:square;stroke-linejoin:miter;stroke-width:0.8;\"/>\r\n   </g>\r\n   <g id=\"patch_70\">\r\n    <path d=\"M 285.483416 27.297239 \r\nL 302.057673 27.297239 \r\n\" style=\"fill:none;stroke:#000000;stroke-linecap:square;stroke-linejoin:miter;stroke-width:0.8;\"/>\r\n   </g>\r\n   <g id=\"patch_71\">\r\n    <path d=\"M 285.483416 10.722981 \r\nL 302.057673 10.722981 \r\n\" style=\"fill:none;stroke:#000000;stroke-linecap:square;stroke-linejoin:miter;stroke-width:0.8;\"/>\r\n   </g>\r\n  </g>\r\n  <g id=\"axes_15\">\r\n   <g id=\"patch_72\">\r\n    <path d=\"M 305.372525 27.297239 \r\nL 321.946782 27.297239 \r\nL 321.946782 10.722981 \r\nL 305.372525 10.722981 \r\nz\r\n\" style=\"fill:#ffffff;\"/>\r\n   </g>\r\n   <g clip-path=\"url(#p3fd184930b)\">\r\n    <image height=\"17\" id=\"image181896fb9a\" transform=\"scale(1 -1)translate(0 -17)\" width=\"17\" x=\"305.372525\" xlink:href=\"data:image/png;base64,\r\niVBORw0KGgoAAAANSUhEUgAAABEAAAARCAYAAAA7bUf6AAAABHNCSVQICAgIfAhkiAAAAB5JREFUOI1jdGEM+c9AIWCi1IBRQ0YNGTVk1BAoAACbHQG6PJ5VBgAAAABJRU5ErkJggg==\" y=\"-10.297239\"/>\r\n   </g>\r\n   <g id=\"matplotlib.axis_29\">\r\n    <g id=\"xtick_29\">\r\n     <g id=\"line2d_57\">\r\n      <g>\r\n       <use style=\"stroke:#000000;stroke-width:0.8;\" x=\"305.648762\" xlink:href=\"#mb643e34417\" y=\"27.297239\"/>\r\n      </g>\r\n     </g>\r\n     <g id=\"text_57\">\r\n      <!-- 0 -->\r\n      <g transform=\"translate(302.467512 41.895676)scale(0.1 -0.1)\">\r\n       <use xlink:href=\"#DejaVuSans-48\"/>\r\n      </g>\r\n     </g>\r\n    </g>\r\n    <g id=\"xtick_30\">\r\n     <g id=\"line2d_58\">\r\n      <g>\r\n       <use style=\"stroke:#000000;stroke-width:0.8;\" x=\"319.460644\" xlink:href=\"#mb643e34417\" y=\"27.297239\"/>\r\n      </g>\r\n     </g>\r\n     <g id=\"text_58\">\r\n      <!-- 25 -->\r\n      <g transform=\"translate(313.098144 41.895676)scale(0.1 -0.1)\">\r\n       <use xlink:href=\"#DejaVuSans-50\"/>\r\n       <use x=\"63.623047\" xlink:href=\"#DejaVuSans-53\"/>\r\n      </g>\r\n     </g>\r\n    </g>\r\n   </g>\r\n   <g id=\"matplotlib.axis_30\">\r\n    <g id=\"ytick_29\">\r\n     <g id=\"line2d_59\">\r\n      <g>\r\n       <use style=\"stroke:#000000;stroke-width:0.8;\" x=\"305.372525\" xlink:href=\"#mbd2047191e\" y=\"10.999219\"/>\r\n      </g>\r\n     </g>\r\n     <g id=\"text_59\">\r\n      <!-- 0 -->\r\n      <g transform=\"translate(292.010025 14.798438)scale(0.1 -0.1)\">\r\n       <use xlink:href=\"#DejaVuSans-48\"/>\r\n      </g>\r\n     </g>\r\n    </g>\r\n    <g id=\"ytick_30\">\r\n     <g id=\"line2d_60\">\r\n      <g>\r\n       <use style=\"stroke:#000000;stroke-width:0.8;\" x=\"305.372525\" xlink:href=\"#mbd2047191e\" y=\"24.8111\"/>\r\n      </g>\r\n     </g>\r\n     <g id=\"text_60\">\r\n      <!-- 25 -->\r\n      <g transform=\"translate(285.647525 28.610319)scale(0.1 -0.1)\">\r\n       <use xlink:href=\"#DejaVuSans-50\"/>\r\n       <use x=\"63.623047\" xlink:href=\"#DejaVuSans-53\"/>\r\n      </g>\r\n     </g>\r\n    </g>\r\n   </g>\r\n   <g id=\"patch_73\">\r\n    <path d=\"M 305.372525 27.297239 \r\nL 305.372525 10.722981 \r\n\" style=\"fill:none;stroke:#000000;stroke-linecap:square;stroke-linejoin:miter;stroke-width:0.8;\"/>\r\n   </g>\r\n   <g id=\"patch_74\">\r\n    <path d=\"M 321.946782 27.297239 \r\nL 321.946782 10.722981 \r\n\" style=\"fill:none;stroke:#000000;stroke-linecap:square;stroke-linejoin:miter;stroke-width:0.8;\"/>\r\n   </g>\r\n   <g id=\"patch_75\">\r\n    <path d=\"M 305.372525 27.297239 \r\nL 321.946782 27.297239 \r\n\" style=\"fill:none;stroke:#000000;stroke-linecap:square;stroke-linejoin:miter;stroke-width:0.8;\"/>\r\n   </g>\r\n   <g id=\"patch_76\">\r\n    <path d=\"M 305.372525 10.722981 \r\nL 321.946782 10.722981 \r\n\" style=\"fill:none;stroke:#000000;stroke-linecap:square;stroke-linejoin:miter;stroke-width:0.8;\"/>\r\n   </g>\r\n  </g>\r\n  <g id=\"axes_16\">\r\n   <g id=\"patch_77\">\r\n    <path d=\"M 325.261634 27.297239 \r\nL 341.835891 27.297239 \r\nL 341.835891 10.722981 \r\nL 325.261634 10.722981 \r\nz\r\n\" style=\"fill:#ffffff;\"/>\r\n   </g>\r\n   <g clip-path=\"url(#p0250136b13)\">\r\n    <image height=\"17\" id=\"image37bdcf5918\" transform=\"scale(1 -1)translate(0 -17)\" width=\"17\" x=\"325.261634\" xlink:href=\"data:image/png;base64,\r\niVBORw0KGgoAAAANSUhEUgAAABEAAAARCAYAAAA7bUf6AAAABHNCSVQICAgIfAhkiAAAAB5JREFUOI1jdGEM+c9AIWCi1IBRQ0YNGTVk1BAoAACbHQG6PJ5VBgAAAABJRU5ErkJggg==\" y=\"-10.297239\"/>\r\n   </g>\r\n   <g id=\"matplotlib.axis_31\">\r\n    <g id=\"xtick_31\">\r\n     <g id=\"line2d_61\">\r\n      <g>\r\n       <use style=\"stroke:#000000;stroke-width:0.8;\" x=\"325.537871\" xlink:href=\"#mb643e34417\" y=\"27.297239\"/>\r\n      </g>\r\n     </g>\r\n     <g id=\"text_61\">\r\n      <!-- 0 -->\r\n      <g transform=\"translate(322.356621 41.895676)scale(0.1 -0.1)\">\r\n       <use xlink:href=\"#DejaVuSans-48\"/>\r\n      </g>\r\n     </g>\r\n    </g>\r\n    <g id=\"xtick_32\">\r\n     <g id=\"line2d_62\">\r\n      <g>\r\n       <use style=\"stroke:#000000;stroke-width:0.8;\" x=\"339.349752\" xlink:href=\"#mb643e34417\" y=\"27.297239\"/>\r\n      </g>\r\n     </g>\r\n     <g id=\"text_62\">\r\n      <!-- 25 -->\r\n      <g transform=\"translate(332.987252 41.895676)scale(0.1 -0.1)\">\r\n       <use xlink:href=\"#DejaVuSans-50\"/>\r\n       <use x=\"63.623047\" xlink:href=\"#DejaVuSans-53\"/>\r\n      </g>\r\n     </g>\r\n    </g>\r\n   </g>\r\n   <g id=\"matplotlib.axis_32\">\r\n    <g id=\"ytick_31\">\r\n     <g id=\"line2d_63\">\r\n      <g>\r\n       <use style=\"stroke:#000000;stroke-width:0.8;\" x=\"325.261634\" xlink:href=\"#mbd2047191e\" y=\"10.999219\"/>\r\n      </g>\r\n     </g>\r\n     <g id=\"text_63\">\r\n      <!-- 0 -->\r\n      <g transform=\"translate(311.899134 14.798438)scale(0.1 -0.1)\">\r\n       <use xlink:href=\"#DejaVuSans-48\"/>\r\n      </g>\r\n     </g>\r\n    </g>\r\n    <g id=\"ytick_32\">\r\n     <g id=\"line2d_64\">\r\n      <g>\r\n       <use style=\"stroke:#000000;stroke-width:0.8;\" x=\"325.261634\" xlink:href=\"#mbd2047191e\" y=\"24.8111\"/>\r\n      </g>\r\n     </g>\r\n     <g id=\"text_64\">\r\n      <!-- 25 -->\r\n      <g transform=\"translate(305.536634 28.610319)scale(0.1 -0.1)\">\r\n       <use xlink:href=\"#DejaVuSans-50\"/>\r\n       <use x=\"63.623047\" xlink:href=\"#DejaVuSans-53\"/>\r\n      </g>\r\n     </g>\r\n    </g>\r\n   </g>\r\n   <g id=\"patch_78\">\r\n    <path d=\"M 325.261634 27.297239 \r\nL 325.261634 10.722981 \r\n\" style=\"fill:none;stroke:#000000;stroke-linecap:square;stroke-linejoin:miter;stroke-width:0.8;\"/>\r\n   </g>\r\n   <g id=\"patch_79\">\r\n    <path d=\"M 341.835891 27.297239 \r\nL 341.835891 10.722981 \r\n\" style=\"fill:none;stroke:#000000;stroke-linecap:square;stroke-linejoin:miter;stroke-width:0.8;\"/>\r\n   </g>\r\n   <g id=\"patch_80\">\r\n    <path d=\"M 325.261634 27.297239 \r\nL 341.835891 27.297239 \r\n\" style=\"fill:none;stroke:#000000;stroke-linecap:square;stroke-linejoin:miter;stroke-width:0.8;\"/>\r\n   </g>\r\n   <g id=\"patch_81\">\r\n    <path d=\"M 325.261634 10.722981 \r\nL 341.835891 10.722981 \r\n\" style=\"fill:none;stroke:#000000;stroke-linecap:square;stroke-linejoin:miter;stroke-width:0.8;\"/>\r\n   </g>\r\n  </g>\r\n  <g id=\"axes_17\">\r\n   <g id=\"patch_82\">\r\n    <path d=\"M 345.150743 27.297239 \r\nL 361.725 27.297239 \r\nL 361.725 10.722981 \r\nL 345.150743 10.722981 \r\nz\r\n\" style=\"fill:#ffffff;\"/>\r\n   </g>\r\n   <g clip-path=\"url(#pb3e0c52578)\">\r\n    <image height=\"17\" id=\"imaged243589f50\" transform=\"scale(1 -1)translate(0 -17)\" width=\"17\" x=\"345.150743\" xlink:href=\"data:image/png;base64,\r\niVBORw0KGgoAAAANSUhEUgAAABEAAAARCAYAAAA7bUf6AAAABHNCSVQICAgIfAhkiAAAA8lJREFUOI0FwVtsU3UAwOHfufT0ck67lo1221k3F1binEaCRCEoCwOUSwKJkBAvkRiJEl58wEcNPBhNfFEfIELig0h8UBI1MdHEoBsICxeVcV3ZYN3Yus7ubG3Xnl7O6fn7fdKvD/vFe8OHODd0hit2irFSko5AkeFsivXxx1yZ68VsKZJOmyR6ljjZ/x2X7LWk/DkyjdXs0MeRRyspzg2d4eitN7jw35PMlqMYSp1SJUDDU9H9DaL+Ku9svkhXuMAflX5O3RrER5N9xn2u17qR/p3uEu9PHGRHYpx9kZsce3QAM1SkO7hEQHb46uogAJ1dS0iA3fCxM3kfy9HZExvj5MwQck0oHDRvMJJP8X1xA5nFVYR9NWxP4+tftvPxSz/Sbi7TcsxHzmphi/kQ07/MxIcDfHr8LWYvdCMfHD7CTL2V7Yn7LDshXk2NsVg3+CT+D0KGvBvGKuqkD8cI6TUMpc6l5RSB2RJNn4QbEiidh148YbkGPlXgIeMKmefC02Q9mNBbWXIN5ksR+tbkyE63cXzgZyRFon2/xe6tV/k9+xTy6XXfUmlopItxMrt00s97PKEtUvN8rIvNUnN97Ft7m/RUB0c2/0mP6vD539s498M2zmY3oZRlpNdGD4uFapjayU7khiD3gsKu3ddxPYVNkUm+nBxiYyJDu1aiLlSm7FYAbp5/mkrSY8vGu6hX/+qn6Rf02E2mX2+ytmuOatPHntgYg0GLj6ww1+VuYoEqC2WDDYnHXJvvwQnD0KbbeEJC7v3JxhwWSK5HyKhj2Trvrh6h0Azxwdx2Er9pLEy2kT/bw9JsFL/sUpiPwMAKO2J3iPpspFfajwqvUMTe+SxzBxxEScMwS3iejDLSgiSgfXSFqb0Gbm+NN5+5Rq8/z2d3XqaRMfDaHFQvGWf27T4qqQahe0EiGY/cVgN1WSWogN8SFPt0RJ+NuarERDnO+cl1REI1VnoF9UcR5IWNEVQbghmN6EOP3KBH/xdFkhcczNNjlJMSxTUyTlkjqDqMjq+hK1qkXPMT0Bz0rIQae9BAsV0aMY1aVAFZgNtEy1eRY1Fa7zVBQN7n43EsytDAOFZdJ6g5WFMxAiGQg3ezZPYGWTEVavsLIEF+cxzpQQZRLgNQSCno6xdxGio3ckluZUw8AUIV1NqbKO6pvSfaLitYWxsELoeJTMg4YQmjEkQWoKXnCTUM5uNhOnss8jMx8CSqVT9qQcWLuMhiyY+ec+j9RqKaENgdEpEZl2J/GMdchWTo+KwKXszBGukARSDbCp3mEp4mUIoq/wOQE6uGgdg5eQAAAABJRU5ErkJggg==\" y=\"-10.297239\"/>\r\n   </g>\r\n   <g id=\"matplotlib.axis_33\">\r\n    <g id=\"xtick_33\">\r\n     <g id=\"line2d_65\">\r\n      <g>\r\n       <use style=\"stroke:#000000;stroke-width:0.8;\" x=\"345.42698\" xlink:href=\"#mb643e34417\" y=\"27.297239\"/>\r\n      </g>\r\n     </g>\r\n     <g id=\"text_65\">\r\n      <!-- 0 -->\r\n      <g transform=\"translate(342.24573 41.895676)scale(0.1 -0.1)\">\r\n       <use xlink:href=\"#DejaVuSans-48\"/>\r\n      </g>\r\n     </g>\r\n    </g>\r\n    <g id=\"xtick_34\">\r\n     <g id=\"line2d_66\">\r\n      <g>\r\n       <use style=\"stroke:#000000;stroke-width:0.8;\" x=\"359.238861\" xlink:href=\"#mb643e34417\" y=\"27.297239\"/>\r\n      </g>\r\n     </g>\r\n     <g id=\"text_66\">\r\n      <!-- 25 -->\r\n      <g transform=\"translate(352.876361 41.895676)scale(0.1 -0.1)\">\r\n       <use xlink:href=\"#DejaVuSans-50\"/>\r\n       <use x=\"63.623047\" xlink:href=\"#DejaVuSans-53\"/>\r\n      </g>\r\n     </g>\r\n    </g>\r\n   </g>\r\n   <g id=\"matplotlib.axis_34\">\r\n    <g id=\"ytick_33\">\r\n     <g id=\"line2d_67\">\r\n      <g>\r\n       <use style=\"stroke:#000000;stroke-width:0.8;\" x=\"345.150743\" xlink:href=\"#mbd2047191e\" y=\"10.999219\"/>\r\n      </g>\r\n     </g>\r\n     <g id=\"text_67\">\r\n      <!-- 0 -->\r\n      <g transform=\"translate(331.788243 14.798438)scale(0.1 -0.1)\">\r\n       <use xlink:href=\"#DejaVuSans-48\"/>\r\n      </g>\r\n     </g>\r\n    </g>\r\n    <g id=\"ytick_34\">\r\n     <g id=\"line2d_68\">\r\n      <g>\r\n       <use style=\"stroke:#000000;stroke-width:0.8;\" x=\"345.150743\" xlink:href=\"#mbd2047191e\" y=\"24.8111\"/>\r\n      </g>\r\n     </g>\r\n     <g id=\"text_68\">\r\n      <!-- 25 -->\r\n      <g transform=\"translate(325.425743 28.610319)scale(0.1 -0.1)\">\r\n       <use xlink:href=\"#DejaVuSans-50\"/>\r\n       <use x=\"63.623047\" xlink:href=\"#DejaVuSans-53\"/>\r\n      </g>\r\n     </g>\r\n    </g>\r\n   </g>\r\n   <g id=\"patch_83\">\r\n    <path d=\"M 345.150743 27.297239 \r\nL 345.150743 10.722981 \r\n\" style=\"fill:none;stroke:#000000;stroke-linecap:square;stroke-linejoin:miter;stroke-width:0.8;\"/>\r\n   </g>\r\n   <g id=\"patch_84\">\r\n    <path d=\"M 361.725 27.297239 \r\nL 361.725 10.722981 \r\n\" style=\"fill:none;stroke:#000000;stroke-linecap:square;stroke-linejoin:miter;stroke-width:0.8;\"/>\r\n   </g>\r\n   <g id=\"patch_85\">\r\n    <path d=\"M 345.150743 27.297239 \r\nL 361.725 27.297239 \r\n\" style=\"fill:none;stroke:#000000;stroke-linecap:square;stroke-linejoin:miter;stroke-width:0.8;\"/>\r\n   </g>\r\n   <g id=\"patch_86\">\r\n    <path d=\"M 345.150743 10.722981 \r\nL 361.725 10.722981 \r\n\" style=\"fill:none;stroke:#000000;stroke-linecap:square;stroke-linejoin:miter;stroke-width:0.8;\"/>\r\n   </g>\r\n  </g>\r\n </g>\r\n <defs>\r\n  <clipPath id=\"p3209007cf1\">\r\n   <rect height=\"16.574257\" width=\"16.574257\" x=\"26.925\" y=\"10.722981\"/>\r\n  </clipPath>\r\n  <clipPath id=\"p646c7a7ca0\">\r\n   <rect height=\"16.574257\" width=\"16.574257\" x=\"46.814109\" y=\"10.722981\"/>\r\n  </clipPath>\r\n  <clipPath id=\"p3a987a00f8\">\r\n   <rect height=\"16.574257\" width=\"16.574257\" x=\"66.703218\" y=\"10.722981\"/>\r\n  </clipPath>\r\n  <clipPath id=\"p614768ac81\">\r\n   <rect height=\"16.574257\" width=\"16.574257\" x=\"86.592327\" y=\"10.722981\"/>\r\n  </clipPath>\r\n  <clipPath id=\"pcd07fcd6bd\">\r\n   <rect height=\"16.574257\" width=\"16.574257\" x=\"106.481436\" y=\"10.722981\"/>\r\n  </clipPath>\r\n  <clipPath id=\"p14ff257276\">\r\n   <rect height=\"16.574257\" width=\"16.574257\" x=\"126.370545\" y=\"10.722981\"/>\r\n  </clipPath>\r\n  <clipPath id=\"p026730d166\">\r\n   <rect height=\"16.574257\" width=\"16.574257\" x=\"146.259653\" y=\"10.722981\"/>\r\n  </clipPath>\r\n  <clipPath id=\"pf6d982aff3\">\r\n   <rect height=\"16.574257\" width=\"16.574257\" x=\"166.148762\" y=\"10.722981\"/>\r\n  </clipPath>\r\n  <clipPath id=\"p33cd45dafe\">\r\n   <rect height=\"16.574257\" width=\"16.574257\" x=\"186.037871\" y=\"10.722981\"/>\r\n  </clipPath>\r\n  <clipPath id=\"pdeeb1c8cf3\">\r\n   <rect height=\"16.574257\" width=\"16.574257\" x=\"205.92698\" y=\"10.722981\"/>\r\n  </clipPath>\r\n  <clipPath id=\"p572ee7472f\">\r\n   <rect height=\"16.574257\" width=\"16.574257\" x=\"225.816089\" y=\"10.722981\"/>\r\n  </clipPath>\r\n  <clipPath id=\"pf7bb0001c3\">\r\n   <rect height=\"16.574257\" width=\"16.574257\" x=\"245.705198\" y=\"10.722981\"/>\r\n  </clipPath>\r\n  <clipPath id=\"p768991fbe4\">\r\n   <rect height=\"16.574257\" width=\"16.574257\" x=\"265.594307\" y=\"10.722981\"/>\r\n  </clipPath>\r\n  <clipPath id=\"pf146105dc6\">\r\n   <rect height=\"16.574257\" width=\"16.574257\" x=\"285.483416\" y=\"10.722981\"/>\r\n  </clipPath>\r\n  <clipPath id=\"p3fd184930b\">\r\n   <rect height=\"16.574257\" width=\"16.574257\" x=\"305.372525\" y=\"10.722981\"/>\r\n  </clipPath>\r\n  <clipPath id=\"p0250136b13\">\r\n   <rect height=\"16.574257\" width=\"16.574257\" x=\"325.261634\" y=\"10.722981\"/>\r\n  </clipPath>\r\n  <clipPath id=\"pb3e0c52578\">\r\n   <rect height=\"16.574257\" width=\"16.574257\" x=\"345.150743\" y=\"10.722981\"/>\r\n  </clipPath>\r\n </defs>\r\n</svg>\r\n",
      "image/png": "[encoded data removed]"
     },
     "metadata": {
      "needs_background": "light"
     }
    }
   ],
   "source": [
    "fig = plt.figure()\n",
    "for i, im in enumerate(train_data['land_cover'][TRAINING_POINT]):\n",
    "    ax = fig.add_subplot(1,17,i+1)\n",
    "    ax.imshow(im)\n",
    "plt.show()"
   ]
  },
  {
   "cell_type": "code",
   "execution_count": 14,
   "metadata": {},
   "outputs": [],
   "source": [
    "large_fire_inds = np.where(\n",
    "    (np.sum(train_data['observed'][:,0],axis=(1,2)) > 50) & \n",
    "    (np.sum(train_data['observed'][:,1],axis=(1,2)) > 50) & \n",
    "    (np.sum(train_data['observed'][:,2],axis=(1,2)) > 50) & \n",
    "    (np.sum(train_data['observed'][:,3],axis=(1,2)) > 50) & \n",
    "    (np.sum(train_data['observed'][:,4],axis=(1,2)) > 50) & \n",
    "    (np.sum(train_data['target'][:,0],axis=(1,2)) > 50) \n",
    ")[0]"
   ]
  },
  {
   "cell_type": "code",
   "execution_count": 15,
   "metadata": {},
   "outputs": [],
   "source": [
    "TRAINING_POINT = large_fire_inds[0]"
   ]
  },
  {
   "cell_type": "code",
   "execution_count": 13,
   "metadata": {},
   "outputs": [],
   "source": [
    "LAND_COVER_LAYER_NAME_TO_IND = {'ASP': 0, 'CBD': 1, 'CBH': 2, 'CC': 3, 'CH': 4, 'DEM': 5, 'EVT': 6, 'SLP': 16}\n",
    "VEGETATION_NAME_TO_IND = {'Nodata': 0, 'Sparse': 1, 'Tree': 2, 'Shrub': 3, 'Herb': 4, 'Water': 5, 'Barren': 6, 'Developed': 7, 'Snow-Ice': 8, 'Agriculture': 9}\n",
    "\n",
    "TOPO_NAMES = ['ASP', 'SLP', 'DEM']\n",
    "VEG_NAME = 'EVT'\n",
    "FUEL_NAMES = ['CBD', 'CBH', 'CC', 'CH']"
   ]
  },
  {
   "cell_type": "code",
   "execution_count": 16,
   "metadata": {},
   "outputs": [],
   "source": [
    "image1 = train_data['observed'][TRAINING_POINT]\n",
    "target1 = train_data['target'][TRAINING_POINT]\n",
    "feature1 = train_data['land_cover'][TRAINING_POINT]"
   ]
  },
  {
   "cell_type": "code",
   "execution_count": 17,
   "metadata": {},
   "outputs": [
    {
     "output_type": "execute_result",
     "data": {
      "text/plain": "torch.Size([1, 5, 30, 30])"
     },
     "metadata": {},
     "execution_count": 17
    }
   ],
   "source": [
    "\n",
    "# temp = torch.from_numpy(image1)\n",
    "# temp2 = temp[None, None,:,:]\n",
    "# temp2.shape\n",
    "temp = torch.from_numpy(image1)\n",
    "temp2 = temp.unsqueeze(0).to(device)\n",
    "temp2.shape\n",
    "\n"
   ]
  },
  {
   "cell_type": "code",
   "execution_count": 18,
   "metadata": {},
   "outputs": [
    {
     "output_type": "execute_result",
     "data": {
      "text/plain": "torch.Size([1, 17, 30, 30])"
     },
     "metadata": {},
     "execution_count": 18
    }
   ],
   "source": [
    "temp = torch.from_numpy(feature1)\n",
    "tempf = temp.unsqueeze(0).to(device)\n",
    "tempf.shape"
   ]
  },
  {
   "cell_type": "code",
   "execution_count": null,
   "metadata": {},
   "outputs": [],
   "source": []
  },
  {
   "cell_type": "code",
   "execution_count": 71,
   "metadata": {},
   "outputs": [],
   "source": [
    "output = model(temp2.float(), tempf)"
   ]
  },
  {
   "cell_type": "code",
   "execution_count": 33,
   "metadata": {},
   "outputs": [
    {
     "output_type": "execute_result",
     "data": {
      "text/plain": "torch.Size([1, 900])"
     },
     "metadata": {},
     "execution_count": 33
    }
   ],
   "source": [
    "output.shape"
   ]
  },
  {
   "cell_type": "code",
   "execution_count": 72,
   "metadata": {},
   "outputs": [
    {
     "output_type": "execute_result",
     "data": {
      "text/plain": "(1, 900)"
     },
     "metadata": {},
     "execution_count": 72
    }
   ],
   "source": [
    "# plt.title(f'{-12 * (4-i)} hours')\n",
    "test_image = output.cpu().detach().numpy()\n",
    "test_image.shape"
   ]
  },
  {
   "cell_type": "code",
   "execution_count": 73,
   "metadata": {},
   "outputs": [],
   "source": [
    "test1 = test_image[:, :900]\n",
    "# test2 = test_image[:, 900:]"
   ]
  },
  {
   "cell_type": "code",
   "execution_count": 74,
   "metadata": {},
   "outputs": [
    {
     "output_type": "display_data",
     "data": {
      "text/plain": "<Figure size 432x288 with 2 Axes>",
      "image/svg+xml": "<?xml version=\"1.0\" encoding=\"utf-8\" standalone=\"no\"?>\r\n<!DOCTYPE svg PUBLIC \"-//W3C//DTD SVG 1.1//EN\"\r\n  \"http://www.w3.org/Graphics/SVG/1.1/DTD/svg11.dtd\">\r\n<!-- Created with matplotlib (https://matplotlib.org/) -->\r\n<svg height=\"252.317344pt\" version=\"1.1\" viewBox=\"0 0 376.876562 252.317344\" width=\"376.876562pt\" xmlns=\"http://www.w3.org/2000/svg\" xmlns:xlink=\"http://www.w3.org/1999/xlink\">\r\n <defs>\r\n  <style type=\"text/css\">\r\n*{stroke-linecap:butt;stroke-linejoin:round;}\r\n  </style>\r\n </defs>\r\n <g id=\"figure_1\">\r\n  <g id=\"patch_1\">\r\n   <path d=\"M -0 252.317344 \r\nL 376.876562 252.317344 \r\nL 376.876562 0 \r\nL -0 0 \r\nz\r\n\" style=\"fill:none;\"/>\r\n  </g>\r\n  <g id=\"axes_1\">\r\n   <g id=\"patch_2\">\r\n    <path d=\"M 26.925 195.810128 \r\nL 179.106818 195.810128 \r\nL 179.106818 43.62831 \r\nL 26.925 43.62831 \r\nz\r\n\" style=\"fill:#ffffff;\"/>\r\n   </g>\r\n   <g clip-path=\"url(#p4443f4d7c5)\">\r\n    <image height=\"153\" id=\"image0a892eab9b\" transform=\"scale(1 -1)translate(0 -153)\" width=\"153\" x=\"26.925\" xlink:href=\"data:image/png;base64,\r\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\" y=\"-42.810128\"/>\r\n   </g>\r\n   <g id=\"matplotlib.axis_1\">\r\n    <g id=\"xtick_1\">\r\n     <g id=\"line2d_1\">\r\n      <defs>\r\n       <path d=\"M 0 0 \r\nL 0 3.5 \r\n\" id=\"md12ef4e7c3\" style=\"stroke:#000000;stroke-width:0.8;\"/>\r\n      </defs>\r\n      <g>\r\n       <use style=\"stroke:#000000;stroke-width:0.8;\" x=\"29.461364\" xlink:href=\"#md12ef4e7c3\" y=\"195.810128\"/>\r\n      </g>\r\n     </g>\r\n     <g id=\"text_1\">\r\n      <!-- 0 -->\r\n      <defs>\r\n       <path d=\"M 31.78125 66.40625 \r\nQ 24.171875 66.40625 20.328125 58.90625 \r\nQ 16.5 51.421875 16.5 36.375 \r\nQ 16.5 21.390625 20.328125 13.890625 \r\nQ 24.171875 6.390625 31.78125 6.390625 \r\nQ 39.453125 6.390625 43.28125 13.890625 \r\nQ 47.125 21.390625 47.125 36.375 \r\nQ 47.125 51.421875 43.28125 58.90625 \r\nQ 39.453125 66.40625 31.78125 66.40625 \r\nz\r\nM 31.78125 74.21875 \r\nQ 44.046875 74.21875 50.515625 64.515625 \r\nQ 56.984375 54.828125 56.984375 36.375 \r\nQ 56.984375 17.96875 50.515625 8.265625 \r\nQ 44.046875 -1.421875 31.78125 -1.421875 \r\nQ 19.53125 -1.421875 13.0625 8.265625 \r\nQ 6.59375 17.96875 6.59375 36.375 \r\nQ 6.59375 54.828125 13.0625 64.515625 \r\nQ 19.53125 74.21875 31.78125 74.21875 \r\nz\r\n\" id=\"DejaVuSans-48\"/>\r\n      </defs>\r\n      <g transform=\"translate(26.280114 210.408565)scale(0.1 -0.1)\">\r\n       <use xlink:href=\"#DejaVuSans-48\"/>\r\n      </g>\r\n     </g>\r\n    </g>\r\n    <g id=\"xtick_2\">\r\n     <g id=\"line2d_2\">\r\n      <g>\r\n       <use style=\"stroke:#000000;stroke-width:0.8;\" x=\"80.188636\" xlink:href=\"#md12ef4e7c3\" y=\"195.810128\"/>\r\n      </g>\r\n     </g>\r\n     <g id=\"text_2\">\r\n      <!-- 10 -->\r\n      <defs>\r\n       <path d=\"M 12.40625 8.296875 \r\nL 28.515625 8.296875 \r\nL 28.515625 63.921875 \r\nL 10.984375 60.40625 \r\nL 10.984375 69.390625 \r\nL 28.421875 72.90625 \r\nL 38.28125 72.90625 \r\nL 38.28125 8.296875 \r\nL 54.390625 8.296875 \r\nL 54.390625 0 \r\nL 12.40625 0 \r\nz\r\n\" id=\"DejaVuSans-49\"/>\r\n      </defs>\r\n      <g transform=\"translate(73.826136 210.408565)scale(0.1 -0.1)\">\r\n       <use xlink:href=\"#DejaVuSans-49\"/>\r\n       <use x=\"63.623047\" xlink:href=\"#DejaVuSans-48\"/>\r\n      </g>\r\n     </g>\r\n    </g>\r\n    <g id=\"xtick_3\">\r\n     <g id=\"line2d_3\">\r\n      <g>\r\n       <use style=\"stroke:#000000;stroke-width:0.8;\" x=\"130.915909\" xlink:href=\"#md12ef4e7c3\" y=\"195.810128\"/>\r\n      </g>\r\n     </g>\r\n     <g id=\"text_3\">\r\n      <!-- 20 -->\r\n      <defs>\r\n       <path d=\"M 19.1875 8.296875 \r\nL 53.609375 8.296875 \r\nL 53.609375 0 \r\nL 7.328125 0 \r\nL 7.328125 8.296875 \r\nQ 12.9375 14.109375 22.625 23.890625 \r\nQ 32.328125 33.6875 34.8125 36.53125 \r\nQ 39.546875 41.84375 41.421875 45.53125 \r\nQ 43.3125 49.21875 43.3125 52.78125 \r\nQ 43.3125 58.59375 39.234375 62.25 \r\nQ 35.15625 65.921875 28.609375 65.921875 \r\nQ 23.96875 65.921875 18.8125 64.3125 \r\nQ 13.671875 62.703125 7.8125 59.421875 \r\nL 7.8125 69.390625 \r\nQ 13.765625 71.78125 18.9375 73 \r\nQ 24.125 74.21875 28.421875 74.21875 \r\nQ 39.75 74.21875 46.484375 68.546875 \r\nQ 53.21875 62.890625 53.21875 53.421875 \r\nQ 53.21875 48.921875 51.53125 44.890625 \r\nQ 49.859375 40.875 45.40625 35.40625 \r\nQ 44.1875 33.984375 37.640625 27.21875 \r\nQ 31.109375 20.453125 19.1875 8.296875 \r\nz\r\n\" id=\"DejaVuSans-50\"/>\r\n      </defs>\r\n      <g transform=\"translate(124.553409 210.408565)scale(0.1 -0.1)\">\r\n       <use xlink:href=\"#DejaVuSans-50\"/>\r\n       <use x=\"63.623047\" xlink:href=\"#DejaVuSans-48\"/>\r\n      </g>\r\n     </g>\r\n    </g>\r\n   </g>\r\n   <g id=\"matplotlib.axis_2\">\r\n    <g id=\"ytick_1\">\r\n     <g id=\"line2d_4\">\r\n      <defs>\r\n       <path d=\"M 0 0 \r\nL -3.5 0 \r\n\" id=\"m5ee31619a4\" style=\"stroke:#000000;stroke-width:0.8;\"/>\r\n      </defs>\r\n      <g>\r\n       <use style=\"stroke:#000000;stroke-width:0.8;\" x=\"26.925\" xlink:href=\"#m5ee31619a4\" y=\"46.164673\"/>\r\n      </g>\r\n     </g>\r\n     <g id=\"text_4\">\r\n      <!-- 0 -->\r\n      <g transform=\"translate(13.5625 49.963892)scale(0.1 -0.1)\">\r\n       <use xlink:href=\"#DejaVuSans-48\"/>\r\n      </g>\r\n     </g>\r\n    </g>\r\n    <g id=\"ytick_2\">\r\n     <g id=\"line2d_5\">\r\n      <g>\r\n       <use style=\"stroke:#000000;stroke-width:0.8;\" x=\"26.925\" xlink:href=\"#m5ee31619a4\" y=\"71.52831\"/>\r\n      </g>\r\n     </g>\r\n     <g id=\"text_5\">\r\n      <!-- 5 -->\r\n      <defs>\r\n       <path d=\"M 10.796875 72.90625 \r\nL 49.515625 72.90625 \r\nL 49.515625 64.59375 \r\nL 19.828125 64.59375 \r\nL 19.828125 46.734375 \r\nQ 21.96875 47.46875 24.109375 47.828125 \r\nQ 26.265625 48.1875 28.421875 48.1875 \r\nQ 40.625 48.1875 47.75 41.5 \r\nQ 54.890625 34.8125 54.890625 23.390625 \r\nQ 54.890625 11.625 47.5625 5.09375 \r\nQ 40.234375 -1.421875 26.90625 -1.421875 \r\nQ 22.3125 -1.421875 17.546875 -0.640625 \r\nQ 12.796875 0.140625 7.71875 1.703125 \r\nL 7.71875 11.625 \r\nQ 12.109375 9.234375 16.796875 8.0625 \r\nQ 21.484375 6.890625 26.703125 6.890625 \r\nQ 35.15625 6.890625 40.078125 11.328125 \r\nQ 45.015625 15.765625 45.015625 23.390625 \r\nQ 45.015625 31 40.078125 35.4375 \r\nQ 35.15625 39.890625 26.703125 39.890625 \r\nQ 22.75 39.890625 18.8125 39.015625 \r\nQ 14.890625 38.140625 10.796875 36.28125 \r\nz\r\n\" id=\"DejaVuSans-53\"/>\r\n      </defs>\r\n      <g transform=\"translate(13.5625 75.327528)scale(0.1 -0.1)\">\r\n       <use xlink:href=\"#DejaVuSans-53\"/>\r\n      </g>\r\n     </g>\r\n    </g>\r\n    <g id=\"ytick_3\">\r\n     <g id=\"line2d_6\">\r\n      <g>\r\n       <use style=\"stroke:#000000;stroke-width:0.8;\" x=\"26.925\" xlink:href=\"#m5ee31619a4\" y=\"96.891946\"/>\r\n      </g>\r\n     </g>\r\n     <g id=\"text_6\">\r\n      <!-- 10 -->\r\n      <g transform=\"translate(7.2 100.691165)scale(0.1 -0.1)\">\r\n       <use xlink:href=\"#DejaVuSans-49\"/>\r\n       <use x=\"63.623047\" xlink:href=\"#DejaVuSans-48\"/>\r\n      </g>\r\n     </g>\r\n    </g>\r\n    <g id=\"ytick_4\">\r\n     <g id=\"line2d_7\">\r\n      <g>\r\n       <use style=\"stroke:#000000;stroke-width:0.8;\" x=\"26.925\" xlink:href=\"#m5ee31619a4\" y=\"122.255582\"/>\r\n      </g>\r\n     </g>\r\n     <g id=\"text_7\">\r\n      <!-- 15 -->\r\n      <g transform=\"translate(7.2 126.054801)scale(0.1 -0.1)\">\r\n       <use xlink:href=\"#DejaVuSans-49\"/>\r\n       <use x=\"63.623047\" xlink:href=\"#DejaVuSans-53\"/>\r\n      </g>\r\n     </g>\r\n    </g>\r\n    <g id=\"ytick_5\">\r\n     <g id=\"line2d_8\">\r\n      <g>\r\n       <use style=\"stroke:#000000;stroke-width:0.8;\" x=\"26.925\" xlink:href=\"#m5ee31619a4\" y=\"147.619219\"/>\r\n      </g>\r\n     </g>\r\n     <g id=\"text_8\">\r\n      <!-- 20 -->\r\n      <g transform=\"translate(7.2 151.418437)scale(0.1 -0.1)\">\r\n       <use xlink:href=\"#DejaVuSans-50\"/>\r\n       <use x=\"63.623047\" xlink:href=\"#DejaVuSans-48\"/>\r\n      </g>\r\n     </g>\r\n    </g>\r\n    <g id=\"ytick_6\">\r\n     <g id=\"line2d_9\">\r\n      <g>\r\n       <use style=\"stroke:#000000;stroke-width:0.8;\" x=\"26.925\" xlink:href=\"#m5ee31619a4\" y=\"172.982855\"/>\r\n      </g>\r\n     </g>\r\n     <g id=\"text_9\">\r\n      <!-- 25 -->\r\n      <g transform=\"translate(7.2 176.782074)scale(0.1 -0.1)\">\r\n       <use xlink:href=\"#DejaVuSans-50\"/>\r\n       <use x=\"63.623047\" xlink:href=\"#DejaVuSans-53\"/>\r\n      </g>\r\n     </g>\r\n    </g>\r\n   </g>\r\n   <g id=\"patch_3\">\r\n    <path d=\"M 26.925 195.810128 \r\nL 26.925 43.62831 \r\n\" style=\"fill:none;stroke:#000000;stroke-linecap:square;stroke-linejoin:miter;stroke-width:0.8;\"/>\r\n   </g>\r\n   <g id=\"patch_4\">\r\n    <path d=\"M 179.106818 195.810128 \r\nL 179.106818 43.62831 \r\n\" style=\"fill:none;stroke:#000000;stroke-linecap:square;stroke-linejoin:miter;stroke-width:0.8;\"/>\r\n   </g>\r\n   <g id=\"patch_5\">\r\n    <path d=\"M 26.925 195.810128 \r\nL 179.106818 195.810128 \r\n\" style=\"fill:none;stroke:#000000;stroke-linecap:square;stroke-linejoin:miter;stroke-width:0.8;\"/>\r\n   </g>\r\n   <g id=\"patch_6\">\r\n    <path d=\"M 26.925 43.62831 \r\nL 179.106818 43.62831 \r\n\" style=\"fill:none;stroke:#000000;stroke-linecap:square;stroke-linejoin:miter;stroke-width:0.8;\"/>\r\n   </g>\r\n  </g>\r\n  <g id=\"axes_2\">\r\n   <g id=\"patch_7\">\r\n    <path d=\"M 209.543182 228.439219 \r\nL 361.725 228.439219 \r\nL 361.725 10.999219 \r\nL 209.543182 10.999219 \r\nz\r\n\" style=\"fill:#ffffff;\"/>\r\n   </g>\r\n   <g id=\"matplotlib.axis_3\">\r\n    <g id=\"xtick_4\">\r\n     <g id=\"line2d_10\">\r\n      <g>\r\n       <use style=\"stroke:#000000;stroke-width:0.8;\" x=\"209.543182\" xlink:href=\"#md12ef4e7c3\" y=\"228.439219\"/>\r\n      </g>\r\n     </g>\r\n     <g id=\"text_10\">\r\n      <!-- 0.0 -->\r\n      <defs>\r\n       <path d=\"M 10.6875 12.40625 \r\nL 21 12.40625 \r\nL 21 0 \r\nL 10.6875 0 \r\nz\r\n\" id=\"DejaVuSans-46\"/>\r\n      </defs>\r\n      <g transform=\"translate(201.591619 243.037656)scale(0.1 -0.1)\">\r\n       <use xlink:href=\"#DejaVuSans-48\"/>\r\n       <use x=\"63.623047\" xlink:href=\"#DejaVuSans-46\"/>\r\n       <use x=\"95.410156\" xlink:href=\"#DejaVuSans-48\"/>\r\n      </g>\r\n     </g>\r\n    </g>\r\n    <g id=\"xtick_5\">\r\n     <g id=\"line2d_11\">\r\n      <g>\r\n       <use style=\"stroke:#000000;stroke-width:0.8;\" x=\"239.979545\" xlink:href=\"#md12ef4e7c3\" y=\"228.439219\"/>\r\n      </g>\r\n     </g>\r\n     <g id=\"text_11\">\r\n      <!-- 0.2 -->\r\n      <g transform=\"translate(232.027983 243.037656)scale(0.1 -0.1)\">\r\n       <use xlink:href=\"#DejaVuSans-48\"/>\r\n       <use x=\"63.623047\" xlink:href=\"#DejaVuSans-46\"/>\r\n       <use x=\"95.410156\" xlink:href=\"#DejaVuSans-50\"/>\r\n      </g>\r\n     </g>\r\n    </g>\r\n    <g id=\"xtick_6\">\r\n     <g id=\"line2d_12\">\r\n      <g>\r\n       <use style=\"stroke:#000000;stroke-width:0.8;\" x=\"270.415909\" xlink:href=\"#md12ef4e7c3\" y=\"228.439219\"/>\r\n      </g>\r\n     </g>\r\n     <g id=\"text_12\">\r\n      <!-- 0.4 -->\r\n      <defs>\r\n       <path d=\"M 37.796875 64.3125 \r\nL 12.890625 25.390625 \r\nL 37.796875 25.390625 \r\nz\r\nM 35.203125 72.90625 \r\nL 47.609375 72.90625 \r\nL 47.609375 25.390625 \r\nL 58.015625 25.390625 \r\nL 58.015625 17.1875 \r\nL 47.609375 17.1875 \r\nL 47.609375 0 \r\nL 37.796875 0 \r\nL 37.796875 17.1875 \r\nL 4.890625 17.1875 \r\nL 4.890625 26.703125 \r\nz\r\n\" id=\"DejaVuSans-52\"/>\r\n      </defs>\r\n      <g transform=\"translate(262.464347 243.037656)scale(0.1 -0.1)\">\r\n       <use xlink:href=\"#DejaVuSans-48\"/>\r\n       <use x=\"63.623047\" xlink:href=\"#DejaVuSans-46\"/>\r\n       <use x=\"95.410156\" xlink:href=\"#DejaVuSans-52\"/>\r\n      </g>\r\n     </g>\r\n    </g>\r\n    <g id=\"xtick_7\">\r\n     <g id=\"line2d_13\">\r\n      <g>\r\n       <use style=\"stroke:#000000;stroke-width:0.8;\" x=\"300.852273\" xlink:href=\"#md12ef4e7c3\" y=\"228.439219\"/>\r\n      </g>\r\n     </g>\r\n     <g id=\"text_13\">\r\n      <!-- 0.6 -->\r\n      <defs>\r\n       <path d=\"M 33.015625 40.375 \r\nQ 26.375 40.375 22.484375 35.828125 \r\nQ 18.609375 31.296875 18.609375 23.390625 \r\nQ 18.609375 15.53125 22.484375 10.953125 \r\nQ 26.375 6.390625 33.015625 6.390625 \r\nQ 39.65625 6.390625 43.53125 10.953125 \r\nQ 47.40625 15.53125 47.40625 23.390625 \r\nQ 47.40625 31.296875 43.53125 35.828125 \r\nQ 39.65625 40.375 33.015625 40.375 \r\nz\r\nM 52.59375 71.296875 \r\nL 52.59375 62.3125 \r\nQ 48.875 64.0625 45.09375 64.984375 \r\nQ 41.3125 65.921875 37.59375 65.921875 \r\nQ 27.828125 65.921875 22.671875 59.328125 \r\nQ 17.53125 52.734375 16.796875 39.40625 \r\nQ 19.671875 43.65625 24.015625 45.921875 \r\nQ 28.375 48.1875 33.59375 48.1875 \r\nQ 44.578125 48.1875 50.953125 41.515625 \r\nQ 57.328125 34.859375 57.328125 23.390625 \r\nQ 57.328125 12.15625 50.6875 5.359375 \r\nQ 44.046875 -1.421875 33.015625 -1.421875 \r\nQ 20.359375 -1.421875 13.671875 8.265625 \r\nQ 6.984375 17.96875 6.984375 36.375 \r\nQ 6.984375 53.65625 15.1875 63.9375 \r\nQ 23.390625 74.21875 37.203125 74.21875 \r\nQ 40.921875 74.21875 44.703125 73.484375 \r\nQ 48.484375 72.75 52.59375 71.296875 \r\nz\r\n\" id=\"DejaVuSans-54\"/>\r\n      </defs>\r\n      <g transform=\"translate(292.90071 243.037656)scale(0.1 -0.1)\">\r\n       <use xlink:href=\"#DejaVuSans-48\"/>\r\n       <use x=\"63.623047\" xlink:href=\"#DejaVuSans-46\"/>\r\n       <use x=\"95.410156\" xlink:href=\"#DejaVuSans-54\"/>\r\n      </g>\r\n     </g>\r\n    </g>\r\n    <g id=\"xtick_8\">\r\n     <g id=\"line2d_14\">\r\n      <g>\r\n       <use style=\"stroke:#000000;stroke-width:0.8;\" x=\"331.288636\" xlink:href=\"#md12ef4e7c3\" y=\"228.439219\"/>\r\n      </g>\r\n     </g>\r\n     <g id=\"text_14\">\r\n      <!-- 0.8 -->\r\n      <defs>\r\n       <path d=\"M 31.78125 34.625 \r\nQ 24.75 34.625 20.71875 30.859375 \r\nQ 16.703125 27.09375 16.703125 20.515625 \r\nQ 16.703125 13.921875 20.71875 10.15625 \r\nQ 24.75 6.390625 31.78125 6.390625 \r\nQ 38.8125 6.390625 42.859375 10.171875 \r\nQ 46.921875 13.96875 46.921875 20.515625 \r\nQ 46.921875 27.09375 42.890625 30.859375 \r\nQ 38.875 34.625 31.78125 34.625 \r\nz\r\nM 21.921875 38.8125 \r\nQ 15.578125 40.375 12.03125 44.71875 \r\nQ 8.5 49.078125 8.5 55.328125 \r\nQ 8.5 64.0625 14.71875 69.140625 \r\nQ 20.953125 74.21875 31.78125 74.21875 \r\nQ 42.671875 74.21875 48.875 69.140625 \r\nQ 55.078125 64.0625 55.078125 55.328125 \r\nQ 55.078125 49.078125 51.53125 44.71875 \r\nQ 48 40.375 41.703125 38.8125 \r\nQ 48.828125 37.15625 52.796875 32.3125 \r\nQ 56.78125 27.484375 56.78125 20.515625 \r\nQ 56.78125 9.90625 50.3125 4.234375 \r\nQ 43.84375 -1.421875 31.78125 -1.421875 \r\nQ 19.734375 -1.421875 13.25 4.234375 \r\nQ 6.78125 9.90625 6.78125 20.515625 \r\nQ 6.78125 27.484375 10.78125 32.3125 \r\nQ 14.796875 37.15625 21.921875 38.8125 \r\nz\r\nM 18.3125 54.390625 \r\nQ 18.3125 48.734375 21.84375 45.5625 \r\nQ 25.390625 42.390625 31.78125 42.390625 \r\nQ 38.140625 42.390625 41.71875 45.5625 \r\nQ 45.3125 48.734375 45.3125 54.390625 \r\nQ 45.3125 60.0625 41.71875 63.234375 \r\nQ 38.140625 66.40625 31.78125 66.40625 \r\nQ 25.390625 66.40625 21.84375 63.234375 \r\nQ 18.3125 60.0625 18.3125 54.390625 \r\nz\r\n\" id=\"DejaVuSans-56\"/>\r\n      </defs>\r\n      <g transform=\"translate(323.337074 243.037656)scale(0.1 -0.1)\">\r\n       <use xlink:href=\"#DejaVuSans-48\"/>\r\n       <use x=\"63.623047\" xlink:href=\"#DejaVuSans-46\"/>\r\n       <use x=\"95.410156\" xlink:href=\"#DejaVuSans-56\"/>\r\n      </g>\r\n     </g>\r\n    </g>\r\n    <g id=\"xtick_9\">\r\n     <g id=\"line2d_15\">\r\n      <g>\r\n       <use style=\"stroke:#000000;stroke-width:0.8;\" x=\"361.725\" xlink:href=\"#md12ef4e7c3\" y=\"228.439219\"/>\r\n      </g>\r\n     </g>\r\n     <g id=\"text_15\">\r\n      <!-- 1.0 -->\r\n      <g transform=\"translate(353.773437 243.037656)scale(0.1 -0.1)\">\r\n       <use xlink:href=\"#DejaVuSans-49\"/>\r\n       <use x=\"63.623047\" xlink:href=\"#DejaVuSans-46\"/>\r\n       <use x=\"95.410156\" xlink:href=\"#DejaVuSans-48\"/>\r\n      </g>\r\n     </g>\r\n    </g>\r\n   </g>\r\n   <g id=\"matplotlib.axis_4\">\r\n    <g id=\"ytick_7\">\r\n     <g id=\"line2d_16\">\r\n      <g>\r\n       <use style=\"stroke:#000000;stroke-width:0.8;\" x=\"209.543182\" xlink:href=\"#m5ee31619a4\" y=\"228.439219\"/>\r\n      </g>\r\n     </g>\r\n     <g id=\"text_16\">\r\n      <!-- 0.0 -->\r\n      <g transform=\"translate(186.640057 232.238437)scale(0.1 -0.1)\">\r\n       <use xlink:href=\"#DejaVuSans-48\"/>\r\n       <use x=\"63.623047\" xlink:href=\"#DejaVuSans-46\"/>\r\n       <use x=\"95.410156\" xlink:href=\"#DejaVuSans-48\"/>\r\n      </g>\r\n     </g>\r\n    </g>\r\n    <g id=\"ytick_8\">\r\n     <g id=\"line2d_17\">\r\n      <g>\r\n       <use style=\"stroke:#000000;stroke-width:0.8;\" x=\"209.543182\" xlink:href=\"#m5ee31619a4\" y=\"184.951219\"/>\r\n      </g>\r\n     </g>\r\n     <g id=\"text_17\">\r\n      <!-- 0.2 -->\r\n      <g transform=\"translate(186.640057 188.750437)scale(0.1 -0.1)\">\r\n       <use xlink:href=\"#DejaVuSans-48\"/>\r\n       <use x=\"63.623047\" xlink:href=\"#DejaVuSans-46\"/>\r\n       <use x=\"95.410156\" xlink:href=\"#DejaVuSans-50\"/>\r\n      </g>\r\n     </g>\r\n    </g>\r\n    <g id=\"ytick_9\">\r\n     <g id=\"line2d_18\">\r\n      <g>\r\n       <use style=\"stroke:#000000;stroke-width:0.8;\" x=\"209.543182\" xlink:href=\"#m5ee31619a4\" y=\"141.463219\"/>\r\n      </g>\r\n     </g>\r\n     <g id=\"text_18\">\r\n      <!-- 0.4 -->\r\n      <g transform=\"translate(186.640057 145.262437)scale(0.1 -0.1)\">\r\n       <use xlink:href=\"#DejaVuSans-48\"/>\r\n       <use x=\"63.623047\" xlink:href=\"#DejaVuSans-46\"/>\r\n       <use x=\"95.410156\" xlink:href=\"#DejaVuSans-52\"/>\r\n      </g>\r\n     </g>\r\n    </g>\r\n    <g id=\"ytick_10\">\r\n     <g id=\"line2d_19\">\r\n      <g>\r\n       <use style=\"stroke:#000000;stroke-width:0.8;\" x=\"209.543182\" xlink:href=\"#m5ee31619a4\" y=\"97.975219\"/>\r\n      </g>\r\n     </g>\r\n     <g id=\"text_19\">\r\n      <!-- 0.6 -->\r\n      <g transform=\"translate(186.640057 101.774437)scale(0.1 -0.1)\">\r\n       <use xlink:href=\"#DejaVuSans-48\"/>\r\n       <use x=\"63.623047\" xlink:href=\"#DejaVuSans-46\"/>\r\n       <use x=\"95.410156\" xlink:href=\"#DejaVuSans-54\"/>\r\n      </g>\r\n     </g>\r\n    </g>\r\n    <g id=\"ytick_11\">\r\n     <g id=\"line2d_20\">\r\n      <g>\r\n       <use style=\"stroke:#000000;stroke-width:0.8;\" x=\"209.543182\" xlink:href=\"#m5ee31619a4\" y=\"54.487219\"/>\r\n      </g>\r\n     </g>\r\n     <g id=\"text_20\">\r\n      <!-- 0.8 -->\r\n      <g transform=\"translate(186.640057 58.286437)scale(0.1 -0.1)\">\r\n       <use xlink:href=\"#DejaVuSans-48\"/>\r\n       <use x=\"63.623047\" xlink:href=\"#DejaVuSans-46\"/>\r\n       <use x=\"95.410156\" xlink:href=\"#DejaVuSans-56\"/>\r\n      </g>\r\n     </g>\r\n    </g>\r\n    <g id=\"ytick_12\">\r\n     <g id=\"line2d_21\">\r\n      <g>\r\n       <use style=\"stroke:#000000;stroke-width:0.8;\" x=\"209.543182\" xlink:href=\"#m5ee31619a4\" y=\"10.999219\"/>\r\n      </g>\r\n     </g>\r\n     <g id=\"text_21\">\r\n      <!-- 1.0 -->\r\n      <g transform=\"translate(186.640057 14.798437)scale(0.1 -0.1)\">\r\n       <use xlink:href=\"#DejaVuSans-49\"/>\r\n       <use x=\"63.623047\" xlink:href=\"#DejaVuSans-46\"/>\r\n       <use x=\"95.410156\" xlink:href=\"#DejaVuSans-48\"/>\r\n      </g>\r\n     </g>\r\n    </g>\r\n   </g>\r\n   <g id=\"patch_8\">\r\n    <path d=\"M 209.543182 228.439219 \r\nL 209.543182 10.999219 \r\n\" style=\"fill:none;stroke:#000000;stroke-linecap:square;stroke-linejoin:miter;stroke-width:0.8;\"/>\r\n   </g>\r\n   <g id=\"patch_9\">\r\n    <path d=\"M 361.725 228.439219 \r\nL 361.725 10.999219 \r\n\" style=\"fill:none;stroke:#000000;stroke-linecap:square;stroke-linejoin:miter;stroke-width:0.8;\"/>\r\n   </g>\r\n   <g id=\"patch_10\">\r\n    <path d=\"M 209.543182 228.439219 \r\nL 361.725 228.439219 \r\n\" style=\"fill:none;stroke:#000000;stroke-linecap:square;stroke-linejoin:miter;stroke-width:0.8;\"/>\r\n   </g>\r\n   <g id=\"patch_11\">\r\n    <path d=\"M 209.543182 10.999219 \r\nL 361.725 10.999219 \r\n\" style=\"fill:none;stroke:#000000;stroke-linecap:square;stroke-linejoin:miter;stroke-width:0.8;\"/>\r\n   </g>\r\n  </g>\r\n </g>\r\n <defs>\r\n  <clipPath id=\"p4443f4d7c5\">\r\n   <rect height=\"152.181818\" width=\"152.181818\" x=\"26.925\" y=\"43.62831\"/>\r\n  </clipPath>\r\n </defs>\r\n</svg>\r\n",
      "image/png": "[encoded data removed]"
     },
     "metadata": {
      "needs_background": "light"
     }
    }
   ],
   "source": [
    "fig, ax = plt.subplots(1,2)\n",
    "ax[0].imshow(test1.reshape((30,30)), cmap='gray')\n",
    "# ax[1].imshow(test2.reshape((30,30)), cmap='gray')\n",
    "plt.show()"
   ]
  },
  {
   "cell_type": "code",
   "execution_count": 42,
   "metadata": {},
   "outputs": [
    {
     "output_type": "display_data",
     "data": {
      "text/plain": "<Figure size 432x288 with 2 Axes>",
      "image/svg+xml": "<?xml version=\"1.0\" encoding=\"utf-8\" standalone=\"no\"?>\r\n<!DOCTYPE svg PUBLIC \"-//W3C//DTD SVG 1.1//EN\"\r\n  \"http://www.w3.org/Graphics/SVG/1.1/DTD/svg11.dtd\">\r\n<!-- Created with matplotlib (https://matplotlib.org/) -->\r\n<svg height=\"184.522798pt\" version=\"1.1\" viewBox=\"0 0 368.925 184.522798\" width=\"368.925pt\" xmlns=\"http://www.w3.org/2000/svg\" xmlns:xlink=\"http://www.w3.org/1999/xlink\">\r\n <defs>\r\n  <style type=\"text/css\">\r\n*{stroke-linecap:butt;stroke-linejoin:round;}\r\n  </style>\r\n </defs>\r\n <g id=\"figure_1\">\r\n  <g id=\"patch_1\">\r\n   <path d=\"M -0 184.522798 \r\nL 368.925 184.522798 \r\nL 368.925 0 \r\nL -0 0 \r\nz\r\n\" style=\"fill:none;\"/>\r\n  </g>\r\n  <g id=\"axes_1\">\r\n   <g id=\"patch_2\">\r\n    <path d=\"M 26.925 160.644673 \r\nL 179.106818 160.644673 \r\nL 179.106818 8.462855 \r\nL 26.925 8.462855 \r\nz\r\n\" style=\"fill:#ffffff;\"/>\r\n   </g>\r\n   <g clip-path=\"url(#p1dbfe3d683)\">\r\n    <image height=\"153\" id=\"image38bb9ac85f\" transform=\"scale(1 -1)translate(0 -153)\" width=\"153\" x=\"26.925\" xlink:href=\"data:image/png;base64,\r\niVBORw0KGgoAAAANSUhEUgAAAJkAAACZCAYAAAA8XJi6AAAABHNCSVQICAgIfAhkiAAAAmZJREFUeJzt3W1Og0AUQFEw3f+W6wIckqlw+dBzfmtKzM3LPNriuizLe4HQ19UXwN8nMnIiIycyciIjJzJyIiMnMnIiIycyciIjJzJyIiMnMnIiIycyciIjJzJyIiP3uvoCZrzfP7+GsK7rBVfCb5hk5ERGTmTkREZOZOQu3S5tjf+DSUZOZORERk5k5KYP/qND+sgnB/fRz86+Ds9hkpETGTmRkRMZuXUZPDPWnXiOZJKRExk5kZETGbn1veMW+92WgT0Ly953NCxL20wyciIjJzJyIiP38nGbz2z9bRzyt5lk5ERGTmTkREZu+Bn/Jxxi77acuOO/zSQjJzJyIiMnMnLDg//dDrFXXY93Q45hkpETGTmRkRMZuddTD7JnLAN3W4CeyiQjJzJyIiMnMnK3+6jP7GH7jIXFIf8YJhk5kZETGTmRkbv0cZ57nqRT/F+BmdewDHzOJCMnMnIiIycyciIjN3xm7FkblO3tfzDJyImMnMjIiYzc9NtKw1++cEGYZZG4nklGTmTkREZOZOSGXyQ5y9F3/B3y78kkIycyciIjJzJy098gn73r/snd+dnX8ezWZzPJyImMnMjIiYzcrjv+Zx2+j14GvDNwLpOMnMjIiYycyMgNP+M/a+9B++jFwYH+nkwyciIjJzJyIiO36+APM0wyciIjJzJyIiMnMnIiIycyciIjJzJyIiMnMnIiIycyciIjJzJyIiMnMnIiIycyciIjJzJyIiMnMnIiIycyciIjJzJyIiMnMnIiIycyciIjJzJyIiMnMnIiIycyciIjJzJyIiMnMnIiIycyciIjJzJy3xorfjZU7wkRAAAAAElFTkSuQmCC\" y=\"-7.644673\"/>\r\n   </g>\r\n   <g id=\"matplotlib.axis_1\">\r\n    <g id=\"xtick_1\">\r\n     <g id=\"line2d_1\">\r\n      <defs>\r\n       <path d=\"M 0 0 \r\nL 0 3.5 \r\n\" id=\"meaf64ccccb\" style=\"stroke:#000000;stroke-width:0.8;\"/>\r\n      </defs>\r\n      <g>\r\n       <use style=\"stroke:#000000;stroke-width:0.8;\" x=\"29.461364\" xlink:href=\"#meaf64ccccb\" y=\"160.644673\"/>\r\n      </g>\r\n     </g>\r\n     <g id=\"text_1\">\r\n      <!-- 0 -->\r\n      <defs>\r\n       <path d=\"M 31.78125 66.40625 \r\nQ 24.171875 66.40625 20.328125 58.90625 \r\nQ 16.5 51.421875 16.5 36.375 \r\nQ 16.5 21.390625 20.328125 13.890625 \r\nQ 24.171875 6.390625 31.78125 6.390625 \r\nQ 39.453125 6.390625 43.28125 13.890625 \r\nQ 47.125 21.390625 47.125 36.375 \r\nQ 47.125 51.421875 43.28125 58.90625 \r\nQ 39.453125 66.40625 31.78125 66.40625 \r\nz\r\nM 31.78125 74.21875 \r\nQ 44.046875 74.21875 50.515625 64.515625 \r\nQ 56.984375 54.828125 56.984375 36.375 \r\nQ 56.984375 17.96875 50.515625 8.265625 \r\nQ 44.046875 -1.421875 31.78125 -1.421875 \r\nQ 19.53125 -1.421875 13.0625 8.265625 \r\nQ 6.59375 17.96875 6.59375 36.375 \r\nQ 6.59375 54.828125 13.0625 64.515625 \r\nQ 19.53125 74.21875 31.78125 74.21875 \r\nz\r\n\" id=\"DejaVuSans-48\"/>\r\n      </defs>\r\n      <g transform=\"translate(26.280114 175.243111)scale(0.1 -0.1)\">\r\n       <use xlink:href=\"#DejaVuSans-48\"/>\r\n      </g>\r\n     </g>\r\n    </g>\r\n    <g id=\"xtick_2\">\r\n     <g id=\"line2d_2\">\r\n      <g>\r\n       <use style=\"stroke:#000000;stroke-width:0.8;\" x=\"80.188636\" xlink:href=\"#meaf64ccccb\" y=\"160.644673\"/>\r\n      </g>\r\n     </g>\r\n     <g id=\"text_2\">\r\n      <!-- 10 -->\r\n      <defs>\r\n       <path d=\"M 12.40625 8.296875 \r\nL 28.515625 8.296875 \r\nL 28.515625 63.921875 \r\nL 10.984375 60.40625 \r\nL 10.984375 69.390625 \r\nL 28.421875 72.90625 \r\nL 38.28125 72.90625 \r\nL 38.28125 8.296875 \r\nL 54.390625 8.296875 \r\nL 54.390625 0 \r\nL 12.40625 0 \r\nz\r\n\" id=\"DejaVuSans-49\"/>\r\n      </defs>\r\n      <g transform=\"translate(73.826136 175.243111)scale(0.1 -0.1)\">\r\n       <use xlink:href=\"#DejaVuSans-49\"/>\r\n       <use x=\"63.623047\" xlink:href=\"#DejaVuSans-48\"/>\r\n      </g>\r\n     </g>\r\n    </g>\r\n    <g id=\"xtick_3\">\r\n     <g id=\"line2d_3\">\r\n      <g>\r\n       <use style=\"stroke:#000000;stroke-width:0.8;\" x=\"130.915909\" xlink:href=\"#meaf64ccccb\" y=\"160.644673\"/>\r\n      </g>\r\n     </g>\r\n     <g id=\"text_3\">\r\n      <!-- 20 -->\r\n      <defs>\r\n       <path d=\"M 19.1875 8.296875 \r\nL 53.609375 8.296875 \r\nL 53.609375 0 \r\nL 7.328125 0 \r\nL 7.328125 8.296875 \r\nQ 12.9375 14.109375 22.625 23.890625 \r\nQ 32.328125 33.6875 34.8125 36.53125 \r\nQ 39.546875 41.84375 41.421875 45.53125 \r\nQ 43.3125 49.21875 43.3125 52.78125 \r\nQ 43.3125 58.59375 39.234375 62.25 \r\nQ 35.15625 65.921875 28.609375 65.921875 \r\nQ 23.96875 65.921875 18.8125 64.3125 \r\nQ 13.671875 62.703125 7.8125 59.421875 \r\nL 7.8125 69.390625 \r\nQ 13.765625 71.78125 18.9375 73 \r\nQ 24.125 74.21875 28.421875 74.21875 \r\nQ 39.75 74.21875 46.484375 68.546875 \r\nQ 53.21875 62.890625 53.21875 53.421875 \r\nQ 53.21875 48.921875 51.53125 44.890625 \r\nQ 49.859375 40.875 45.40625 35.40625 \r\nQ 44.1875 33.984375 37.640625 27.21875 \r\nQ 31.109375 20.453125 19.1875 8.296875 \r\nz\r\n\" id=\"DejaVuSans-50\"/>\r\n      </defs>\r\n      <g transform=\"translate(124.553409 175.243111)scale(0.1 -0.1)\">\r\n       <use xlink:href=\"#DejaVuSans-50\"/>\r\n       <use x=\"63.623047\" xlink:href=\"#DejaVuSans-48\"/>\r\n      </g>\r\n     </g>\r\n    </g>\r\n   </g>\r\n   <g id=\"matplotlib.axis_2\">\r\n    <g id=\"ytick_1\">\r\n     <g id=\"line2d_4\">\r\n      <defs>\r\n       <path d=\"M 0 0 \r\nL -3.5 0 \r\n\" id=\"mec5ef01846\" style=\"stroke:#000000;stroke-width:0.8;\"/>\r\n      </defs>\r\n      <g>\r\n       <use style=\"stroke:#000000;stroke-width:0.8;\" x=\"26.925\" xlink:href=\"#mec5ef01846\" y=\"10.999219\"/>\r\n      </g>\r\n     </g>\r\n     <g id=\"text_4\">\r\n      <!-- 0 -->\r\n      <g transform=\"translate(13.5625 14.798437)scale(0.1 -0.1)\">\r\n       <use xlink:href=\"#DejaVuSans-48\"/>\r\n      </g>\r\n     </g>\r\n    </g>\r\n    <g id=\"ytick_2\">\r\n     <g id=\"line2d_5\">\r\n      <g>\r\n       <use style=\"stroke:#000000;stroke-width:0.8;\" x=\"26.925\" xlink:href=\"#mec5ef01846\" y=\"36.362855\"/>\r\n      </g>\r\n     </g>\r\n     <g id=\"text_5\">\r\n      <!-- 5 -->\r\n      <defs>\r\n       <path d=\"M 10.796875 72.90625 \r\nL 49.515625 72.90625 \r\nL 49.515625 64.59375 \r\nL 19.828125 64.59375 \r\nL 19.828125 46.734375 \r\nQ 21.96875 47.46875 24.109375 47.828125 \r\nQ 26.265625 48.1875 28.421875 48.1875 \r\nQ 40.625 48.1875 47.75 41.5 \r\nQ 54.890625 34.8125 54.890625 23.390625 \r\nQ 54.890625 11.625 47.5625 5.09375 \r\nQ 40.234375 -1.421875 26.90625 -1.421875 \r\nQ 22.3125 -1.421875 17.546875 -0.640625 \r\nQ 12.796875 0.140625 7.71875 1.703125 \r\nL 7.71875 11.625 \r\nQ 12.109375 9.234375 16.796875 8.0625 \r\nQ 21.484375 6.890625 26.703125 6.890625 \r\nQ 35.15625 6.890625 40.078125 11.328125 \r\nQ 45.015625 15.765625 45.015625 23.390625 \r\nQ 45.015625 31 40.078125 35.4375 \r\nQ 35.15625 39.890625 26.703125 39.890625 \r\nQ 22.75 39.890625 18.8125 39.015625 \r\nQ 14.890625 38.140625 10.796875 36.28125 \r\nz\r\n\" id=\"DejaVuSans-53\"/>\r\n      </defs>\r\n      <g transform=\"translate(13.5625 40.162074)scale(0.1 -0.1)\">\r\n       <use xlink:href=\"#DejaVuSans-53\"/>\r\n      </g>\r\n     </g>\r\n    </g>\r\n    <g id=\"ytick_3\">\r\n     <g id=\"line2d_6\">\r\n      <g>\r\n       <use style=\"stroke:#000000;stroke-width:0.8;\" x=\"26.925\" xlink:href=\"#mec5ef01846\" y=\"61.726491\"/>\r\n      </g>\r\n     </g>\r\n     <g id=\"text_6\">\r\n      <!-- 10 -->\r\n      <g transform=\"translate(7.2 65.52571)scale(0.1 -0.1)\">\r\n       <use xlink:href=\"#DejaVuSans-49\"/>\r\n       <use x=\"63.623047\" xlink:href=\"#DejaVuSans-48\"/>\r\n      </g>\r\n     </g>\r\n    </g>\r\n    <g id=\"ytick_4\">\r\n     <g id=\"line2d_7\">\r\n      <g>\r\n       <use style=\"stroke:#000000;stroke-width:0.8;\" x=\"26.925\" xlink:href=\"#mec5ef01846\" y=\"87.090128\"/>\r\n      </g>\r\n     </g>\r\n     <g id=\"text_7\">\r\n      <!-- 15 -->\r\n      <g transform=\"translate(7.2 90.889347)scale(0.1 -0.1)\">\r\n       <use xlink:href=\"#DejaVuSans-49\"/>\r\n       <use x=\"63.623047\" xlink:href=\"#DejaVuSans-53\"/>\r\n      </g>\r\n     </g>\r\n    </g>\r\n    <g id=\"ytick_5\">\r\n     <g id=\"line2d_8\">\r\n      <g>\r\n       <use style=\"stroke:#000000;stroke-width:0.8;\" x=\"26.925\" xlink:href=\"#mec5ef01846\" y=\"112.453764\"/>\r\n      </g>\r\n     </g>\r\n     <g id=\"text_8\">\r\n      <!-- 20 -->\r\n      <g transform=\"translate(7.2 116.252983)scale(0.1 -0.1)\">\r\n       <use xlink:href=\"#DejaVuSans-50\"/>\r\n       <use x=\"63.623047\" xlink:href=\"#DejaVuSans-48\"/>\r\n      </g>\r\n     </g>\r\n    </g>\r\n    <g id=\"ytick_6\">\r\n     <g id=\"line2d_9\">\r\n      <g>\r\n       <use style=\"stroke:#000000;stroke-width:0.8;\" x=\"26.925\" xlink:href=\"#mec5ef01846\" y=\"137.817401\"/>\r\n      </g>\r\n     </g>\r\n     <g id=\"text_9\">\r\n      <!-- 25 -->\r\n      <g transform=\"translate(7.2 141.616619)scale(0.1 -0.1)\">\r\n       <use xlink:href=\"#DejaVuSans-50\"/>\r\n       <use x=\"63.623047\" xlink:href=\"#DejaVuSans-53\"/>\r\n      </g>\r\n     </g>\r\n    </g>\r\n   </g>\r\n   <g id=\"patch_3\">\r\n    <path d=\"M 26.925 160.644673 \r\nL 26.925 8.462855 \r\n\" style=\"fill:none;stroke:#000000;stroke-linecap:square;stroke-linejoin:miter;stroke-width:0.8;\"/>\r\n   </g>\r\n   <g id=\"patch_4\">\r\n    <path d=\"M 179.106818 160.644673 \r\nL 179.106818 8.462855 \r\n\" style=\"fill:none;stroke:#000000;stroke-linecap:square;stroke-linejoin:miter;stroke-width:0.8;\"/>\r\n   </g>\r\n   <g id=\"patch_5\">\r\n    <path d=\"M 26.925 160.644673 \r\nL 179.106818 160.644673 \r\n\" style=\"fill:none;stroke:#000000;stroke-linecap:square;stroke-linejoin:miter;stroke-width:0.8;\"/>\r\n   </g>\r\n   <g id=\"patch_6\">\r\n    <path d=\"M 26.925 8.462855 \r\nL 179.106818 8.462855 \r\n\" style=\"fill:none;stroke:#000000;stroke-linecap:square;stroke-linejoin:miter;stroke-width:0.8;\"/>\r\n   </g>\r\n  </g>\r\n  <g id=\"axes_2\">\r\n   <g id=\"patch_7\">\r\n    <path d=\"M 209.543182 160.644673 \r\nL 361.725 160.644673 \r\nL 361.725 8.462855 \r\nL 209.543182 8.462855 \r\nz\r\n\" style=\"fill:#ffffff;\"/>\r\n   </g>\r\n   <g clip-path=\"url(#p0ab02f4404)\">\r\n    <image height=\"153\" id=\"image1e30ffaf0e\" transform=\"scale(1 -1)translate(0 -153)\" width=\"153\" x=\"209.543182\" xlink:href=\"data:image/png;base64,\r\niVBORw0KGgoAAAANSUhEUgAAAJkAAACZCAYAAAA8XJi6AAAABHNCSVQICAgIfAhkiAAAAo1JREFUeJzt3cFOhDAUQFEw/v8vj3uDSU25UMg5e3Wc3LyUoWX2bds+G4S+7n4BvJ/IyImMnMjIiYycyMiJjJzIyImMnMjIiYycyMiJjJzIyH3f/QJ++3zGdh7t+x6/Es5ikpETGTmRkRMZueUW/kcL+tGLAdZkkpETGTmRkRMZOZGR27cbT5CffdXoVtOaTDJyIiMnMnIiI3e48L9zT5f9ZO9jkpETGTmRkRMZue+jhfbonq7Rn501+npG//bM/+yC4/9MMnIiIycyciIjt38GP2JfbcE7c2egOJiy2vuzEpOMnMjIiYycyMgtd4J81Gonzd0d+JtJRk5k5ERGTmTkhvf4r7aIPfsswMz2n/9Y7X28gklGTmTkREZOZOQeu9XnyGqHkp/wnl3BJCMnMnIiIycycq//xH/Gav/zU5lk5ERGTmTkREZu+Kk+hau214zwVJ+OSUZOZORERk5k5G493Du6iD77YmC1g8FvZ5KRExk5kZETGTmRkTu8unzq7ZQrvuTir6vQJ7w/dzHJyImMnMjIiYzc8Anywx++cbHsa6SfwyQjJzJyIiMnMnJT+8mu2oNlkf9sJhk5kZETGTmRkVvuW+JmTpU/dYvS25lk5ERGTmTkREZu+Jmxw7/wxtPZFvlrMsnIiYycyMiJjNzhwn/UnY9b8ozX5zDJyImMnMjIiYzc1ML/yOzFwMwdA4v8NZlk5ERGTmTkREbu9IX/LJ/av49JRk5k5ERGTmTkllv48z4mGTmRkRMZOZGRExk5kZETGTmRkRMZOZGRExk5kZETGTmRkRMZOZGRExk5kZETGTmRkRMZOZGRExk5kZETGTmRkRMZOZGRExk5kZETGTmRkRMZOZGRExm5H2F9pCjlAja7AAAAAElFTkSuQmCC\" y=\"-7.644673\"/>\r\n   </g>\r\n   <g id=\"matplotlib.axis_3\">\r\n    <g id=\"xtick_4\">\r\n     <g id=\"line2d_10\">\r\n      <g>\r\n       <use style=\"stroke:#000000;stroke-width:0.8;\" x=\"212.079545\" xlink:href=\"#meaf64ccccb\" y=\"160.644673\"/>\r\n      </g>\r\n     </g>\r\n     <g id=\"text_10\">\r\n      <!-- 0 -->\r\n      <g transform=\"translate(208.898295 175.243111)scale(0.1 -0.1)\">\r\n       <use xlink:href=\"#DejaVuSans-48\"/>\r\n      </g>\r\n     </g>\r\n    </g>\r\n    <g id=\"xtick_5\">\r\n     <g id=\"line2d_11\">\r\n      <g>\r\n       <use style=\"stroke:#000000;stroke-width:0.8;\" x=\"262.806818\" xlink:href=\"#meaf64ccccb\" y=\"160.644673\"/>\r\n      </g>\r\n     </g>\r\n     <g id=\"text_11\">\r\n      <!-- 10 -->\r\n      <g transform=\"translate(256.444318 175.243111)scale(0.1 -0.1)\">\r\n       <use xlink:href=\"#DejaVuSans-49\"/>\r\n       <use x=\"63.623047\" xlink:href=\"#DejaVuSans-48\"/>\r\n      </g>\r\n     </g>\r\n    </g>\r\n    <g id=\"xtick_6\">\r\n     <g id=\"line2d_12\">\r\n      <g>\r\n       <use style=\"stroke:#000000;stroke-width:0.8;\" x=\"313.534091\" xlink:href=\"#meaf64ccccb\" y=\"160.644673\"/>\r\n      </g>\r\n     </g>\r\n     <g id=\"text_12\">\r\n      <!-- 20 -->\r\n      <g transform=\"translate(307.171591 175.243111)scale(0.1 -0.1)\">\r\n       <use xlink:href=\"#DejaVuSans-50\"/>\r\n       <use x=\"63.623047\" xlink:href=\"#DejaVuSans-48\"/>\r\n      </g>\r\n     </g>\r\n    </g>\r\n   </g>\r\n   <g id=\"matplotlib.axis_4\">\r\n    <g id=\"ytick_7\">\r\n     <g id=\"line2d_13\">\r\n      <g>\r\n       <use style=\"stroke:#000000;stroke-width:0.8;\" x=\"209.543182\" xlink:href=\"#mec5ef01846\" y=\"10.999219\"/>\r\n      </g>\r\n     </g>\r\n     <g id=\"text_13\">\r\n      <!-- 0 -->\r\n      <g transform=\"translate(196.180682 14.798437)scale(0.1 -0.1)\">\r\n       <use xlink:href=\"#DejaVuSans-48\"/>\r\n      </g>\r\n     </g>\r\n    </g>\r\n    <g id=\"ytick_8\">\r\n     <g id=\"line2d_14\">\r\n      <g>\r\n       <use style=\"stroke:#000000;stroke-width:0.8;\" x=\"209.543182\" xlink:href=\"#mec5ef01846\" y=\"36.362855\"/>\r\n      </g>\r\n     </g>\r\n     <g id=\"text_14\">\r\n      <!-- 5 -->\r\n      <g transform=\"translate(196.180682 40.162074)scale(0.1 -0.1)\">\r\n       <use xlink:href=\"#DejaVuSans-53\"/>\r\n      </g>\r\n     </g>\r\n    </g>\r\n    <g id=\"ytick_9\">\r\n     <g id=\"line2d_15\">\r\n      <g>\r\n       <use style=\"stroke:#000000;stroke-width:0.8;\" x=\"209.543182\" xlink:href=\"#mec5ef01846\" y=\"61.726491\"/>\r\n      </g>\r\n     </g>\r\n     <g id=\"text_15\">\r\n      <!-- 10 -->\r\n      <g transform=\"translate(189.818182 65.52571)scale(0.1 -0.1)\">\r\n       <use xlink:href=\"#DejaVuSans-49\"/>\r\n       <use x=\"63.623047\" xlink:href=\"#DejaVuSans-48\"/>\r\n      </g>\r\n     </g>\r\n    </g>\r\n    <g id=\"ytick_10\">\r\n     <g id=\"line2d_16\">\r\n      <g>\r\n       <use style=\"stroke:#000000;stroke-width:0.8;\" x=\"209.543182\" xlink:href=\"#mec5ef01846\" y=\"87.090128\"/>\r\n      </g>\r\n     </g>\r\n     <g id=\"text_16\">\r\n      <!-- 15 -->\r\n      <g transform=\"translate(189.818182 90.889347)scale(0.1 -0.1)\">\r\n       <use xlink:href=\"#DejaVuSans-49\"/>\r\n       <use x=\"63.623047\" xlink:href=\"#DejaVuSans-53\"/>\r\n      </g>\r\n     </g>\r\n    </g>\r\n    <g id=\"ytick_11\">\r\n     <g id=\"line2d_17\">\r\n      <g>\r\n       <use style=\"stroke:#000000;stroke-width:0.8;\" x=\"209.543182\" xlink:href=\"#mec5ef01846\" y=\"112.453764\"/>\r\n      </g>\r\n     </g>\r\n     <g id=\"text_17\">\r\n      <!-- 20 -->\r\n      <g transform=\"translate(189.818182 116.252983)scale(0.1 -0.1)\">\r\n       <use xlink:href=\"#DejaVuSans-50\"/>\r\n       <use x=\"63.623047\" xlink:href=\"#DejaVuSans-48\"/>\r\n      </g>\r\n     </g>\r\n    </g>\r\n    <g id=\"ytick_12\">\r\n     <g id=\"line2d_18\">\r\n      <g>\r\n       <use style=\"stroke:#000000;stroke-width:0.8;\" x=\"209.543182\" xlink:href=\"#mec5ef01846\" y=\"137.817401\"/>\r\n      </g>\r\n     </g>\r\n     <g id=\"text_18\">\r\n      <!-- 25 -->\r\n      <g transform=\"translate(189.818182 141.616619)scale(0.1 -0.1)\">\r\n       <use xlink:href=\"#DejaVuSans-50\"/>\r\n       <use x=\"63.623047\" xlink:href=\"#DejaVuSans-53\"/>\r\n      </g>\r\n     </g>\r\n    </g>\r\n   </g>\r\n   <g id=\"patch_8\">\r\n    <path d=\"M 209.543182 160.644673 \r\nL 209.543182 8.462855 \r\n\" style=\"fill:none;stroke:#000000;stroke-linecap:square;stroke-linejoin:miter;stroke-width:0.8;\"/>\r\n   </g>\r\n   <g id=\"patch_9\">\r\n    <path d=\"M 361.725 160.644673 \r\nL 361.725 8.462855 \r\n\" style=\"fill:none;stroke:#000000;stroke-linecap:square;stroke-linejoin:miter;stroke-width:0.8;\"/>\r\n   </g>\r\n   <g id=\"patch_10\">\r\n    <path d=\"M 209.543182 160.644673 \r\nL 361.725 160.644673 \r\n\" style=\"fill:none;stroke:#000000;stroke-linecap:square;stroke-linejoin:miter;stroke-width:0.8;\"/>\r\n   </g>\r\n   <g id=\"patch_11\">\r\n    <path d=\"M 209.543182 8.462855 \r\nL 361.725 8.462855 \r\n\" style=\"fill:none;stroke:#000000;stroke-linecap:square;stroke-linejoin:miter;stroke-width:0.8;\"/>\r\n   </g>\r\n  </g>\r\n </g>\r\n <defs>\r\n  <clipPath id=\"p1dbfe3d683\">\r\n   <rect height=\"152.181818\" width=\"152.181818\" x=\"26.925\" y=\"8.462855\"/>\r\n  </clipPath>\r\n  <clipPath id=\"p0ab02f4404\">\r\n   <rect height=\"152.181818\" width=\"152.181818\" x=\"209.543182\" y=\"8.462855\"/>\r\n  </clipPath>\r\n </defs>\r\n</svg>\r\n",
      "image/png": "[encoded data removed]"
     },
     "metadata": {
      "needs_background": "light"
     }
    }
   ],
   "source": [
    "fig, ax = plt.subplots(1,2)\n",
    "ax[0].imshow(target1[0], cmap='gray')\n",
    "ax[1].imshow(target1[1], cmap='gray')\n",
    "plt.show()"
   ]
  },
  {
   "cell_type": "code",
   "execution_count": 63,
   "metadata": {},
   "outputs": [],
   "source": [
    "x = train_data['observed']\n",
    "y = train_data['target']\n",
    "f = train_data['land_cover']\n",
    "f = np.nan_to_num(f)"
   ]
  },
  {
   "cell_type": "code",
   "execution_count": 57,
   "metadata": {},
   "outputs": [
    {
     "output_type": "execute_result",
     "data": {
      "text/plain": "array([[[-1.    , -1.    , -1.    , ..., -1.    , -0.0656, -1.    ],\n        [-1.    , -1.    , -1.    , ..., 29.8608, 41.8096, 34.264 ],\n        [-1.    , -1.    , -1.    , ..., 27.5792, 59.6592, 58.328 ],\n        ...,\n        [ 0.    ,  0.    ,  0.    , ...,  0.    ,  0.    ,  0.    ],\n        [ 0.    ,  0.    ,  0.    , ...,  0.    ,  0.    ,  0.    ],\n        [ 0.    ,  0.    ,  0.    , ...,  0.    ,  0.    ,  0.    ]],\n\n       [[ 0.    ,  0.    ,  0.    , ...,  0.    ,  0.    ,  0.    ],\n        [ 0.    ,  0.    ,  0.    , ...,  0.    ,  0.    ,  0.    ],\n        [ 0.    ,  0.    ,  0.    , ...,  0.    ,  0.    ,  0.    ],\n        ...,\n        [ 0.    ,  0.    ,  0.    , ...,  0.    ,  0.    ,  0.    ],\n        [ 0.    ,  0.    ,  0.    , ...,  0.    ,  0.    ,  0.    ],\n        [ 0.    ,  0.    ,  0.    , ...,  0.    ,  0.    ,  0.    ]],\n\n       [[ 0.    ,  0.    ,  0.    , ...,  0.    ,  0.    ,  0.    ],\n        [ 0.    ,  0.    ,  0.    , ...,  0.    ,  0.    ,  0.    ],\n        [ 0.    ,  0.    ,  0.    , ...,  0.    ,  0.    ,  0.    ],\n        ...,\n        [ 0.    ,  0.    ,  0.    , ...,  0.    ,  0.    ,  0.    ],\n        [ 0.    ,  0.    ,  0.    , ...,  0.    ,  0.    ,  0.    ],\n        [ 0.    ,  0.    ,  0.    , ...,  0.    ,  0.    ,  0.    ]],\n\n       ...,\n\n       [[ 0.    ,  0.    ,  0.    , ...,  0.    ,  0.    ,  0.    ],\n        [ 0.    ,  0.    ,  0.    , ...,  0.    ,  0.    ,  0.    ],\n        [ 0.    ,  0.    ,  0.    , ...,  0.    ,  0.    ,  0.    ],\n        ...,\n        [ 0.    ,  0.    ,  0.    , ...,  0.    ,  0.    ,  0.    ],\n        [ 0.    ,  0.    ,  0.    , ...,  0.    ,  0.    ,  0.    ],\n        [ 0.    ,  0.    ,  0.    , ...,  0.    ,  0.    ,  0.    ]],\n\n       [[ 0.    ,  0.    ,  0.    , ...,  0.    ,  0.    ,  0.    ],\n        [ 0.    ,  0.    ,  0.    , ...,  0.    ,  0.    ,  0.    ],\n        [ 0.    ,  0.    ,  0.    , ...,  0.    ,  0.    ,  0.    ],\n        ...,\n        [ 0.    ,  0.    ,  0.    , ...,  0.    ,  0.    ,  0.    ],\n        [ 0.    ,  0.    ,  0.    , ...,  0.    ,  0.    ,  0.    ],\n        [ 0.    ,  0.    ,  0.    , ...,  0.    ,  0.    ,  0.    ]],\n\n       [[ 0.2128,  0.1328,  0.1312, ...,  0.552 ,  0.6   ,  0.3088],\n        [ 0.1936,  0.1968,  0.2784, ...,  1.368 ,  1.4128,  1.4928],\n        [ 0.1184,  0.0736,  0.1984, ...,  1.4048,  1.9216,  1.7008],\n        ...,\n        [ 0.    ,  0.    ,  0.    , ...,  0.    ,  0.    ,  0.    ],\n        [ 0.    ,  0.    ,  0.    , ...,  0.    ,  0.    ,  0.    ],\n        [ 0.    ,  0.    ,  0.    , ...,  0.    ,  0.    ,  0.    ]]],\n      dtype=float32)"
     },
     "metadata": {},
     "execution_count": 57
    }
   ],
   "source": [
    "f[0]"
   ]
  },
  {
   "cell_type": "code",
   "execution_count": 64,
   "metadata": {},
   "outputs": [],
   "source": [
    "ytemp = np.zeros((10000, 1800))\n",
    "ytemp[:, :900] = y[:,0,...].reshape((10000,900))\n",
    "ytemp[:, 900:] = y[:,1,...].reshape((10000,900))"
   ]
  },
  {
   "cell_type": "code",
   "execution_count": 65,
   "metadata": {},
   "outputs": [
    {
     "output_type": "stream",
     "name": "stdout",
     "text": "<class 'numpy.ndarray'>\n"
    }
   ],
   "source": [
    "y = ytemp\n",
    "print(type(x))"
   ]
  },
  {
   "cell_type": "code",
   "execution_count": 9,
   "metadata": {},
   "outputs": [],
   "source": [
    "class WildFireDataset(torch.utils.data.Dataset):\n",
    "    def __init__(self, x, f, y):\n",
    "        self.x = x\n",
    "        self.y = y\n",
    "        self.f = f\n",
    "    \n",
    "    def __getitem__(self, ind):\n",
    "        return self.x[ind],self.f[ind], self.y[ind,:900]\n",
    "\n",
    "    def __len__(self):\n",
    "        return self.x.shape[0]"
   ]
  },
  {
   "cell_type": "code",
   "execution_count": 58,
   "metadata": {},
   "outputs": [
    {
     "output_type": "stream",
     "name": "stdout",
     "text": "[5100  614 5313 ... 6571  480  949]\n"
    }
   ],
   "source": [
    "split = np.arange(10000)\n",
    "np.random.shuffle(split)\n",
    "print(split)"
   ]
  },
  {
   "cell_type": "code",
   "execution_count": 72,
   "metadata": {},
   "outputs": [],
   "source": [
    "train_ind = split[:8000]\n",
    "valid_ind = split[8000:]"
   ]
  },
  {
   "cell_type": "code",
   "execution_count": 73,
   "metadata": {},
   "outputs": [],
   "source": [
    "train_sampler = torch.utils.data.sampler.SubsetRandomSampler(train_ind)\n",
    "valid_sampler = torch.utils.data.sampler.SubsetRandomSampler(valid_ind)"
   ]
  },
  {
   "cell_type": "code",
   "execution_count": 66,
   "metadata": {},
   "outputs": [],
   "source": [
    "dataset = WildFireDataset(x,f,y)"
   ]
  },
  {
   "cell_type": "code",
   "execution_count": 67,
   "metadata": {},
   "outputs": [],
   "source": [
    "train_loader = torch.utils.data.DataLoader(dataset, batch_size=16)"
   ]
  },
  {
   "cell_type": "code",
   "execution_count": 70,
   "metadata": {
    "tags": [
     "outputPrepend",
     "outputPrepend",
     "outputPrepend",
     "outputPrepend",
     "outputPrepend",
     "outputPrepend",
     "outputPrepend",
     "outputPrepend",
     "outputPrepend",
     "outputPrepend",
     "outputPrepend",
     "outputPrepend",
     "outputPrepend",
     "outputPrepend",
     "outputPrepend",
     "outputPrepend",
     "outputPrepend",
     "outputPrepend",
     "outputPrepend",
     "outputPrepend",
     "outputPrepend",
     "outputPrepend",
     "outputPrepend",
     "outputPrepend",
     "outputPrepend",
     "outputPrepend",
     "outputPrepend",
     "outputPrepend",
     "outputPrepend",
     "outputPrepend",
     "outputPrepend",
     "outputPrepend",
     "outputPrepend",
     "outputPrepend",
     "outputPrepend",
     "outputPrepend",
     "outputPrepend",
     "outputPrepend",
     "outputPrepend",
     "outputPrepend",
     "outputPrepend",
     "outputPrepend",
     "outputPrepend",
     "outputPrepend",
     "outputPrepend",
     "outputPrepend",
     "outputPrepend",
     "outputPrepend",
     "outputPrepend",
     "outputPrepend",
     "outputPrepend",
     "outputPrepend",
     "outputPrepend",
     "outputPrepend",
     "outputPrepend",
     "outputPrepend",
     "outputPrepend",
     "outputPrepend",
     "outputPrepend",
     "outputPrepend",
     "outputPrepend",
     "outputPrepend",
     "outputPrepend",
     "outputPrepend",
     "outputPrepend",
     "outputPrepend",
     "outputPrepend",
     "outputPrepend",
     "outputPrepend",
     "outputPrepend",
     "outputPrepend",
     "outputPrepend",
     "outputPrepend",
     "outputPrepend",
     "outputPrepend",
     "outputPrepend",
     "outputPrepend",
     "outputPrepend",
     "outputPrepend",
     "outputPrepend",
     "outputPrepend",
     "outputPrepend",
     "outputPrepend",
     "outputPrepend",
     "outputPrepend",
     "outputPrepend",
     "outputPrepend",
     "outputPrepend",
     "outputPrepend",
     "outputPrepend",
     "outputPrepend",
     "outputPrepend",
     "outputPrepend",
     "outputPrepend",
     "outputPrepend",
     "outputPrepend",
     "outputPrepend",
     "outputPrepend",
     "outputPrepend",
     "outputPrepend",
     "outputPrepend",
     "outputPrepend",
     "outputPrepend",
     "outputPrepend",
     "outputPrepend",
     "outputPrepend",
     "outputPrepend",
     "outputPrepend",
     "outputPrepend",
     "outputPrepend",
     "outputPrepend",
     "outputPrepend",
     "outputPrepend",
     "outputPrepend",
     "outputPrepend",
     "outputPrepend",
     "outputPrepend",
     "outputPrepend",
     "outputPrepend",
     "outputPrepend",
     "outputPrepend",
     "outputPrepend",
     "outputPrepend",
     "outputPrepend",
     "outputPrepend",
     "outputPrepend",
     "outputPrepend",
     "outputPrepend",
     "outputPrepend",
     "outputPrepend",
     "outputPrepend",
     "outputPrepend",
     "outputPrepend",
     "outputPrepend",
     "outputPrepend",
     "outputPrepend",
     "outputPrepend",
     "outputPrepend",
     "outputPrepend",
     "outputPrepend",
     "outputPrepend",
     "outputPrepend",
     "outputPrepend",
     "outputPrepend",
     "outputPrepend",
     "outputPrepend",
     "outputPrepend",
     "outputPrepend",
     "outputPrepend",
     "outputPrepend",
     "outputPrepend",
     "outputPrepend",
     "outputPrepend",
     "outputPrepend",
     "outputPrepend",
     "outputPrepend",
     "outputPrepend",
     "outputPrepend",
     "outputPrepend",
     "outputPrepend",
     "outputPrepend",
     "outputPrepend",
     "outputPrepend",
     "outputPrepend",
     "outputPrepend",
     "outputPrepend",
     "outputPrepend",
     "outputPrepend",
     "outputPrepend",
     "outputPrepend",
     "outputPrepend",
     "outputPrepend",
     "outputPrepend",
     "outputPrepend",
     "outputPrepend",
     "outputPrepend",
     "outputPrepend",
     "outputPrepend",
     "outputPrepend",
     "outputPrepend",
     "outputPrepend",
     "outputPrepend",
     "outputPrepend",
     "outputPrepend",
     "outputPrepend",
     "outputPrepend",
     "outputPrepend",
     "outputPrepend",
     "outputPrepend",
     "outputPrepend",
     "outputPrepend",
     "outputPrepend",
     "outputPrepend",
     "outputPrepend",
     "outputPrepend",
     "outputPrepend",
     "outputPrepend",
     "outputPrepend",
     "outputPrepend",
     "outputPrepend",
     "outputPrepend",
     "outputPrepend",
     "outputPrepend",
     "outputPrepend",
     "outputPrepend",
     "outputPrepend",
     "outputPrepend",
     "outputPrepend",
     "outputPrepend",
     "outputPrepend",
     "outputPrepend",
     "outputPrepend",
     "outputPrepend",
     "outputPrepend",
     "outputPrepend",
     "outputPrepend",
     "outputPrepend",
     "outputPrepend",
     "outputPrepend",
     "outputPrepend",
     "outputPrepend",
     "outputPrepend",
     "outputPrepend",
     "outputPrepend",
     "outputPrepend",
     "outputPrepend",
     "outputPrepend",
     "outputPrepend",
     "outputPrepend",
     "outputPrepend",
     "outputPrepend",
     "outputPrepend",
     "outputPrepend",
     "outputPrepend",
     "outputPrepend",
     "outputPrepend",
     "outputPrepend",
     "outputPrepend",
     "outputPrepend",
     "outputPrepend",
     "outputPrepend",
     "outputPrepend",
     "outputPrepend",
     "outputPrepend",
     "outputPrepend",
     "outputPrepend",
     "outputPrepend",
     "outputPrepend",
     "outputPrepend",
     "outputPrepend",
     "outputPrepend",
     "outputPrepend",
     "outputPrepend",
     "outputPrepend",
     "outputPrepend",
     "outputPrepend",
     "outputPrepend",
     "outputPrepend",
     "outputPrepend",
     "outputPrepend",
     "outputPrepend",
     "outputPrepend",
     "outputPrepend",
     "outputPrepend",
     "outputPrepend",
     "outputPrepend",
     "outputPrepend",
     "outputPrepend",
     "outputPrepend",
     "outputPrepend",
     "outputPrepend",
     "outputPrepend",
     "outputPrepend",
     "outputPrepend",
     "outputPrepend",
     "outputPrepend",
     "outputPrepend",
     "outputPrepend",
     "outputPrepend",
     "outputPrepend",
     "outputPrepend",
     "outputPrepend",
     "outputPrepend",
     "outputPrepend",
     "outputPrepend",
     "outputPrepend",
     "outputPrepend",
     "outputPrepend",
     "outputPrepend",
     "outputPrepend",
     "outputPrepend",
     "outputPrepend",
     "outputPrepend",
     "outputPrepend",
     "outputPrepend",
     "outputPrepend",
     "outputPrepend",
     "outputPrepend",
     "outputPrepend",
     "outputPrepend",
     "outputPrepend",
     "outputPrepend",
     "outputPrepend",
     "outputPrepend",
     "outputPrepend",
     "outputPrepend",
     "outputPrepend",
     "outputPrepend",
     "outputPrepend",
     "outputPrepend",
     "outputPrepend",
     "outputPrepend",
     "outputPrepend",
     "outputPrepend",
     "outputPrepend",
     "outputPrepend",
     "outputPrepend",
     "outputPrepend",
     "outputPrepend",
     "outputPrepend",
     "outputPrepend",
     "outputPrepend",
     "outputPrepend",
     "outputPrepend",
     "outputPrepend",
     "outputPrepend",
     "outputPrepend",
     "outputPrepend",
     "outputPrepend",
     "outputPrepend",
     "outputPrepend",
     "outputPrepend",
     "outputPrepend",
     "outputPrepend",
     "outputPrepend",
     "outputPrepend",
     "outputPrepend",
     "outputPrepend",
     "outputPrepend",
     "outputPrepend",
     "outputPrepend",
     "outputPrepend",
     "outputPrepend",
     "outputPrepend",
     "outputPrepend",
     "outputPrepend",
     "outputPrepend",
     "outputPrepend",
     "outputPrepend",
     "outputPrepend",
     "outputPrepend",
     "outputPrepend",
     "outputPrepend"
    ]
   },
   "outputs": [
    {
     "output_type": "stream",
     "name": "stdout",
     "text": "iter 0 finish, loss is 28.21666451600322\niter 1 finish, loss is 27.768125700793462\niter 2 finish, loss is 27.768125700793462\niter 3 finish, loss is 27.768125700793462\niter 4 finish, loss is 27.768125700793462\niter 5 finish, loss is 27.768125700793462\niter 6 finish, loss is 27.768125700793462\niter 7 finish, loss is 27.768125700793462\niter 8 finish, loss is 27.768125700793462\niter 9 finish, loss is 27.768125700793462\n"
    }
   ],
   "source": [
    "for epoch in range(10):\n",
    "    total_loss = 0\n",
    "    for batch, (prev, feature, target) in enumerate(train_loader):\n",
    "        inp = torch.autograd.Variable(torch.Tensor(prev.float())).to(device)\n",
    "        feat = torch.autograd.Variable(torch.Tensor(feature.float())).to(device)\n",
    "        target = torch.autograd.Variable(torch.Tensor(target.float())).to(device)\n",
    "        optimizer.zero_grad()\n",
    "        out = model(inp, feat)\n",
    "        loss = criterion(out, target)\n",
    "        loss.backward()\n",
    "        optimizer.step()\n",
    "        total_loss += loss.item()\n",
    "    print('iter {} finish, loss is {}'.format(epoch, total_loss))\n",
    "    if total_loss == np.nan:\n",
    "        break"
   ]
  },
  {
   "cell_type": "code",
   "execution_count": null,
   "metadata": {},
   "outputs": [],
   "source": []
  },
  {
   "cell_type": "code",
   "execution_count": null,
   "metadata": {},
   "outputs": [],
   "source": []
  }
 ],
 "metadata": {
  "kernelspec": {
   "display_name": "Python 3",
   "language": "python",
   "name": "python3"
  },
  "language_info": {
   "codemirror_mode": {
    "name": "ipython",
    "version": 3
   },
   "file_extension": ".py",
   "mimetype": "text/x-python",
   "name": "python",
   "nbconvert_exporter": "python",
   "pygments_lexer": "ipython3",
   "version": "3.7.4-final"
  }
 },
 "nbformat": 4,
 "nbformat_minor": 4
}